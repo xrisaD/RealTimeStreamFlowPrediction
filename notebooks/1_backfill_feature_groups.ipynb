{
 "cells": [
  {
   "cell_type": "markdown",
   "id": "28796bc1",
   "metadata": {
    "colab_type": "text",
    "id": "view-in-github"
   },
   "source": [
    "<a href=\"https://colab.research.google.com/github/xrisaD/ScalableMLProject/blob/main/1_backfill_feature_groups.ipynb\" target=\"_parent\"><img src=\"https://colab.research.google.com/assets/colab-badge.svg\" alt=\"Open In Colab\"/></a>"
   ]
  },
  {
   "cell_type": "markdown",
   "id": "73ee3ec9",
   "metadata": {
    "id": "73ee3ec9"
   },
   "source": [
    "# <span style=\"font-width:bold; font-size: 3rem; color:#1EB182;\"><img src=\"../../images/icon102.png\" width=\"38px\"></img> **Hopsworks Feature Store** </span><span style=\"font-width:bold; font-size: 3rem; color:#333;\">- Part 01: Backfill Features to the Feature Store</span>\n",
    "\n",
    "\n",
    "## 🗒️ This notebook is divided into the following sections:\n",
    "1. Fetch historical data\n",
    "2. Connect to the Hopsworks feature store\n",
    "3. Create feature groups and insert them to the feature store"
   ]
  },
  {
   "cell_type": "markdown",
   "id": "8f1175e8",
   "metadata": {},
   "source": [
    "## <span style='color:#ff5f27'> 📝 Imports"
   ]
  },
  {
   "cell_type": "code",
   "execution_count": 1,
   "id": "24778dfe",
   "metadata": {},
   "outputs": [],
   "source": [
    "import sys\n",
    "sys.path.append('../')"
   ]
  },
  {
   "cell_type": "code",
   "execution_count": 2,
   "id": "cd165941",
   "metadata": {
    "id": "cd165941"
   },
   "outputs": [],
   "source": [
    "import hopsworks\n",
    "from urllib.request import urlopen\n",
    "import pandas as pd\n",
    "import json\n",
    "\n",
    "from features.feature_engineering import timestamp_2_time"
   ]
  },
  {
   "cell_type": "markdown",
   "id": "ba9903fc",
   "metadata": {
    "id": "ba9903fc"
   },
   "source": [
    "---"
   ]
  },
  {
   "cell_type": "markdown",
   "id": "bb3fbd2a",
   "metadata": {
    "id": "bb3fbd2a"
   },
   "source": [
    "## <span style='color:#ff5f27'> Locations </span>\n"
   ]
  },
  {
   "cell_type": "code",
   "execution_count": 3,
   "id": "c44a3144",
   "metadata": {
    "id": "c44a3144"
   },
   "outputs": [],
   "source": [
    "place_list = ['Abisko', 'Uppsala', 'Spånga']\n",
    "\n",
    "place_streamflow = [2357, 2609, 2212]\n",
    "\n",
    "lat_long = [[ 68.35, 18.82],[59.87, 17.60], [58.00,12.73]]"
   ]
  },
  {
   "cell_type": "markdown",
   "id": "2246ca9d",
   "metadata": {
    "id": "2246ca9d"
   },
   "source": [
    "## <span style='color:#ff5f27'> 💽 Loading Historical Data</span>\n"
   ]
  },
  {
   "cell_type": "markdown",
   "id": "b4a1c5d1",
   "metadata": {
    "id": "b4a1c5d1"
   },
   "source": [
    "#### <span style='color:#ff5f27'> 👩🏻‍🔬 Streamflow Data"
   ]
  },
  {
   "cell_type": "code",
   "execution_count": 4,
   "id": "fd5e4b83",
   "metadata": {
    "colab": {
     "base_uri": "https://localhost:8080/"
    },
    "id": "fd5e4b83",
    "outputId": "74137cd7-cff7-49fc-b324-35e1136e6808"
   },
   "outputs": [
    {
     "data": {
      "text/plain": [
       "['https://opendata-download-hydroobs.smhi.se/api/version/latest/parameter/1/station/2357/period/corrected-archive/data.csv',\n",
       " 'https://opendata-download-hydroobs.smhi.se/api/version/latest/parameter/1/station/2609/period/corrected-archive/data.csv',\n",
       " 'https://opendata-download-hydroobs.smhi.se/api/version/latest/parameter/1/station/2212/period/corrected-archive/data.csv']"
      ]
     },
     "execution_count": 4,
     "metadata": {},
     "output_type": "execute_result"
    }
   ],
   "source": [
    "streamflow_api = 'https://opendata-download-hydroobs.smhi.se/api/version/latest/parameter/1/station/{}/period/corrected-archive/data.csv'\n",
    "streamflow_files = [streamflow_api.format(city) for city in place_streamflow]\n",
    "streamflow_files"
   ]
  },
  {
   "cell_type": "code",
   "execution_count": 5,
   "id": "8e605ce3",
   "metadata": {
    "colab": {
     "base_uri": "https://localhost:8080/",
     "height": 206
    },
    "id": "8e605ce3",
    "outputId": "3c026336-943d-430e-f399-80306ff6c76f"
   },
   "outputs": [
    {
     "data": {
      "text/html": [
       "<div>\n",
       "<style scoped>\n",
       "    .dataframe tbody tr th:only-of-type {\n",
       "        vertical-align: middle;\n",
       "    }\n",
       "\n",
       "    .dataframe tbody tr th {\n",
       "        vertical-align: top;\n",
       "    }\n",
       "\n",
       "    .dataframe thead th {\n",
       "        text-align: right;\n",
       "    }\n",
       "</style>\n",
       "<table border=\"1\" class=\"dataframe\">\n",
       "  <thead>\n",
       "    <tr style=\"text-align: right;\">\n",
       "      <th></th>\n",
       "      <th>date</th>\n",
       "      <th>streamflow</th>\n",
       "      <th>place</th>\n",
       "    </tr>\n",
       "  </thead>\n",
       "  <tbody>\n",
       "    <tr>\n",
       "      <th>0</th>\n",
       "      <td>1984-08-17</td>\n",
       "      <td>106.7242</td>\n",
       "      <td>Abisko</td>\n",
       "    </tr>\n",
       "    <tr>\n",
       "      <th>1</th>\n",
       "      <td>1984-08-18</td>\n",
       "      <td>103.7052</td>\n",
       "      <td>Abisko</td>\n",
       "    </tr>\n",
       "    <tr>\n",
       "      <th>2</th>\n",
       "      <td>1984-08-19</td>\n",
       "      <td>99.4413</td>\n",
       "      <td>Abisko</td>\n",
       "    </tr>\n",
       "    <tr>\n",
       "      <th>3</th>\n",
       "      <td>1984-08-20</td>\n",
       "      <td>93.1354</td>\n",
       "      <td>Abisko</td>\n",
       "    </tr>\n",
       "    <tr>\n",
       "      <th>4</th>\n",
       "      <td>1984-08-21</td>\n",
       "      <td>93.7860</td>\n",
       "      <td>Abisko</td>\n",
       "    </tr>\n",
       "  </tbody>\n",
       "</table>\n",
       "</div>"
      ],
      "text/plain": [
       "         date  streamflow   place\n",
       "0  1984-08-17    106.7242  Abisko\n",
       "1  1984-08-18    103.7052  Abisko\n",
       "2  1984-08-19     99.4413  Abisko\n",
       "3  1984-08-20     93.1354  Abisko\n",
       "4  1984-08-21     93.7860  Abisko"
      ]
     },
     "execution_count": 5,
     "metadata": {},
     "output_type": "execute_result"
    }
   ],
   "source": [
    "df_streamflow = pd.DataFrame()\n",
    "\n",
    "for file, place in zip(streamflow_files, place_list):\n",
    "    df_new = pd.read_csv(file, delimiter=';', skiprows=7, names=[\"date\", \"streamflow\"]+[str(x) for x in range(4)], usecols=range(2))\n",
    "    df_new['place'] = place\n",
    "    df_streamflow = pd.concat([df_streamflow, df_new])\n",
    "df_streamflow.head()"
   ]
  },
  {
   "cell_type": "code",
   "execution_count": 6,
   "id": "TZ1jjjNYjIDV",
   "metadata": {
    "colab": {
     "base_uri": "https://localhost:8080/"
    },
    "id": "TZ1jjjNYjIDV",
    "outputId": "0c471c2a-2082-4e59-99d3-ffbaeed96278"
   },
   "outputs": [
    {
     "name": "stdout",
     "output_type": "stream",
     "text": [
      "['1984-08-17' '1984-08-18' '1984-08-19' ... '1984-08-14' '1984-08-15'\n",
      " '1984-08-16']\n",
      "16151\n"
     ]
    }
   ],
   "source": [
    "print(df_streamflow.date.unique())\n",
    "print(len(df_streamflow.date.unique()))"
   ]
  },
  {
   "cell_type": "code",
   "execution_count": 7,
   "id": "uU0pWUHFoHWC",
   "metadata": {
    "id": "uU0pWUHFoHWC"
   },
   "outputs": [],
   "source": [
    "df_streamflow['date'] = pd.to_datetime(df_streamflow['date'])"
   ]
  },
  {
   "cell_type": "markdown",
   "id": "unhS_iD5o1Dz",
   "metadata": {
    "id": "unhS_iD5o1Dz"
   },
   "source": [
    "We delete all the data before 2021-01-01."
   ]
  },
  {
   "cell_type": "code",
   "execution_count": 8,
   "id": "YAlMibuEm0v9",
   "metadata": {
    "id": "YAlMibuEm0v9"
   },
   "outputs": [],
   "source": [
    "df_streamflow_2 = df_streamflow[~(df_streamflow['date'] < '2021-01-01')]"
   ]
  },
  {
   "cell_type": "code",
   "execution_count": 9,
   "id": "sIxYvRY9qA9N",
   "metadata": {
    "colab": {
     "base_uri": "https://localhost:8080/"
    },
    "id": "sIxYvRY9qA9N",
    "outputId": "4dfd56ba-9f0e-40e5-d2a3-efacfe12390b"
   },
   "outputs": [
    {
     "name": "stderr",
     "output_type": "stream",
     "text": [
      "SettingWithCopyWarning: \n",
      "A value is trying to be set on a copy of a slice from a DataFrame.\n",
      "Try using .loc[row_indexer,col_indexer] = value instead\n",
      "\n",
      "See the caveats in the documentation: https://pandas.pydata.org/pandas-docs/stable/user_guide/indexing.html#returning-a-view-versus-a-copy\n"
     ]
    }
   ],
   "source": [
    "df_streamflow_2['date'] = df_streamflow_2['date'].dt.date"
   ]
  },
  {
   "cell_type": "code",
   "execution_count": 10,
   "id": "vZtcraclqMEG",
   "metadata": {
    "colab": {
     "base_uri": "https://localhost:8080/",
     "height": 206
    },
    "id": "vZtcraclqMEG",
    "outputId": "15bd1938-5a31-44cc-d0ab-3f66437a65ff"
   },
   "outputs": [
    {
     "data": {
      "text/html": [
       "<div>\n",
       "<style scoped>\n",
       "    .dataframe tbody tr th:only-of-type {\n",
       "        vertical-align: middle;\n",
       "    }\n",
       "\n",
       "    .dataframe tbody tr th {\n",
       "        vertical-align: top;\n",
       "    }\n",
       "\n",
       "    .dataframe thead th {\n",
       "        text-align: right;\n",
       "    }\n",
       "</style>\n",
       "<table border=\"1\" class=\"dataframe\">\n",
       "  <thead>\n",
       "    <tr style=\"text-align: right;\">\n",
       "      <th></th>\n",
       "      <th>date</th>\n",
       "      <th>streamflow</th>\n",
       "      <th>place</th>\n",
       "    </tr>\n",
       "  </thead>\n",
       "  <tbody>\n",
       "    <tr>\n",
       "      <th>13286</th>\n",
       "      <td>2021-01-01</td>\n",
       "      <td>28.7626</td>\n",
       "      <td>Abisko</td>\n",
       "    </tr>\n",
       "    <tr>\n",
       "      <th>13287</th>\n",
       "      <td>2021-01-02</td>\n",
       "      <td>28.0917</td>\n",
       "      <td>Abisko</td>\n",
       "    </tr>\n",
       "    <tr>\n",
       "      <th>13288</th>\n",
       "      <td>2021-01-03</td>\n",
       "      <td>27.6631</td>\n",
       "      <td>Abisko</td>\n",
       "    </tr>\n",
       "    <tr>\n",
       "      <th>13289</th>\n",
       "      <td>2021-01-04</td>\n",
       "      <td>27.3627</td>\n",
       "      <td>Abisko</td>\n",
       "    </tr>\n",
       "    <tr>\n",
       "      <th>13290</th>\n",
       "      <td>2021-01-05</td>\n",
       "      <td>27.2880</td>\n",
       "      <td>Abisko</td>\n",
       "    </tr>\n",
       "  </tbody>\n",
       "</table>\n",
       "</div>"
      ],
      "text/plain": [
       "             date  streamflow   place\n",
       "13286  2021-01-01     28.7626  Abisko\n",
       "13287  2021-01-02     28.0917  Abisko\n",
       "13288  2021-01-03     27.6631  Abisko\n",
       "13289  2021-01-04     27.3627  Abisko\n",
       "13290  2021-01-05     27.2880  Abisko"
      ]
     },
     "execution_count": 10,
     "metadata": {},
     "output_type": "execute_result"
    }
   ],
   "source": [
    "df_streamflow_2.head()"
   ]
  },
  {
   "cell_type": "code",
   "execution_count": 11,
   "id": "e7c884b9",
   "metadata": {
    "colab": {
     "base_uri": "https://localhost:8080/",
     "height": 362
    },
    "id": "e7c884b9",
    "outputId": "72d6302b-c1b7-44e2-f7e6-831797282afd"
   },
   "outputs": [
    {
     "name": "stderr",
     "output_type": "stream",
     "text": [
      "SettingWithCopyWarning: \n",
      "A value is trying to be set on a copy of a slice from a DataFrame.\n",
      "Try using .loc[row_indexer,col_indexer] = value instead\n",
      "\n",
      "See the caveats in the documentation: https://pandas.pydata.org/pandas-docs/stable/user_guide/indexing.html#returning-a-view-versus-a-copy\n",
      "SettingWithCopyWarning: \n",
      "A value is trying to be set on a copy of a slice from a DataFrame\n",
      "\n",
      "See the caveats in the documentation: https://pandas.pydata.org/pandas-docs/stable/user_guide/indexing.html#returning-a-view-versus-a-copy\n"
     ]
    },
    {
     "data": {
      "text/html": [
       "<div>\n",
       "<style scoped>\n",
       "    .dataframe tbody tr th:only-of-type {\n",
       "        vertical-align: middle;\n",
       "    }\n",
       "\n",
       "    .dataframe tbody tr th {\n",
       "        vertical-align: top;\n",
       "    }\n",
       "\n",
       "    .dataframe thead th {\n",
       "        text-align: right;\n",
       "    }\n",
       "</style>\n",
       "<table border=\"1\" class=\"dataframe\">\n",
       "  <thead>\n",
       "    <tr style=\"text-align: right;\">\n",
       "      <th></th>\n",
       "      <th>date</th>\n",
       "      <th>streamflow</th>\n",
       "      <th>place</th>\n",
       "    </tr>\n",
       "  </thead>\n",
       "  <tbody>\n",
       "    <tr>\n",
       "      <th>0</th>\n",
       "      <td>1609455600000</td>\n",
       "      <td>28.7626</td>\n",
       "      <td>Abisko</td>\n",
       "    </tr>\n",
       "    <tr>\n",
       "      <th>1</th>\n",
       "      <td>1609542000000</td>\n",
       "      <td>28.0917</td>\n",
       "      <td>Abisko</td>\n",
       "    </tr>\n",
       "    <tr>\n",
       "      <th>2</th>\n",
       "      <td>1609628400000</td>\n",
       "      <td>27.6631</td>\n",
       "      <td>Abisko</td>\n",
       "    </tr>\n",
       "    <tr>\n",
       "      <th>3</th>\n",
       "      <td>1609714800000</td>\n",
       "      <td>27.3627</td>\n",
       "      <td>Abisko</td>\n",
       "    </tr>\n",
       "    <tr>\n",
       "      <th>4</th>\n",
       "      <td>1609801200000</td>\n",
       "      <td>27.2880</td>\n",
       "      <td>Abisko</td>\n",
       "    </tr>\n",
       "  </tbody>\n",
       "</table>\n",
       "</div>"
      ],
      "text/plain": [
       "            date  streamflow   place\n",
       "0  1609455600000     28.7626  Abisko\n",
       "1  1609542000000     28.0917  Abisko\n",
       "2  1609628400000     27.6631  Abisko\n",
       "3  1609714800000     27.3627  Abisko\n",
       "4  1609801200000     27.2880  Abisko"
      ]
     },
     "execution_count": 11,
     "metadata": {},
     "output_type": "execute_result"
    }
   ],
   "source": [
    "df_streamflow_2.date = df_streamflow_2.date.apply(timestamp_2_time)\n",
    "df_streamflow_2.sort_values(by = ['place','date'], inplace = True, ignore_index = True)\n",
    "\n",
    "df_streamflow_2.head()"
   ]
  },
  {
   "cell_type": "markdown",
   "id": "4687e802",
   "metadata": {
    "id": "4687e802"
   },
   "source": [
    "#### <span style='color:#ff5f27'> 🌦 Weather Data\n",
    "\n",
    "In order to load the Weather Data, we needed to do many API calls and join the columns based on the common columns. "
   ]
  },
  {
   "cell_type": "code",
   "execution_count": 27,
   "id": "hkRX3hGorEft",
   "metadata": {
    "id": "hkRX3hGorEft"
   },
   "outputs": [],
   "source": [
    "weather_api =\"https://archive-api.open-meteo.com/v1/era5?timezone=Europe/Berlin&latitude={}&longitude={}&start_date=2021-01-01&end_date=2022-12-17&daily=temperature_2m_max,temperature_2m_min,precipitation_sum,rain_sum,snowfall_sum,precipitation_hours,windspeed_10m_max,windgusts_10m_max,winddirection_10m_dominant,et0_fao_evapotranspiration\""
   ]
  },
  {
   "cell_type": "code",
   "execution_count": 28,
   "id": "w6AWjkTlJNUD",
   "metadata": {
    "id": "w6AWjkTlJNUD"
   },
   "outputs": [],
   "source": [
    "weather_files = [weather_api.format(ll[0], ll[1]) for ll in lat_long]"
   ]
  },
  {
   "cell_type": "code",
   "execution_count": 29,
   "id": "aL-FoWuxGGfa",
   "metadata": {
    "id": "aL-FoWuxGGfa"
   },
   "outputs": [],
   "source": [
    "df_weather = pd.DataFrame()\n",
    "\n",
    "for url, place in zip(weather_files, place_list):\n",
    "  response = urlopen(url)\n",
    "  data_json = json.loads(response.read())\n",
    "  df_new = pd.DataFrame.from_dict(data_json['daily'], orient=\"columns\")\n",
    "  df_new['place'] = place\n",
    "  df_weather = pd.concat([df_weather, df_new])"
   ]
  },
  {
   "cell_type": "code",
   "execution_count": 30,
   "id": "k-pm1MSbKgKh",
   "metadata": {
    "id": "k-pm1MSbKgKh"
   },
   "outputs": [],
   "source": [
    "df_weather = df_weather.rename(columns={\"time\": \"date\"})"
   ]
  },
  {
   "cell_type": "code",
   "execution_count": 31,
   "id": "8d5dcd0a",
   "metadata": {
    "colab": {
     "base_uri": "https://localhost:8080/",
     "height": 207
    },
    "id": "8d5dcd0a",
    "outputId": "83e58c74-9be6-4db1-9cf9-cb8bd7dd89a3"
   },
   "outputs": [
    {
     "data": {
      "text/html": [
       "<div>\n",
       "<style scoped>\n",
       "    .dataframe tbody tr th:only-of-type {\n",
       "        vertical-align: middle;\n",
       "    }\n",
       "\n",
       "    .dataframe tbody tr th {\n",
       "        vertical-align: top;\n",
       "    }\n",
       "\n",
       "    .dataframe thead th {\n",
       "        text-align: right;\n",
       "    }\n",
       "</style>\n",
       "<table border=\"1\" class=\"dataframe\">\n",
       "  <thead>\n",
       "    <tr style=\"text-align: right;\">\n",
       "      <th></th>\n",
       "      <th>date</th>\n",
       "      <th>temperature_2m_max</th>\n",
       "      <th>temperature_2m_min</th>\n",
       "      <th>precipitation_sum</th>\n",
       "      <th>rain_sum</th>\n",
       "      <th>snowfall_sum</th>\n",
       "      <th>precipitation_hours</th>\n",
       "      <th>windspeed_10m_max</th>\n",
       "      <th>windgusts_10m_max</th>\n",
       "      <th>winddirection_10m_dominant</th>\n",
       "      <th>et0_fao_evapotranspiration</th>\n",
       "      <th>place</th>\n",
       "    </tr>\n",
       "  </thead>\n",
       "  <tbody>\n",
       "    <tr>\n",
       "      <th>0</th>\n",
       "      <td>1609455600000</td>\n",
       "      <td>-3.3</td>\n",
       "      <td>-10.9</td>\n",
       "      <td>0.0</td>\n",
       "      <td>0.0</td>\n",
       "      <td>0.00</td>\n",
       "      <td>0.0</td>\n",
       "      <td>11.3</td>\n",
       "      <td>38.9</td>\n",
       "      <td>123.0</td>\n",
       "      <td>0.00</td>\n",
       "      <td>Abisko</td>\n",
       "    </tr>\n",
       "    <tr>\n",
       "      <th>1</th>\n",
       "      <td>1609542000000</td>\n",
       "      <td>-0.8</td>\n",
       "      <td>-10.5</td>\n",
       "      <td>0.3</td>\n",
       "      <td>0.0</td>\n",
       "      <td>0.77</td>\n",
       "      <td>3.0</td>\n",
       "      <td>5.4</td>\n",
       "      <td>22.3</td>\n",
       "      <td>207.0</td>\n",
       "      <td>0.00</td>\n",
       "      <td>Abisko</td>\n",
       "    </tr>\n",
       "    <tr>\n",
       "      <th>2</th>\n",
       "      <td>1609628400000</td>\n",
       "      <td>-1.1</td>\n",
       "      <td>-4.1</td>\n",
       "      <td>0.0</td>\n",
       "      <td>0.0</td>\n",
       "      <td>0.14</td>\n",
       "      <td>0.0</td>\n",
       "      <td>5.2</td>\n",
       "      <td>22.3</td>\n",
       "      <td>228.0</td>\n",
       "      <td>0.00</td>\n",
       "      <td>Abisko</td>\n",
       "    </tr>\n",
       "    <tr>\n",
       "      <th>3</th>\n",
       "      <td>1609714800000</td>\n",
       "      <td>0.5</td>\n",
       "      <td>-3.7</td>\n",
       "      <td>1.1</td>\n",
       "      <td>0.0</td>\n",
       "      <td>0.91</td>\n",
       "      <td>8.0</td>\n",
       "      <td>6.9</td>\n",
       "      <td>29.9</td>\n",
       "      <td>241.0</td>\n",
       "      <td>0.00</td>\n",
       "      <td>Abisko</td>\n",
       "    </tr>\n",
       "    <tr>\n",
       "      <th>4</th>\n",
       "      <td>1609801200000</td>\n",
       "      <td>1.6</td>\n",
       "      <td>0.3</td>\n",
       "      <td>0.3</td>\n",
       "      <td>0.0</td>\n",
       "      <td>1.12</td>\n",
       "      <td>3.0</td>\n",
       "      <td>4.6</td>\n",
       "      <td>24.1</td>\n",
       "      <td>210.0</td>\n",
       "      <td>0.00</td>\n",
       "      <td>Abisko</td>\n",
       "    </tr>\n",
       "    <tr>\n",
       "      <th>5</th>\n",
       "      <td>1609887600000</td>\n",
       "      <td>2.1</td>\n",
       "      <td>-3.5</td>\n",
       "      <td>0.3</td>\n",
       "      <td>0.0</td>\n",
       "      <td>0.56</td>\n",
       "      <td>3.0</td>\n",
       "      <td>8.7</td>\n",
       "      <td>27.4</td>\n",
       "      <td>161.0</td>\n",
       "      <td>0.00</td>\n",
       "      <td>Abisko</td>\n",
       "    </tr>\n",
       "    <tr>\n",
       "      <th>6</th>\n",
       "      <td>1609974000000</td>\n",
       "      <td>-3.1</td>\n",
       "      <td>-11.8</td>\n",
       "      <td>0.0</td>\n",
       "      <td>0.0</td>\n",
       "      <td>0.00</td>\n",
       "      <td>0.0</td>\n",
       "      <td>9.0</td>\n",
       "      <td>27.0</td>\n",
       "      <td>134.0</td>\n",
       "      <td>0.00</td>\n",
       "      <td>Abisko</td>\n",
       "    </tr>\n",
       "    <tr>\n",
       "      <th>7</th>\n",
       "      <td>1610060400000</td>\n",
       "      <td>-11.7</td>\n",
       "      <td>-14.8</td>\n",
       "      <td>0.0</td>\n",
       "      <td>0.0</td>\n",
       "      <td>0.00</td>\n",
       "      <td>0.0</td>\n",
       "      <td>8.7</td>\n",
       "      <td>23.0</td>\n",
       "      <td>140.0</td>\n",
       "      <td>0.00</td>\n",
       "      <td>Abisko</td>\n",
       "    </tr>\n",
       "    <tr>\n",
       "      <th>8</th>\n",
       "      <td>1610146800000</td>\n",
       "      <td>-11.4</td>\n",
       "      <td>-14.5</td>\n",
       "      <td>0.0</td>\n",
       "      <td>0.0</td>\n",
       "      <td>0.00</td>\n",
       "      <td>0.0</td>\n",
       "      <td>13.1</td>\n",
       "      <td>43.2</td>\n",
       "      <td>130.0</td>\n",
       "      <td>0.01</td>\n",
       "      <td>Abisko</td>\n",
       "    </tr>\n",
       "    <tr>\n",
       "      <th>9</th>\n",
       "      <td>1610233200000</td>\n",
       "      <td>-5.9</td>\n",
       "      <td>-11.3</td>\n",
       "      <td>0.0</td>\n",
       "      <td>0.0</td>\n",
       "      <td>0.21</td>\n",
       "      <td>0.0</td>\n",
       "      <td>13.1</td>\n",
       "      <td>44.6</td>\n",
       "      <td>130.0</td>\n",
       "      <td>0.03</td>\n",
       "      <td>Abisko</td>\n",
       "    </tr>\n",
       "  </tbody>\n",
       "</table>\n",
       "</div>"
      ],
      "text/plain": [
       "            date  temperature_2m_max  temperature_2m_min  precipitation_sum  \\\n",
       "0  1609455600000                -3.3               -10.9                0.0   \n",
       "1  1609542000000                -0.8               -10.5                0.3   \n",
       "2  1609628400000                -1.1                -4.1                0.0   \n",
       "3  1609714800000                 0.5                -3.7                1.1   \n",
       "4  1609801200000                 1.6                 0.3                0.3   \n",
       "5  1609887600000                 2.1                -3.5                0.3   \n",
       "6  1609974000000                -3.1               -11.8                0.0   \n",
       "7  1610060400000               -11.7               -14.8                0.0   \n",
       "8  1610146800000               -11.4               -14.5                0.0   \n",
       "9  1610233200000                -5.9               -11.3                0.0   \n",
       "\n",
       "   rain_sum  snowfall_sum  precipitation_hours  windspeed_10m_max  \\\n",
       "0       0.0          0.00                  0.0               11.3   \n",
       "1       0.0          0.77                  3.0                5.4   \n",
       "2       0.0          0.14                  0.0                5.2   \n",
       "3       0.0          0.91                  8.0                6.9   \n",
       "4       0.0          1.12                  3.0                4.6   \n",
       "5       0.0          0.56                  3.0                8.7   \n",
       "6       0.0          0.00                  0.0                9.0   \n",
       "7       0.0          0.00                  0.0                8.7   \n",
       "8       0.0          0.00                  0.0               13.1   \n",
       "9       0.0          0.21                  0.0               13.1   \n",
       "\n",
       "   windgusts_10m_max  winddirection_10m_dominant  et0_fao_evapotranspiration  \\\n",
       "0               38.9                       123.0                        0.00   \n",
       "1               22.3                       207.0                        0.00   \n",
       "2               22.3                       228.0                        0.00   \n",
       "3               29.9                       241.0                        0.00   \n",
       "4               24.1                       210.0                        0.00   \n",
       "5               27.4                       161.0                        0.00   \n",
       "6               27.0                       134.0                        0.00   \n",
       "7               23.0                       140.0                        0.00   \n",
       "8               43.2                       130.0                        0.01   \n",
       "9               44.6                       130.0                        0.03   \n",
       "\n",
       "    place  \n",
       "0  Abisko  \n",
       "1  Abisko  \n",
       "2  Abisko  \n",
       "3  Abisko  \n",
       "4  Abisko  \n",
       "5  Abisko  \n",
       "6  Abisko  \n",
       "7  Abisko  \n",
       "8  Abisko  \n",
       "9  Abisko  "
      ]
     },
     "execution_count": 31,
     "metadata": {},
     "output_type": "execute_result"
    }
   ],
   "source": [
    "df_weather.date = df_weather.date.apply(timestamp_2_time)\n",
    "df_weather.sort_values(by=['place', 'date'],inplace=True, ignore_index=True)\n",
    "\n",
    "df_weather.head(10)"
   ]
  },
  {
   "cell_type": "markdown",
   "id": "cc9b7ad6",
   "metadata": {
    "id": "cc9b7ad6"
   },
   "source": [
    "---"
   ]
  },
  {
   "cell_type": "markdown",
   "id": "cb6f83ba",
   "metadata": {
    "id": "cb6f83ba"
   },
   "source": [
    "## <span style=\"color:#ff5f27;\"> 🔮 Connecting to Hopsworks Feature Store </span>"
   ]
  },
  {
   "cell_type": "code",
   "execution_count": 32,
   "id": "dd068240",
   "metadata": {
    "colab": {
     "base_uri": "https://localhost:8080/"
    },
    "id": "dd068240",
    "outputId": "f037bf1c-3156-49c7-b0a8-cca372fa617f"
   },
   "outputs": [
    {
     "name": "stdout",
     "output_type": "stream",
     "text": [
      "Copy your Api Key (first register/login): https://c.app.hopsworks.ai/account/api/generated\n",
      "\n",
      "Paste it here: ········\n",
      "Connected. Call `.close()` to terminate connection gracefully.\n",
      "\n",
      "Logged in to project, explore it here https://c.app.hopsworks.ai:443/p/5318\n"
     ]
    },
    {
     "name": "stderr",
     "output_type": "stream",
     "text": [
      "DeprecationWarning: the imp module is deprecated in favour of importlib; see the module's documentation for alternative uses\n"
     ]
    },
    {
     "name": "stdout",
     "output_type": "stream",
     "text": [
      "Connected. Call `.close()` to terminate connection gracefully.\n"
     ]
    }
   ],
   "source": [
    "project = hopsworks.login()\n",
    "fs = project.get_feature_store() "
   ]
  },
  {
   "cell_type": "markdown",
   "id": "5d512806",
   "metadata": {
    "id": "5d512806"
   },
   "source": [
    "---"
   ]
  },
  {
   "cell_type": "markdown",
   "id": "63d8c3b9",
   "metadata": {
    "id": "63d8c3b9"
   },
   "source": [
    "## <span style=\"color:#ff5f27;\">🪄 Creating Feature Groups</span>"
   ]
  },
  {
   "cell_type": "markdown",
   "id": "4a2515c4",
   "metadata": {
    "id": "4a2515c4"
   },
   "source": [
    "#### <span style='color:#ff5f27'> 👩🏻‍🔬 FlowStream Data"
   ]
  },
  {
   "cell_type": "code",
   "execution_count": 33,
   "id": "9d7088a8",
   "metadata": {
    "colab": {
     "base_uri": "https://localhost:8080/",
     "height": 153,
     "referenced_widgets": [
      "d98dc8ea48c3460e95893f71a1a67567",
      "0593908606434119a5574aeb269c2a50",
      "8d36c0a37ab64bec82fba27b1594e261",
      "12dd10258d624359b5ff4087fbe7f7da",
      "bee4a414438d4fc8a0304785df21665b",
      "ea8af04f18d143b1b07c7fe5b68658e8",
      "3d38c18ea90f4e5f8baa8a495f182146",
      "a29c68b615c94e079216ea445dfc7907",
      "cfa2872bb4444da9996d1b17325f460f",
      "f5c7fac3592d4eb8a52ef674d56d9f1d",
      "2153e708976c402492bdf71ce96bcf1f"
     ]
    },
    "id": "9d7088a8",
    "outputId": "1cdb46c0-3109-4a32-bbbd-d3c6c4e90d3d"
   },
   "outputs": [
    {
     "name": "stdout",
     "output_type": "stream",
     "text": [
      "Feature Group created successfully, explore it at \n",
      "https://c.app.hopsworks.ai:443/p/5318/fs/5238/fg/9557\n"
     ]
    },
    {
     "data": {
      "application/vnd.jupyter.widget-view+json": {
       "model_id": "47859d224baf4e4cbf653c8e0218e173",
       "version_major": 2,
       "version_minor": 0
      },
      "text/plain": [
       "Uploading Dataframe: 0.00% |          | Rows 0/2080 | Elapsed Time: 00:00 | Remaining Time: ?"
      ]
     },
     "metadata": {},
     "output_type": "display_data"
    },
    {
     "name": "stdout",
     "output_type": "stream",
     "text": [
      "Launching offline feature group backfill job...\n",
      "Backfill Job started successfully, you can follow the progress at \n",
      "https://c.app.hopsworks.ai/p/5318/jobs/named/streamflow_fg_1_offline_fg_backfill/executions\n"
     ]
    },
    {
     "data": {
      "text/plain": [
       "(<hsfs.core.job.Job at 0x2e848026d00>, None)"
      ]
     },
     "execution_count": 33,
     "metadata": {},
     "output_type": "execute_result"
    }
   ],
   "source": [
    "flowstream_fg = fs.get_or_create_feature_group(\n",
    "        name = 'streamflow_fg',\n",
    "        description = 'Streamflow characteristics of each day',\n",
    "        version = 1,\n",
    "        primary_key = ['place','date'],\n",
    "        online_enabled = True,\n",
    "        event_time = 'date'\n",
    "    )    \n",
    "\n",
    "flowstream_fg.insert(df_streamflow_2)"
   ]
  },
  {
   "cell_type": "markdown",
   "id": "a73a9029",
   "metadata": {
    "id": "a73a9029"
   },
   "source": [
    "#### <span style='color:#ff5f27'> 🌦 Weather Data"
   ]
  },
  {
   "cell_type": "code",
   "execution_count": 34,
   "id": "sdUB8qwQzFRf",
   "metadata": {
    "colab": {
     "base_uri": "https://localhost:8080/",
     "height": 153,
     "referenced_widgets": [
      "89e11e9b45d04623b69304665865df27",
      "85340253aeef468aa38198164de96616",
      "d07b0259664041009d31857dcbfbe35f",
      "ba0a5c2f278d4f3eaf261a6b0f8fb57f",
      "d953b626345941a98e41a234150549dc",
      "3e8239d88e484195a60c8ddb980cf99a",
      "d5c5d84bd8c94913b63e9c03912d7223",
      "e376bc264c1a444c82ce1efc67f8ddf9",
      "b7b176248bb94cdd9bef6e3e54956b61",
      "ca18f561d05543e8bbd49e97ec6c6c3f",
      "1526fe45ee224c7796668f2282808ca2"
     ]
    },
    "id": "sdUB8qwQzFRf",
    "outputId": "dc8f305e-3c31-4ebf-f74a-9624744af954"
   },
   "outputs": [
    {
     "name": "stdout",
     "output_type": "stream",
     "text": [
      "Feature Group created successfully, explore it at \n",
      "https://c.app.hopsworks.ai:443/p/5318/fs/5238/fg/9558\n"
     ]
    },
    {
     "data": {
      "application/vnd.jupyter.widget-view+json": {
       "model_id": "3d9b1e5f75f14c9fa8fa976e438dcebd",
       "version_major": 2,
       "version_minor": 0
      },
      "text/plain": [
       "Uploading Dataframe: 0.00% |          | Rows 0/2148 | Elapsed Time: 00:00 | Remaining Time: ?"
      ]
     },
     "metadata": {},
     "output_type": "display_data"
    },
    {
     "name": "stdout",
     "output_type": "stream",
     "text": [
      "Launching offline feature group backfill job...\n",
      "Backfill Job started successfully, you can follow the progress at \n",
      "https://c.app.hopsworks.ai/p/5318/jobs/named/weather_fg_1_offline_fg_backfill/executions\n"
     ]
    },
    {
     "data": {
      "text/plain": [
       "(<hsfs.core.job.Job at 0x2e84805ad90>, None)"
      ]
     },
     "execution_count": 34,
     "metadata": {},
     "output_type": "execute_result"
    }
   ],
   "source": [
    "weather_fg = fs.get_or_create_feature_group(\n",
    "        name = 'weather_fg',\n",
    "        description = 'Weather characteristics of each day',\n",
    "        version = 1,\n",
    "        primary_key = ['place','date'],\n",
    "        online_enabled = True,\n",
    "        event_time = 'date'\n",
    "    )    \n",
    "\n",
    "weather_fg.insert(df_weather)"
   ]
  },
  {
   "cell_type": "markdown",
   "id": "c396d9ac",
   "metadata": {
    "id": "c396d9ac"
   },
   "source": [
    "---"
   ]
  }
 ],
 "metadata": {
  "colab": {
   "include_colab_link": true,
   "provenance": []
  },
  "kernelspec": {
   "display_name": "Python 3 (ipykernel)",
   "language": "python",
   "name": "python3"
  },
  "language_info": {
   "codemirror_mode": {
    "name": "ipython",
    "version": 3
   },
   "file_extension": ".py",
   "mimetype": "text/x-python",
   "name": "python",
   "nbconvert_exporter": "python",
   "pygments_lexer": "ipython3",
   "version": "3.9.15"
  },
  "widgets": {
   "application/vnd.jupyter.widget-state+json": {
    "0593908606434119a5574aeb269c2a50": {
     "model_module": "@jupyter-widgets/controls",
     "model_module_version": "1.5.0",
     "model_name": "HTMLModel",
     "state": {
      "_dom_classes": [],
      "_model_module": "@jupyter-widgets/controls",
      "_model_module_version": "1.5.0",
      "_model_name": "HTMLModel",
      "_view_count": null,
      "_view_module": "@jupyter-widgets/controls",
      "_view_module_version": "1.5.0",
      "_view_name": "HTMLView",
      "description": "",
      "description_tooltip": null,
      "layout": "IPY_MODEL_ea8af04f18d143b1b07c7fe5b68658e8",
      "placeholder": "​",
      "style": "IPY_MODEL_3d38c18ea90f4e5f8baa8a495f182146",
      "value": "Uploading Dataframe: 100.00% "
     }
    },
    "12dd10258d624359b5ff4087fbe7f7da": {
     "model_module": "@jupyter-widgets/controls",
     "model_module_version": "1.5.0",
     "model_name": "HTMLModel",
     "state": {
      "_dom_classes": [],
      "_model_module": "@jupyter-widgets/controls",
      "_model_module_version": "1.5.0",
      "_model_name": "HTMLModel",
      "_view_count": null,
      "_view_module": "@jupyter-widgets/controls",
      "_view_module_version": "1.5.0",
      "_view_name": "HTMLView",
      "description": "",
      "description_tooltip": null,
      "layout": "IPY_MODEL_f5c7fac3592d4eb8a52ef674d56d9f1d",
      "placeholder": "​",
      "style": "IPY_MODEL_2153e708976c402492bdf71ce96bcf1f",
      "value": " Rows 2077/2077 | Elapsed Time: 00:01 | Remaining Time: 00:00"
     }
    },
    "1526fe45ee224c7796668f2282808ca2": {
     "model_module": "@jupyter-widgets/controls",
     "model_module_version": "1.5.0",
     "model_name": "DescriptionStyleModel",
     "state": {
      "_model_module": "@jupyter-widgets/controls",
      "_model_module_version": "1.5.0",
      "_model_name": "DescriptionStyleModel",
      "_view_count": null,
      "_view_module": "@jupyter-widgets/base",
      "_view_module_version": "1.2.0",
      "_view_name": "StyleView",
      "description_width": ""
     }
    },
    "2153e708976c402492bdf71ce96bcf1f": {
     "model_module": "@jupyter-widgets/controls",
     "model_module_version": "1.5.0",
     "model_name": "DescriptionStyleModel",
     "state": {
      "_model_module": "@jupyter-widgets/controls",
      "_model_module_version": "1.5.0",
      "_model_name": "DescriptionStyleModel",
      "_view_count": null,
      "_view_module": "@jupyter-widgets/base",
      "_view_module_version": "1.2.0",
      "_view_name": "StyleView",
      "description_width": ""
     }
    },
    "3d38c18ea90f4e5f8baa8a495f182146": {
     "model_module": "@jupyter-widgets/controls",
     "model_module_version": "1.5.0",
     "model_name": "DescriptionStyleModel",
     "state": {
      "_model_module": "@jupyter-widgets/controls",
      "_model_module_version": "1.5.0",
      "_model_name": "DescriptionStyleModel",
      "_view_count": null,
      "_view_module": "@jupyter-widgets/base",
      "_view_module_version": "1.2.0",
      "_view_name": "StyleView",
      "description_width": ""
     }
    },
    "3e8239d88e484195a60c8ddb980cf99a": {
     "model_module": "@jupyter-widgets/base",
     "model_module_version": "1.2.0",
     "model_name": "LayoutModel",
     "state": {
      "_model_module": "@jupyter-widgets/base",
      "_model_module_version": "1.2.0",
      "_model_name": "LayoutModel",
      "_view_count": null,
      "_view_module": "@jupyter-widgets/base",
      "_view_module_version": "1.2.0",
      "_view_name": "LayoutView",
      "align_content": null,
      "align_items": null,
      "align_self": null,
      "border": null,
      "bottom": null,
      "display": null,
      "flex": null,
      "flex_flow": null,
      "grid_area": null,
      "grid_auto_columns": null,
      "grid_auto_flow": null,
      "grid_auto_rows": null,
      "grid_column": null,
      "grid_gap": null,
      "grid_row": null,
      "grid_template_areas": null,
      "grid_template_columns": null,
      "grid_template_rows": null,
      "height": null,
      "justify_content": null,
      "justify_items": null,
      "left": null,
      "margin": null,
      "max_height": null,
      "max_width": null,
      "min_height": null,
      "min_width": null,
      "object_fit": null,
      "object_position": null,
      "order": null,
      "overflow": null,
      "overflow_x": null,
      "overflow_y": null,
      "padding": null,
      "right": null,
      "top": null,
      "visibility": null,
      "width": null
     }
    },
    "85340253aeef468aa38198164de96616": {
     "model_module": "@jupyter-widgets/controls",
     "model_module_version": "1.5.0",
     "model_name": "HTMLModel",
     "state": {
      "_dom_classes": [],
      "_model_module": "@jupyter-widgets/controls",
      "_model_module_version": "1.5.0",
      "_model_name": "HTMLModel",
      "_view_count": null,
      "_view_module": "@jupyter-widgets/controls",
      "_view_module_version": "1.5.0",
      "_view_name": "HTMLView",
      "description": "",
      "description_tooltip": null,
      "layout": "IPY_MODEL_3e8239d88e484195a60c8ddb980cf99a",
      "placeholder": "​",
      "style": "IPY_MODEL_d5c5d84bd8c94913b63e9c03912d7223",
      "value": "Uploading Dataframe: 100.00% "
     }
    },
    "89e11e9b45d04623b69304665865df27": {
     "model_module": "@jupyter-widgets/controls",
     "model_module_version": "1.5.0",
     "model_name": "HBoxModel",
     "state": {
      "_dom_classes": [],
      "_model_module": "@jupyter-widgets/controls",
      "_model_module_version": "1.5.0",
      "_model_name": "HBoxModel",
      "_view_count": null,
      "_view_module": "@jupyter-widgets/controls",
      "_view_module_version": "1.5.0",
      "_view_name": "HBoxView",
      "box_style": "",
      "children": [
       "IPY_MODEL_85340253aeef468aa38198164de96616",
       "IPY_MODEL_d07b0259664041009d31857dcbfbe35f",
       "IPY_MODEL_ba0a5c2f278d4f3eaf261a6b0f8fb57f"
      ],
      "layout": "IPY_MODEL_d953b626345941a98e41a234150549dc"
     }
    },
    "8d36c0a37ab64bec82fba27b1594e261": {
     "model_module": "@jupyter-widgets/controls",
     "model_module_version": "1.5.0",
     "model_name": "FloatProgressModel",
     "state": {
      "_dom_classes": [],
      "_model_module": "@jupyter-widgets/controls",
      "_model_module_version": "1.5.0",
      "_model_name": "FloatProgressModel",
      "_view_count": null,
      "_view_module": "@jupyter-widgets/controls",
      "_view_module_version": "1.5.0",
      "_view_name": "ProgressView",
      "bar_style": "success",
      "description": "",
      "description_tooltip": null,
      "layout": "IPY_MODEL_a29c68b615c94e079216ea445dfc7907",
      "max": 2077,
      "min": 0,
      "orientation": "horizontal",
      "style": "IPY_MODEL_cfa2872bb4444da9996d1b17325f460f",
      "value": 2077
     }
    },
    "a29c68b615c94e079216ea445dfc7907": {
     "model_module": "@jupyter-widgets/base",
     "model_module_version": "1.2.0",
     "model_name": "LayoutModel",
     "state": {
      "_model_module": "@jupyter-widgets/base",
      "_model_module_version": "1.2.0",
      "_model_name": "LayoutModel",
      "_view_count": null,
      "_view_module": "@jupyter-widgets/base",
      "_view_module_version": "1.2.0",
      "_view_name": "LayoutView",
      "align_content": null,
      "align_items": null,
      "align_self": null,
      "border": null,
      "bottom": null,
      "display": null,
      "flex": null,
      "flex_flow": null,
      "grid_area": null,
      "grid_auto_columns": null,
      "grid_auto_flow": null,
      "grid_auto_rows": null,
      "grid_column": null,
      "grid_gap": null,
      "grid_row": null,
      "grid_template_areas": null,
      "grid_template_columns": null,
      "grid_template_rows": null,
      "height": null,
      "justify_content": null,
      "justify_items": null,
      "left": null,
      "margin": null,
      "max_height": null,
      "max_width": null,
      "min_height": null,
      "min_width": null,
      "object_fit": null,
      "object_position": null,
      "order": null,
      "overflow": null,
      "overflow_x": null,
      "overflow_y": null,
      "padding": null,
      "right": null,
      "top": null,
      "visibility": null,
      "width": null
     }
    },
    "b7b176248bb94cdd9bef6e3e54956b61": {
     "model_module": "@jupyter-widgets/controls",
     "model_module_version": "1.5.0",
     "model_name": "ProgressStyleModel",
     "state": {
      "_model_module": "@jupyter-widgets/controls",
      "_model_module_version": "1.5.0",
      "_model_name": "ProgressStyleModel",
      "_view_count": null,
      "_view_module": "@jupyter-widgets/base",
      "_view_module_version": "1.2.0",
      "_view_name": "StyleView",
      "bar_color": null,
      "description_width": ""
     }
    },
    "ba0a5c2f278d4f3eaf261a6b0f8fb57f": {
     "model_module": "@jupyter-widgets/controls",
     "model_module_version": "1.5.0",
     "model_name": "HTMLModel",
     "state": {
      "_dom_classes": [],
      "_model_module": "@jupyter-widgets/controls",
      "_model_module_version": "1.5.0",
      "_model_name": "HTMLModel",
      "_view_count": null,
      "_view_module": "@jupyter-widgets/controls",
      "_view_module_version": "1.5.0",
      "_view_name": "HTMLView",
      "description": "",
      "description_tooltip": null,
      "layout": "IPY_MODEL_ca18f561d05543e8bbd49e97ec6c6c3f",
      "placeholder": "​",
      "style": "IPY_MODEL_1526fe45ee224c7796668f2282808ca2",
      "value": " Rows 2148/2148 | Elapsed Time: 00:01 | Remaining Time: 00:00"
     }
    },
    "bee4a414438d4fc8a0304785df21665b": {
     "model_module": "@jupyter-widgets/base",
     "model_module_version": "1.2.0",
     "model_name": "LayoutModel",
     "state": {
      "_model_module": "@jupyter-widgets/base",
      "_model_module_version": "1.2.0",
      "_model_name": "LayoutModel",
      "_view_count": null,
      "_view_module": "@jupyter-widgets/base",
      "_view_module_version": "1.2.0",
      "_view_name": "LayoutView",
      "align_content": null,
      "align_items": null,
      "align_self": null,
      "border": null,
      "bottom": null,
      "display": null,
      "flex": null,
      "flex_flow": null,
      "grid_area": null,
      "grid_auto_columns": null,
      "grid_auto_flow": null,
      "grid_auto_rows": null,
      "grid_column": null,
      "grid_gap": null,
      "grid_row": null,
      "grid_template_areas": null,
      "grid_template_columns": null,
      "grid_template_rows": null,
      "height": null,
      "justify_content": null,
      "justify_items": null,
      "left": null,
      "margin": null,
      "max_height": null,
      "max_width": null,
      "min_height": null,
      "min_width": null,
      "object_fit": null,
      "object_position": null,
      "order": null,
      "overflow": null,
      "overflow_x": null,
      "overflow_y": null,
      "padding": null,
      "right": null,
      "top": null,
      "visibility": null,
      "width": null
     }
    },
    "ca18f561d05543e8bbd49e97ec6c6c3f": {
     "model_module": "@jupyter-widgets/base",
     "model_module_version": "1.2.0",
     "model_name": "LayoutModel",
     "state": {
      "_model_module": "@jupyter-widgets/base",
      "_model_module_version": "1.2.0",
      "_model_name": "LayoutModel",
      "_view_count": null,
      "_view_module": "@jupyter-widgets/base",
      "_view_module_version": "1.2.0",
      "_view_name": "LayoutView",
      "align_content": null,
      "align_items": null,
      "align_self": null,
      "border": null,
      "bottom": null,
      "display": null,
      "flex": null,
      "flex_flow": null,
      "grid_area": null,
      "grid_auto_columns": null,
      "grid_auto_flow": null,
      "grid_auto_rows": null,
      "grid_column": null,
      "grid_gap": null,
      "grid_row": null,
      "grid_template_areas": null,
      "grid_template_columns": null,
      "grid_template_rows": null,
      "height": null,
      "justify_content": null,
      "justify_items": null,
      "left": null,
      "margin": null,
      "max_height": null,
      "max_width": null,
      "min_height": null,
      "min_width": null,
      "object_fit": null,
      "object_position": null,
      "order": null,
      "overflow": null,
      "overflow_x": null,
      "overflow_y": null,
      "padding": null,
      "right": null,
      "top": null,
      "visibility": null,
      "width": null
     }
    },
    "cfa2872bb4444da9996d1b17325f460f": {
     "model_module": "@jupyter-widgets/controls",
     "model_module_version": "1.5.0",
     "model_name": "ProgressStyleModel",
     "state": {
      "_model_module": "@jupyter-widgets/controls",
      "_model_module_version": "1.5.0",
      "_model_name": "ProgressStyleModel",
      "_view_count": null,
      "_view_module": "@jupyter-widgets/base",
      "_view_module_version": "1.2.0",
      "_view_name": "StyleView",
      "bar_color": null,
      "description_width": ""
     }
    },
    "d07b0259664041009d31857dcbfbe35f": {
     "model_module": "@jupyter-widgets/controls",
     "model_module_version": "1.5.0",
     "model_name": "FloatProgressModel",
     "state": {
      "_dom_classes": [],
      "_model_module": "@jupyter-widgets/controls",
      "_model_module_version": "1.5.0",
      "_model_name": "FloatProgressModel",
      "_view_count": null,
      "_view_module": "@jupyter-widgets/controls",
      "_view_module_version": "1.5.0",
      "_view_name": "ProgressView",
      "bar_style": "success",
      "description": "",
      "description_tooltip": null,
      "layout": "IPY_MODEL_e376bc264c1a444c82ce1efc67f8ddf9",
      "max": 2148,
      "min": 0,
      "orientation": "horizontal",
      "style": "IPY_MODEL_b7b176248bb94cdd9bef6e3e54956b61",
      "value": 2148
     }
    },
    "d5c5d84bd8c94913b63e9c03912d7223": {
     "model_module": "@jupyter-widgets/controls",
     "model_module_version": "1.5.0",
     "model_name": "DescriptionStyleModel",
     "state": {
      "_model_module": "@jupyter-widgets/controls",
      "_model_module_version": "1.5.0",
      "_model_name": "DescriptionStyleModel",
      "_view_count": null,
      "_view_module": "@jupyter-widgets/base",
      "_view_module_version": "1.2.0",
      "_view_name": "StyleView",
      "description_width": ""
     }
    },
    "d953b626345941a98e41a234150549dc": {
     "model_module": "@jupyter-widgets/base",
     "model_module_version": "1.2.0",
     "model_name": "LayoutModel",
     "state": {
      "_model_module": "@jupyter-widgets/base",
      "_model_module_version": "1.2.0",
      "_model_name": "LayoutModel",
      "_view_count": null,
      "_view_module": "@jupyter-widgets/base",
      "_view_module_version": "1.2.0",
      "_view_name": "LayoutView",
      "align_content": null,
      "align_items": null,
      "align_self": null,
      "border": null,
      "bottom": null,
      "display": null,
      "flex": null,
      "flex_flow": null,
      "grid_area": null,
      "grid_auto_columns": null,
      "grid_auto_flow": null,
      "grid_auto_rows": null,
      "grid_column": null,
      "grid_gap": null,
      "grid_row": null,
      "grid_template_areas": null,
      "grid_template_columns": null,
      "grid_template_rows": null,
      "height": null,
      "justify_content": null,
      "justify_items": null,
      "left": null,
      "margin": null,
      "max_height": null,
      "max_width": null,
      "min_height": null,
      "min_width": null,
      "object_fit": null,
      "object_position": null,
      "order": null,
      "overflow": null,
      "overflow_x": null,
      "overflow_y": null,
      "padding": null,
      "right": null,
      "top": null,
      "visibility": null,
      "width": null
     }
    },
    "d98dc8ea48c3460e95893f71a1a67567": {
     "model_module": "@jupyter-widgets/controls",
     "model_module_version": "1.5.0",
     "model_name": "HBoxModel",
     "state": {
      "_dom_classes": [],
      "_model_module": "@jupyter-widgets/controls",
      "_model_module_version": "1.5.0",
      "_model_name": "HBoxModel",
      "_view_count": null,
      "_view_module": "@jupyter-widgets/controls",
      "_view_module_version": "1.5.0",
      "_view_name": "HBoxView",
      "box_style": "",
      "children": [
       "IPY_MODEL_0593908606434119a5574aeb269c2a50",
       "IPY_MODEL_8d36c0a37ab64bec82fba27b1594e261",
       "IPY_MODEL_12dd10258d624359b5ff4087fbe7f7da"
      ],
      "layout": "IPY_MODEL_bee4a414438d4fc8a0304785df21665b"
     }
    },
    "e376bc264c1a444c82ce1efc67f8ddf9": {
     "model_module": "@jupyter-widgets/base",
     "model_module_version": "1.2.0",
     "model_name": "LayoutModel",
     "state": {
      "_model_module": "@jupyter-widgets/base",
      "_model_module_version": "1.2.0",
      "_model_name": "LayoutModel",
      "_view_count": null,
      "_view_module": "@jupyter-widgets/base",
      "_view_module_version": "1.2.0",
      "_view_name": "LayoutView",
      "align_content": null,
      "align_items": null,
      "align_self": null,
      "border": null,
      "bottom": null,
      "display": null,
      "flex": null,
      "flex_flow": null,
      "grid_area": null,
      "grid_auto_columns": null,
      "grid_auto_flow": null,
      "grid_auto_rows": null,
      "grid_column": null,
      "grid_gap": null,
      "grid_row": null,
      "grid_template_areas": null,
      "grid_template_columns": null,
      "grid_template_rows": null,
      "height": null,
      "justify_content": null,
      "justify_items": null,
      "left": null,
      "margin": null,
      "max_height": null,
      "max_width": null,
      "min_height": null,
      "min_width": null,
      "object_fit": null,
      "object_position": null,
      "order": null,
      "overflow": null,
      "overflow_x": null,
      "overflow_y": null,
      "padding": null,
      "right": null,
      "top": null,
      "visibility": null,
      "width": null
     }
    },
    "ea8af04f18d143b1b07c7fe5b68658e8": {
     "model_module": "@jupyter-widgets/base",
     "model_module_version": "1.2.0",
     "model_name": "LayoutModel",
     "state": {
      "_model_module": "@jupyter-widgets/base",
      "_model_module_version": "1.2.0",
      "_model_name": "LayoutModel",
      "_view_count": null,
      "_view_module": "@jupyter-widgets/base",
      "_view_module_version": "1.2.0",
      "_view_name": "LayoutView",
      "align_content": null,
      "align_items": null,
      "align_self": null,
      "border": null,
      "bottom": null,
      "display": null,
      "flex": null,
      "flex_flow": null,
      "grid_area": null,
      "grid_auto_columns": null,
      "grid_auto_flow": null,
      "grid_auto_rows": null,
      "grid_column": null,
      "grid_gap": null,
      "grid_row": null,
      "grid_template_areas": null,
      "grid_template_columns": null,
      "grid_template_rows": null,
      "height": null,
      "justify_content": null,
      "justify_items": null,
      "left": null,
      "margin": null,
      "max_height": null,
      "max_width": null,
      "min_height": null,
      "min_width": null,
      "object_fit": null,
      "object_position": null,
      "order": null,
      "overflow": null,
      "overflow_x": null,
      "overflow_y": null,
      "padding": null,
      "right": null,
      "top": null,
      "visibility": null,
      "width": null
     }
    },
    "f5c7fac3592d4eb8a52ef674d56d9f1d": {
     "model_module": "@jupyter-widgets/base",
     "model_module_version": "1.2.0",
     "model_name": "LayoutModel",
     "state": {
      "_model_module": "@jupyter-widgets/base",
      "_model_module_version": "1.2.0",
      "_model_name": "LayoutModel",
      "_view_count": null,
      "_view_module": "@jupyter-widgets/base",
      "_view_module_version": "1.2.0",
      "_view_name": "LayoutView",
      "align_content": null,
      "align_items": null,
      "align_self": null,
      "border": null,
      "bottom": null,
      "display": null,
      "flex": null,
      "flex_flow": null,
      "grid_area": null,
      "grid_auto_columns": null,
      "grid_auto_flow": null,
      "grid_auto_rows": null,
      "grid_column": null,
      "grid_gap": null,
      "grid_row": null,
      "grid_template_areas": null,
      "grid_template_columns": null,
      "grid_template_rows": null,
      "height": null,
      "justify_content": null,
      "justify_items": null,
      "left": null,
      "margin": null,
      "max_height": null,
      "max_width": null,
      "min_height": null,
      "min_width": null,
      "object_fit": null,
      "object_position": null,
      "order": null,
      "overflow": null,
      "overflow_x": null,
      "overflow_y": null,
      "padding": null,
      "right": null,
      "top": null,
      "visibility": null,
      "width": null
     }
    }
   }
  }
 },
 "nbformat": 4,
 "nbformat_minor": 5
}