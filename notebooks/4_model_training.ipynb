{
 "cells": [
  {
   "cell_type": "markdown",
   "id": "dbd751f5",
   "metadata": {
    "id": "dbd751f5"
   },
   "source": [
    "# <span style=\"font-width:bold; font-size: 3rem; color:#1EB182;\"><img src=\"https://github.com/xrisaD/ScalableMLProject/images/icon102.png?raw=1\" width=\"38px\"></img> **Hopsworks Feature Store** </span><span style=\"font-width:bold; font-size: 3rem; color:#333;\">- Part 04: Batch Predictions</span>\n",
    "\n",
    "[![Open In Colab](https://colab.research.google.com/assets/colab-badge.svg)](https://colab.research.google.com/github/logicalclocks/hopsworks-tutorials/blob/master/advanced_tutorials/{project_name}/{notebook_name}.ipynb)\n",
    "\n",
    "\n",
    "## 🗒️ This notebook is divided into the following sections:\n",
    "\n",
    "1. Loading the training data\n",
    "2. Train the model\n",
    "3. Register model in Hopsworks model registry\n"
   ]
  },
  {
   "cell_type": "markdown",
   "id": "aacb85de",
   "metadata": {
    "id": "aacb85de"
   },
   "source": [
    "### <span style='color:#ff5f27'> 📝 Imports"
   ]
  },
  {
   "cell_type": "code",
   "execution_count": 40,
   "id": "33dfb21d",
   "metadata": {
    "id": "33dfb21d"
   },
   "outputs": [],
   "source": [
    "import pandas as pd\n",
    "\n",
    "from sklearn.ensemble import GradientBoostingRegressor\n",
    "from sklearn.metrics import f1_score\n",
    "\n",
    "import warnings\n",
    "warnings.filterwarnings(\"ignore\")"
   ]
  },
  {
   "cell_type": "markdown",
   "id": "181a72b0",
   "metadata": {
    "id": "181a72b0"
   },
   "source": [
    "---"
   ]
  },
  {
   "cell_type": "markdown",
   "id": "e05af617",
   "metadata": {
    "id": "e05af617"
   },
   "source": [
    "## <span style=\"color:#ff5f27;\"> 📡 Connecting to Hopsworks Feature Store </span>"
   ]
  },
  {
   "cell_type": "code",
   "execution_count": 2,
   "id": "6539d56a",
   "metadata": {
    "colab": {
     "base_uri": "https://localhost:8080/"
    },
    "id": "6539d56a",
    "outputId": "a06e73db-15a6-4e07-f87d-275ae1e7ab41"
   },
   "outputs": [
    {
     "name": "stdout",
     "output_type": "stream",
     "text": [
      "Connected. Call `.close()` to terminate connection gracefully.\n",
      "\n",
      "Logged in to project, explore it here https://c.app.hopsworks.ai:443/p/5318\n"
     ]
    },
    {
     "name": "stderr",
     "output_type": "stream",
     "text": [
      "DeprecationWarning: the imp module is deprecated in favour of importlib; see the module's documentation for alternative uses\n"
     ]
    },
    {
     "name": "stdout",
     "output_type": "stream",
     "text": [
      "Connected. Call `.close()` to terminate connection gracefully.\n"
     ]
    }
   ],
   "source": [
    "import hopsworks\n",
    "\n",
    "project = hopsworks.login() \n",
    "\n",
    "fs = project.get_feature_store() "
   ]
  },
  {
   "cell_type": "markdown",
   "id": "2a8c76da",
   "metadata": {
    "id": "2a8c76da"
   },
   "source": [
    "---"
   ]
  },
  {
   "cell_type": "markdown",
   "id": "4cb3492c",
   "metadata": {
    "id": "4cb3492c"
   },
   "source": [
    "## <span style=\"color:#ff5f27;\">🪝 Feature View and Training Dataset Retrieval</span>"
   ]
  },
  {
   "cell_type": "code",
   "execution_count": 3,
   "id": "360857d2",
   "metadata": {
    "id": "360857d2"
   },
   "outputs": [],
   "source": [
    "feature_view = fs.get_feature_view(\n",
    "    name = 'streamflow_fv',\n",
    "    version = 1\n",
    ")"
   ]
  },
  {
   "cell_type": "code",
   "execution_count": 5,
   "id": "b04e30a7",
   "metadata": {
    "colab": {
     "base_uri": "https://localhost:8080/",
     "height": 270
    },
    "id": "b04e30a7",
    "outputId": "8044dc3f-2ccb-4aae-8526-d5de8fd9f0e2"
   },
   "outputs": [
    {
     "data": {
      "text/html": [
       "<div>\n",
       "<style scoped>\n",
       "    .dataframe tbody tr th:only-of-type {\n",
       "        vertical-align: middle;\n",
       "    }\n",
       "\n",
       "    .dataframe tbody tr th {\n",
       "        vertical-align: top;\n",
       "    }\n",
       "\n",
       "    .dataframe thead th {\n",
       "        text-align: right;\n",
       "    }\n",
       "</style>\n",
       "<table border=\"1\" class=\"dataframe\">\n",
       "  <thead>\n",
       "    <tr style=\"text-align: right;\">\n",
       "      <th></th>\n",
       "      <th>date</th>\n",
       "      <th>streamflow</th>\n",
       "      <th>place</th>\n",
       "      <th>temperature_2m_max</th>\n",
       "      <th>temperature_2m_min</th>\n",
       "      <th>precipitation_sum</th>\n",
       "      <th>rain_sum</th>\n",
       "      <th>snowfall_sum</th>\n",
       "      <th>precipitation_hours</th>\n",
       "      <th>windspeed_10m_max</th>\n",
       "      <th>windgusts_10m_max</th>\n",
       "      <th>winddirection_10m_dominant</th>\n",
       "      <th>et0_fao_evapotranspiration</th>\n",
       "    </tr>\n",
       "  </thead>\n",
       "  <tbody>\n",
       "    <tr>\n",
       "      <th>0</th>\n",
       "      <td>1661810400000</td>\n",
       "      <td>123.9365</td>\n",
       "      <td>Abisko</td>\n",
       "      <td>8.6</td>\n",
       "      <td>5.6</td>\n",
       "      <td>4.8</td>\n",
       "      <td>4.8</td>\n",
       "      <td>0.00</td>\n",
       "      <td>16.0</td>\n",
       "      <td>10.3</td>\n",
       "      <td>34.9</td>\n",
       "      <td>158.0</td>\n",
       "      <td>0.93</td>\n",
       "    </tr>\n",
       "    <tr>\n",
       "      <th>1</th>\n",
       "      <td>1615417200000</td>\n",
       "      <td>4.1078</td>\n",
       "      <td>Spånga</td>\n",
       "      <td>3.7</td>\n",
       "      <td>0.1</td>\n",
       "      <td>15.3</td>\n",
       "      <td>5.7</td>\n",
       "      <td>6.79</td>\n",
       "      <td>22.0</td>\n",
       "      <td>29.5</td>\n",
       "      <td>66.6</td>\n",
       "      <td>160.0</td>\n",
       "      <td>0.52</td>\n",
       "    </tr>\n",
       "    <tr>\n",
       "      <th>2</th>\n",
       "      <td>1625522400000</td>\n",
       "      <td>1.3980</td>\n",
       "      <td>Spånga</td>\n",
       "      <td>24.1</td>\n",
       "      <td>15.5</td>\n",
       "      <td>4.8</td>\n",
       "      <td>4.8</td>\n",
       "      <td>0.00</td>\n",
       "      <td>9.0</td>\n",
       "      <td>15.8</td>\n",
       "      <td>38.2</td>\n",
       "      <td>170.0</td>\n",
       "      <td>3.67</td>\n",
       "    </tr>\n",
       "    <tr>\n",
       "      <th>3</th>\n",
       "      <td>1635372000000</td>\n",
       "      <td>11.8726</td>\n",
       "      <td>Spånga</td>\n",
       "      <td>12.6</td>\n",
       "      <td>9.2</td>\n",
       "      <td>0.8</td>\n",
       "      <td>0.8</td>\n",
       "      <td>0.00</td>\n",
       "      <td>3.0</td>\n",
       "      <td>22.4</td>\n",
       "      <td>49.7</td>\n",
       "      <td>210.0</td>\n",
       "      <td>0.34</td>\n",
       "    </tr>\n",
       "    <tr>\n",
       "      <th>4</th>\n",
       "      <td>1639868400000</td>\n",
       "      <td>7.0708</td>\n",
       "      <td>Spånga</td>\n",
       "      <td>4.0</td>\n",
       "      <td>0.7</td>\n",
       "      <td>0.0</td>\n",
       "      <td>0.0</td>\n",
       "      <td>0.00</td>\n",
       "      <td>0.0</td>\n",
       "      <td>22.0</td>\n",
       "      <td>41.4</td>\n",
       "      <td>331.0</td>\n",
       "      <td>0.60</td>\n",
       "    </tr>\n",
       "  </tbody>\n",
       "</table>\n",
       "</div>"
      ],
      "text/plain": [
       "            date  streamflow   place  temperature_2m_max  temperature_2m_min  \\\n",
       "0  1661810400000    123.9365  Abisko                 8.6                 5.6   \n",
       "1  1615417200000      4.1078  Spånga                 3.7                 0.1   \n",
       "2  1625522400000      1.3980  Spånga                24.1                15.5   \n",
       "3  1635372000000     11.8726  Spånga                12.6                 9.2   \n",
       "4  1639868400000      7.0708  Spånga                 4.0                 0.7   \n",
       "\n",
       "   precipitation_sum  rain_sum  snowfall_sum  precipitation_hours  \\\n",
       "0                4.8       4.8          0.00                 16.0   \n",
       "1               15.3       5.7          6.79                 22.0   \n",
       "2                4.8       4.8          0.00                  9.0   \n",
       "3                0.8       0.8          0.00                  3.0   \n",
       "4                0.0       0.0          0.00                  0.0   \n",
       "\n",
       "   windspeed_10m_max  windgusts_10m_max  winddirection_10m_dominant  \\\n",
       "0               10.3               34.9                       158.0   \n",
       "1               29.5               66.6                       160.0   \n",
       "2               15.8               38.2                       170.0   \n",
       "3               22.4               49.7                       210.0   \n",
       "4               22.0               41.4                       331.0   \n",
       "\n",
       "   et0_fao_evapotranspiration  \n",
       "0                        0.93  \n",
       "1                        0.52  \n",
       "2                        3.67  \n",
       "3                        0.34  \n",
       "4                        0.60  "
      ]
     },
     "execution_count": 5,
     "metadata": {},
     "output_type": "execute_result"
    }
   ],
   "source": [
    "train_data = feature_view.get_training_data(1)[0]\n",
    "\n",
    "train_data.head()"
   ]
  },
  {
   "cell_type": "markdown",
   "id": "1ad6e0df",
   "metadata": {
    "id": "1ad6e0df"
   },
   "source": [
    "---"
   ]
  },
  {
   "cell_type": "markdown",
   "id": "d275ae09",
   "metadata": {
    "id": "d275ae09"
   },
   "source": [
    "## <span style=\"color:#ff5f27;\">🧬 Modeling</span>"
   ]
  },
  {
   "cell_type": "code",
   "execution_count": 8,
   "id": "5b937dec",
   "metadata": {
    "colab": {
     "base_uri": "https://localhost:8080/",
     "height": 270
    },
    "id": "5b937dec",
    "outputId": "94b49d31-a89f-4436-c998-39daa43fd2db"
   },
   "outputs": [
    {
     "data": {
      "text/html": [
       "<div>\n",
       "<style scoped>\n",
       "    .dataframe tbody tr th:only-of-type {\n",
       "        vertical-align: middle;\n",
       "    }\n",
       "\n",
       "    .dataframe tbody tr th {\n",
       "        vertical-align: top;\n",
       "    }\n",
       "\n",
       "    .dataframe thead th {\n",
       "        text-align: right;\n",
       "    }\n",
       "</style>\n",
       "<table border=\"1\" class=\"dataframe\">\n",
       "  <thead>\n",
       "    <tr style=\"text-align: right;\">\n",
       "      <th></th>\n",
       "      <th>date</th>\n",
       "      <th>streamflow</th>\n",
       "      <th>place</th>\n",
       "      <th>temperature_2m_max</th>\n",
       "      <th>temperature_2m_min</th>\n",
       "      <th>precipitation_sum</th>\n",
       "      <th>rain_sum</th>\n",
       "      <th>snowfall_sum</th>\n",
       "      <th>precipitation_hours</th>\n",
       "      <th>windspeed_10m_max</th>\n",
       "      <th>windgusts_10m_max</th>\n",
       "      <th>winddirection_10m_dominant</th>\n",
       "      <th>et0_fao_evapotranspiration</th>\n",
       "    </tr>\n",
       "  </thead>\n",
       "  <tbody>\n",
       "    <tr>\n",
       "      <th>0</th>\n",
       "      <td>1671231600000</td>\n",
       "      <td>33.2854</td>\n",
       "      <td>Abisko</td>\n",
       "      <td>-7.2</td>\n",
       "      <td>-9.9</td>\n",
       "      <td>0.3</td>\n",
       "      <td>0.0</td>\n",
       "      <td>0.21</td>\n",
       "      <td>3.0</td>\n",
       "      <td>6.9</td>\n",
       "      <td>26.6</td>\n",
       "      <td>293.0</td>\n",
       "      <td>0.00</td>\n",
       "    </tr>\n",
       "    <tr>\n",
       "      <th>1</th>\n",
       "      <td>1671231600000</td>\n",
       "      <td>5.3238</td>\n",
       "      <td>Spånga</td>\n",
       "      <td>0.7</td>\n",
       "      <td>-7.9</td>\n",
       "      <td>1.7</td>\n",
       "      <td>0.1</td>\n",
       "      <td>1.12</td>\n",
       "      <td>8.0</td>\n",
       "      <td>21.3</td>\n",
       "      <td>48.6</td>\n",
       "      <td>257.0</td>\n",
       "      <td>0.08</td>\n",
       "    </tr>\n",
       "    <tr>\n",
       "      <th>2</th>\n",
       "      <td>1671231600000</td>\n",
       "      <td>3.0196</td>\n",
       "      <td>Uppsala</td>\n",
       "      <td>-0.9</td>\n",
       "      <td>-12.4</td>\n",
       "      <td>1.1</td>\n",
       "      <td>0.0</td>\n",
       "      <td>0.77</td>\n",
       "      <td>5.0</td>\n",
       "      <td>19.8</td>\n",
       "      <td>40.0</td>\n",
       "      <td>255.0</td>\n",
       "      <td>0.06</td>\n",
       "    </tr>\n",
       "    <tr>\n",
       "      <th>3</th>\n",
       "      <td>1671145200000</td>\n",
       "      <td>32.8515</td>\n",
       "      <td>Abisko</td>\n",
       "      <td>-4.5</td>\n",
       "      <td>-9.7</td>\n",
       "      <td>2.0</td>\n",
       "      <td>0.0</td>\n",
       "      <td>1.40</td>\n",
       "      <td>9.0</td>\n",
       "      <td>9.6</td>\n",
       "      <td>35.3</td>\n",
       "      <td>243.0</td>\n",
       "      <td>0.00</td>\n",
       "    </tr>\n",
       "    <tr>\n",
       "      <th>4</th>\n",
       "      <td>1671145200000</td>\n",
       "      <td>5.1158</td>\n",
       "      <td>Spånga</td>\n",
       "      <td>-4.9</td>\n",
       "      <td>-14.7</td>\n",
       "      <td>0.0</td>\n",
       "      <td>0.0</td>\n",
       "      <td>0.00</td>\n",
       "      <td>0.0</td>\n",
       "      <td>14.8</td>\n",
       "      <td>28.4</td>\n",
       "      <td>253.0</td>\n",
       "      <td>0.04</td>\n",
       "    </tr>\n",
       "  </tbody>\n",
       "</table>\n",
       "</div>"
      ],
      "text/plain": [
       "            date  streamflow    place  temperature_2m_max  temperature_2m_min  \\\n",
       "0  1671231600000     33.2854   Abisko                -7.2                -9.9   \n",
       "1  1671231600000      5.3238   Spånga                 0.7                -7.9   \n",
       "2  1671231600000      3.0196  Uppsala                -0.9               -12.4   \n",
       "3  1671145200000     32.8515   Abisko                -4.5                -9.7   \n",
       "4  1671145200000      5.1158   Spånga                -4.9               -14.7   \n",
       "\n",
       "   precipitation_sum  rain_sum  snowfall_sum  precipitation_hours  \\\n",
       "0                0.3       0.0          0.21                  3.0   \n",
       "1                1.7       0.1          1.12                  8.0   \n",
       "2                1.1       0.0          0.77                  5.0   \n",
       "3                2.0       0.0          1.40                  9.0   \n",
       "4                0.0       0.0          0.00                  0.0   \n",
       "\n",
       "   windspeed_10m_max  windgusts_10m_max  winddirection_10m_dominant  \\\n",
       "0                6.9               26.6                       293.0   \n",
       "1               21.3               48.6                       257.0   \n",
       "2               19.8               40.0                       255.0   \n",
       "3                9.6               35.3                       243.0   \n",
       "4               14.8               28.4                       253.0   \n",
       "\n",
       "   et0_fao_evapotranspiration  \n",
       "0                        0.00  \n",
       "1                        0.08  \n",
       "2                        0.06  \n",
       "3                        0.00  \n",
       "4                        0.04  "
      ]
     },
     "execution_count": 8,
     "metadata": {},
     "output_type": "execute_result"
    }
   ],
   "source": [
    "train_data = train_data.sort_values(by=[\"date\", 'place'], ascending=[False, True]).reset_index(drop=True)\n",
    "\n",
    "train_data.head(5)"
   ]
  },
  {
   "cell_type": "code",
   "execution_count": 9,
   "id": "bG6AyJunpE5h",
   "metadata": {
    "colab": {
     "base_uri": "https://localhost:8080/",
     "height": 270
    },
    "id": "bG6AyJunpE5h",
    "outputId": "3ae8d4b2-6539-4e97-8138-56faef0b5463"
   },
   "outputs": [
    {
     "data": {
      "text/html": [
       "<div>\n",
       "<style scoped>\n",
       "    .dataframe tbody tr th:only-of-type {\n",
       "        vertical-align: middle;\n",
       "    }\n",
       "\n",
       "    .dataframe tbody tr th {\n",
       "        vertical-align: top;\n",
       "    }\n",
       "\n",
       "    .dataframe thead th {\n",
       "        text-align: right;\n",
       "    }\n",
       "</style>\n",
       "<table border=\"1\" class=\"dataframe\">\n",
       "  <thead>\n",
       "    <tr style=\"text-align: right;\">\n",
       "      <th></th>\n",
       "      <th>date</th>\n",
       "      <th>streamflow</th>\n",
       "      <th>place</th>\n",
       "      <th>temperature_2m_max</th>\n",
       "      <th>temperature_2m_min</th>\n",
       "      <th>precipitation_sum</th>\n",
       "      <th>rain_sum</th>\n",
       "      <th>snowfall_sum</th>\n",
       "      <th>precipitation_hours</th>\n",
       "      <th>windspeed_10m_max</th>\n",
       "      <th>windgusts_10m_max</th>\n",
       "      <th>winddirection_10m_dominant</th>\n",
       "      <th>et0_fao_evapotranspiration</th>\n",
       "      <th>streamflow_next_day</th>\n",
       "    </tr>\n",
       "  </thead>\n",
       "  <tbody>\n",
       "    <tr>\n",
       "      <th>0</th>\n",
       "      <td>1671231600000</td>\n",
       "      <td>33.2854</td>\n",
       "      <td>Abisko</td>\n",
       "      <td>-7.2</td>\n",
       "      <td>-9.9</td>\n",
       "      <td>0.3</td>\n",
       "      <td>0.0</td>\n",
       "      <td>0.21</td>\n",
       "      <td>3.0</td>\n",
       "      <td>6.9</td>\n",
       "      <td>26.6</td>\n",
       "      <td>293.0</td>\n",
       "      <td>0.00</td>\n",
       "      <td>NaN</td>\n",
       "    </tr>\n",
       "    <tr>\n",
       "      <th>1</th>\n",
       "      <td>1671231600000</td>\n",
       "      <td>5.3238</td>\n",
       "      <td>Spånga</td>\n",
       "      <td>0.7</td>\n",
       "      <td>-7.9</td>\n",
       "      <td>1.7</td>\n",
       "      <td>0.1</td>\n",
       "      <td>1.12</td>\n",
       "      <td>8.0</td>\n",
       "      <td>21.3</td>\n",
       "      <td>48.6</td>\n",
       "      <td>257.0</td>\n",
       "      <td>0.08</td>\n",
       "      <td>NaN</td>\n",
       "    </tr>\n",
       "    <tr>\n",
       "      <th>2</th>\n",
       "      <td>1671231600000</td>\n",
       "      <td>3.0196</td>\n",
       "      <td>Uppsala</td>\n",
       "      <td>-0.9</td>\n",
       "      <td>-12.4</td>\n",
       "      <td>1.1</td>\n",
       "      <td>0.0</td>\n",
       "      <td>0.77</td>\n",
       "      <td>5.0</td>\n",
       "      <td>19.8</td>\n",
       "      <td>40.0</td>\n",
       "      <td>255.0</td>\n",
       "      <td>0.06</td>\n",
       "      <td>NaN</td>\n",
       "    </tr>\n",
       "    <tr>\n",
       "      <th>3</th>\n",
       "      <td>1671145200000</td>\n",
       "      <td>32.8515</td>\n",
       "      <td>Abisko</td>\n",
       "      <td>-4.5</td>\n",
       "      <td>-9.7</td>\n",
       "      <td>2.0</td>\n",
       "      <td>0.0</td>\n",
       "      <td>1.40</td>\n",
       "      <td>9.0</td>\n",
       "      <td>9.6</td>\n",
       "      <td>35.3</td>\n",
       "      <td>243.0</td>\n",
       "      <td>0.00</td>\n",
       "      <td>33.2854</td>\n",
       "    </tr>\n",
       "    <tr>\n",
       "      <th>4</th>\n",
       "      <td>1671145200000</td>\n",
       "      <td>5.1158</td>\n",
       "      <td>Spånga</td>\n",
       "      <td>-4.9</td>\n",
       "      <td>-14.7</td>\n",
       "      <td>0.0</td>\n",
       "      <td>0.0</td>\n",
       "      <td>0.00</td>\n",
       "      <td>0.0</td>\n",
       "      <td>14.8</td>\n",
       "      <td>28.4</td>\n",
       "      <td>253.0</td>\n",
       "      <td>0.04</td>\n",
       "      <td>5.3238</td>\n",
       "    </tr>\n",
       "  </tbody>\n",
       "</table>\n",
       "</div>"
      ],
      "text/plain": [
       "            date  streamflow    place  temperature_2m_max  temperature_2m_min  \\\n",
       "0  1671231600000     33.2854   Abisko                -7.2                -9.9   \n",
       "1  1671231600000      5.3238   Spånga                 0.7                -7.9   \n",
       "2  1671231600000      3.0196  Uppsala                -0.9               -12.4   \n",
       "3  1671145200000     32.8515   Abisko                -4.5                -9.7   \n",
       "4  1671145200000      5.1158   Spånga                -4.9               -14.7   \n",
       "\n",
       "   precipitation_sum  rain_sum  snowfall_sum  precipitation_hours  \\\n",
       "0                0.3       0.0          0.21                  3.0   \n",
       "1                1.7       0.1          1.12                  8.0   \n",
       "2                1.1       0.0          0.77                  5.0   \n",
       "3                2.0       0.0          1.40                  9.0   \n",
       "4                0.0       0.0          0.00                  0.0   \n",
       "\n",
       "   windspeed_10m_max  windgusts_10m_max  winddirection_10m_dominant  \\\n",
       "0                6.9               26.6                       293.0   \n",
       "1               21.3               48.6                       257.0   \n",
       "2               19.8               40.0                       255.0   \n",
       "3                9.6               35.3                       243.0   \n",
       "4               14.8               28.4                       253.0   \n",
       "\n",
       "   et0_fao_evapotranspiration  streamflow_next_day  \n",
       "0                        0.00                  NaN  \n",
       "1                        0.08                  NaN  \n",
       "2                        0.06                  NaN  \n",
       "3                        0.00              33.2854  \n",
       "4                        0.04               5.3238  "
      ]
     },
     "execution_count": 9,
     "metadata": {},
     "output_type": "execute_result"
    }
   ],
   "source": [
    "train_data[\"streamflow_next_day\"] = train_data.groupby('place')['streamflow'].shift(1)\n",
    "\n",
    "train_data.head(5)"
   ]
  },
  {
   "cell_type": "code",
   "execution_count": 76,
   "id": "54e73700",
   "metadata": {
    "id": "54e73700"
   },
   "outputs": [],
   "source": [
    "X = train_data.drop(columns=[\"date\", \"place\"]).fillna(0) # PUT PLACE BACK!!!!!\n",
    "y = X.pop(\"streamflow_next_day\")"
   ]
  },
  {
   "cell_type": "code",
   "execution_count": 46,
   "id": "1dfa50b9",
   "metadata": {},
   "outputs": [
    {
     "data": {
      "text/html": [
       "<div>\n",
       "<style scoped>\n",
       "    .dataframe tbody tr th:only-of-type {\n",
       "        vertical-align: middle;\n",
       "    }\n",
       "\n",
       "    .dataframe tbody tr th {\n",
       "        vertical-align: top;\n",
       "    }\n",
       "\n",
       "    .dataframe thead th {\n",
       "        text-align: right;\n",
       "    }\n",
       "</style>\n",
       "<table border=\"1\" class=\"dataframe\">\n",
       "  <thead>\n",
       "    <tr style=\"text-align: right;\">\n",
       "      <th></th>\n",
       "      <th>streamflow</th>\n",
       "      <th>temperature_2m_max</th>\n",
       "      <th>temperature_2m_min</th>\n",
       "      <th>precipitation_sum</th>\n",
       "      <th>rain_sum</th>\n",
       "      <th>snowfall_sum</th>\n",
       "      <th>precipitation_hours</th>\n",
       "      <th>windspeed_10m_max</th>\n",
       "      <th>windgusts_10m_max</th>\n",
       "      <th>winddirection_10m_dominant</th>\n",
       "      <th>et0_fao_evapotranspiration</th>\n",
       "    </tr>\n",
       "  </thead>\n",
       "  <tbody>\n",
       "    <tr>\n",
       "      <th>0</th>\n",
       "      <td>33.2854</td>\n",
       "      <td>-7.2</td>\n",
       "      <td>-9.9</td>\n",
       "      <td>0.3</td>\n",
       "      <td>0.0</td>\n",
       "      <td>0.21</td>\n",
       "      <td>3.0</td>\n",
       "      <td>6.9</td>\n",
       "      <td>26.6</td>\n",
       "      <td>293.0</td>\n",
       "      <td>0.00</td>\n",
       "    </tr>\n",
       "    <tr>\n",
       "      <th>1</th>\n",
       "      <td>5.3238</td>\n",
       "      <td>0.7</td>\n",
       "      <td>-7.9</td>\n",
       "      <td>1.7</td>\n",
       "      <td>0.1</td>\n",
       "      <td>1.12</td>\n",
       "      <td>8.0</td>\n",
       "      <td>21.3</td>\n",
       "      <td>48.6</td>\n",
       "      <td>257.0</td>\n",
       "      <td>0.08</td>\n",
       "    </tr>\n",
       "    <tr>\n",
       "      <th>2</th>\n",
       "      <td>3.0196</td>\n",
       "      <td>-0.9</td>\n",
       "      <td>-12.4</td>\n",
       "      <td>1.1</td>\n",
       "      <td>0.0</td>\n",
       "      <td>0.77</td>\n",
       "      <td>5.0</td>\n",
       "      <td>19.8</td>\n",
       "      <td>40.0</td>\n",
       "      <td>255.0</td>\n",
       "      <td>0.06</td>\n",
       "    </tr>\n",
       "    <tr>\n",
       "      <th>3</th>\n",
       "      <td>32.8515</td>\n",
       "      <td>-4.5</td>\n",
       "      <td>-9.7</td>\n",
       "      <td>2.0</td>\n",
       "      <td>0.0</td>\n",
       "      <td>1.40</td>\n",
       "      <td>9.0</td>\n",
       "      <td>9.6</td>\n",
       "      <td>35.3</td>\n",
       "      <td>243.0</td>\n",
       "      <td>0.00</td>\n",
       "    </tr>\n",
       "    <tr>\n",
       "      <th>4</th>\n",
       "      <td>5.1158</td>\n",
       "      <td>-4.9</td>\n",
       "      <td>-14.7</td>\n",
       "      <td>0.0</td>\n",
       "      <td>0.0</td>\n",
       "      <td>0.00</td>\n",
       "      <td>0.0</td>\n",
       "      <td>14.8</td>\n",
       "      <td>28.4</td>\n",
       "      <td>253.0</td>\n",
       "      <td>0.04</td>\n",
       "    </tr>\n",
       "  </tbody>\n",
       "</table>\n",
       "</div>"
      ],
      "text/plain": [
       "   streamflow  temperature_2m_max  temperature_2m_min  precipitation_sum  \\\n",
       "0     33.2854                -7.2                -9.9                0.3   \n",
       "1      5.3238                 0.7                -7.9                1.7   \n",
       "2      3.0196                -0.9               -12.4                1.1   \n",
       "3     32.8515                -4.5                -9.7                2.0   \n",
       "4      5.1158                -4.9               -14.7                0.0   \n",
       "\n",
       "   rain_sum  snowfall_sum  precipitation_hours  windspeed_10m_max  \\\n",
       "0       0.0          0.21                  3.0                6.9   \n",
       "1       0.1          1.12                  8.0               21.3   \n",
       "2       0.0          0.77                  5.0               19.8   \n",
       "3       0.0          1.40                  9.0                9.6   \n",
       "4       0.0          0.00                  0.0               14.8   \n",
       "\n",
       "   windgusts_10m_max  winddirection_10m_dominant  et0_fao_evapotranspiration  \n",
       "0               26.6                       293.0                        0.00  \n",
       "1               48.6                       257.0                        0.08  \n",
       "2               40.0                       255.0                        0.06  \n",
       "3               35.3                       243.0                        0.00  \n",
       "4               28.4                       253.0                        0.04  "
      ]
     },
     "execution_count": 46,
     "metadata": {},
     "output_type": "execute_result"
    }
   ],
   "source": [
    "X.head()"
   ]
  },
  {
   "cell_type": "markdown",
   "id": "0a03830d",
   "metadata": {},
   "source": [
    "### <span style='color:#ff5f27'> Create Pipeline\n",
    "1. Transformations\n",
    "2. Model Selection"
   ]
  },
  {
   "cell_type": "code",
   "execution_count": 117,
   "id": "b96b0b6a",
   "metadata": {
    "colab": {
     "base_uri": "https://localhost:8080/"
    },
    "id": "b96b0b6a",
    "outputId": "5616e33d-2c59-42ff-ebcb-846d9ebda035"
   },
   "outputs": [
    {
     "data": {
      "text/html": [
       "<style>#sk-container-id-20 {color: black;background-color: white;}#sk-container-id-20 pre{padding: 0;}#sk-container-id-20 div.sk-toggleable {background-color: white;}#sk-container-id-20 label.sk-toggleable__label {cursor: pointer;display: block;width: 100%;margin-bottom: 0;padding: 0.3em;box-sizing: border-box;text-align: center;}#sk-container-id-20 label.sk-toggleable__label-arrow:before {content: \"▸\";float: left;margin-right: 0.25em;color: #696969;}#sk-container-id-20 label.sk-toggleable__label-arrow:hover:before {color: black;}#sk-container-id-20 div.sk-estimator:hover label.sk-toggleable__label-arrow:before {color: black;}#sk-container-id-20 div.sk-toggleable__content {max-height: 0;max-width: 0;overflow: hidden;text-align: left;background-color: #f0f8ff;}#sk-container-id-20 div.sk-toggleable__content pre {margin: 0.2em;color: black;border-radius: 0.25em;background-color: #f0f8ff;}#sk-container-id-20 input.sk-toggleable__control:checked~div.sk-toggleable__content {max-height: 200px;max-width: 100%;overflow: auto;}#sk-container-id-20 input.sk-toggleable__control:checked~label.sk-toggleable__label-arrow:before {content: \"▾\";}#sk-container-id-20 div.sk-estimator input.sk-toggleable__control:checked~label.sk-toggleable__label {background-color: #d4ebff;}#sk-container-id-20 div.sk-label input.sk-toggleable__control:checked~label.sk-toggleable__label {background-color: #d4ebff;}#sk-container-id-20 input.sk-hidden--visually {border: 0;clip: rect(1px 1px 1px 1px);clip: rect(1px, 1px, 1px, 1px);height: 1px;margin: -1px;overflow: hidden;padding: 0;position: absolute;width: 1px;}#sk-container-id-20 div.sk-estimator {font-family: monospace;background-color: #f0f8ff;border: 1px dotted black;border-radius: 0.25em;box-sizing: border-box;margin-bottom: 0.5em;}#sk-container-id-20 div.sk-estimator:hover {background-color: #d4ebff;}#sk-container-id-20 div.sk-parallel-item::after {content: \"\";width: 100%;border-bottom: 1px solid gray;flex-grow: 1;}#sk-container-id-20 div.sk-label:hover label.sk-toggleable__label {background-color: #d4ebff;}#sk-container-id-20 div.sk-serial::before {content: \"\";position: absolute;border-left: 1px solid gray;box-sizing: border-box;top: 0;bottom: 0;left: 50%;z-index: 0;}#sk-container-id-20 div.sk-serial {display: flex;flex-direction: column;align-items: center;background-color: white;padding-right: 0.2em;padding-left: 0.2em;position: relative;}#sk-container-id-20 div.sk-item {position: relative;z-index: 1;}#sk-container-id-20 div.sk-parallel {display: flex;align-items: stretch;justify-content: center;background-color: white;position: relative;}#sk-container-id-20 div.sk-item::before, #sk-container-id-20 div.sk-parallel-item::before {content: \"\";position: absolute;border-left: 1px solid gray;box-sizing: border-box;top: 0;bottom: 0;left: 50%;z-index: -1;}#sk-container-id-20 div.sk-parallel-item {display: flex;flex-direction: column;z-index: 1;position: relative;background-color: white;}#sk-container-id-20 div.sk-parallel-item:first-child::after {align-self: flex-end;width: 50%;}#sk-container-id-20 div.sk-parallel-item:last-child::after {align-self: flex-start;width: 50%;}#sk-container-id-20 div.sk-parallel-item:only-child::after {width: 0;}#sk-container-id-20 div.sk-dashed-wrapped {border: 1px dashed gray;margin: 0 0.4em 0.5em 0.4em;box-sizing: border-box;padding-bottom: 0.4em;background-color: white;}#sk-container-id-20 div.sk-label label {font-family: monospace;font-weight: bold;display: inline-block;line-height: 1.2em;}#sk-container-id-20 div.sk-label-container {text-align: center;}#sk-container-id-20 div.sk-container {/* jupyter's `normalize.less` sets `[hidden] { display: none; }` but bootstrap.min.css set `[hidden] { display: none !important; }` so we also need the `!important` here to be able to override the default hidden behavior on the sphinx rendered scikit-learn.org. See: https://github.com/scikit-learn/scikit-learn/issues/21755 */display: inline-block !important;position: relative;}#sk-container-id-20 div.sk-text-repr-fallback {display: none;}</style><div id=\"sk-container-id-20\" class=\"sk-top-container\"><div class=\"sk-text-repr-fallback\"><pre>Pipeline(steps=[(&#x27;transformations&#x27;,\n",
       "                 ColumnTransformer(transformers=[(&#x27;title_bow&#x27;, StandardScaler(),\n",
       "                                                  [&#x27;streamflow&#x27;,\n",
       "                                                   &#x27;temperature_2m_max&#x27;,\n",
       "                                                   &#x27;temperature_2m_min&#x27;,\n",
       "                                                   &#x27;precipitation_sum&#x27;,\n",
       "                                                   &#x27;rain_sum&#x27;, &#x27;snowfall_sum&#x27;,\n",
       "                                                   &#x27;precipitation_hours&#x27;,\n",
       "                                                   &#x27;windspeed_10m_max&#x27;,\n",
       "                                                   &#x27;windgusts_10m_max&#x27;,\n",
       "                                                   &#x27;winddirection_10m_dominant&#x27;,\n",
       "                                                   &#x27;et0_fao_evapotranspiration&#x27;])])),\n",
       "                (&#x27;gb&#x27;, GradientBoostingRegressor())])</pre><b>In a Jupyter environment, please rerun this cell to show the HTML representation or trust the notebook. <br />On GitHub, the HTML representation is unable to render, please try loading this page with nbviewer.org.</b></div><div class=\"sk-container\" hidden><div class=\"sk-item sk-dashed-wrapped\"><div class=\"sk-label-container\"><div class=\"sk-label sk-toggleable\"><input class=\"sk-toggleable__control sk-hidden--visually\" id=\"sk-estimator-id-101\" type=\"checkbox\" ><label for=\"sk-estimator-id-101\" class=\"sk-toggleable__label sk-toggleable__label-arrow\">Pipeline</label><div class=\"sk-toggleable__content\"><pre>Pipeline(steps=[(&#x27;transformations&#x27;,\n",
       "                 ColumnTransformer(transformers=[(&#x27;title_bow&#x27;, StandardScaler(),\n",
       "                                                  [&#x27;streamflow&#x27;,\n",
       "                                                   &#x27;temperature_2m_max&#x27;,\n",
       "                                                   &#x27;temperature_2m_min&#x27;,\n",
       "                                                   &#x27;precipitation_sum&#x27;,\n",
       "                                                   &#x27;rain_sum&#x27;, &#x27;snowfall_sum&#x27;,\n",
       "                                                   &#x27;precipitation_hours&#x27;,\n",
       "                                                   &#x27;windspeed_10m_max&#x27;,\n",
       "                                                   &#x27;windgusts_10m_max&#x27;,\n",
       "                                                   &#x27;winddirection_10m_dominant&#x27;,\n",
       "                                                   &#x27;et0_fao_evapotranspiration&#x27;])])),\n",
       "                (&#x27;gb&#x27;, GradientBoostingRegressor())])</pre></div></div></div><div class=\"sk-serial\"><div class=\"sk-item sk-dashed-wrapped\"><div class=\"sk-label-container\"><div class=\"sk-label sk-toggleable\"><input class=\"sk-toggleable__control sk-hidden--visually\" id=\"sk-estimator-id-102\" type=\"checkbox\" ><label for=\"sk-estimator-id-102\" class=\"sk-toggleable__label sk-toggleable__label-arrow\">transformations: ColumnTransformer</label><div class=\"sk-toggleable__content\"><pre>ColumnTransformer(transformers=[(&#x27;title_bow&#x27;, StandardScaler(),\n",
       "                                 [&#x27;streamflow&#x27;, &#x27;temperature_2m_max&#x27;,\n",
       "                                  &#x27;temperature_2m_min&#x27;, &#x27;precipitation_sum&#x27;,\n",
       "                                  &#x27;rain_sum&#x27;, &#x27;snowfall_sum&#x27;,\n",
       "                                  &#x27;precipitation_hours&#x27;, &#x27;windspeed_10m_max&#x27;,\n",
       "                                  &#x27;windgusts_10m_max&#x27;,\n",
       "                                  &#x27;winddirection_10m_dominant&#x27;,\n",
       "                                  &#x27;et0_fao_evapotranspiration&#x27;])])</pre></div></div></div><div class=\"sk-parallel\"><div class=\"sk-parallel-item\"><div class=\"sk-item\"><div class=\"sk-label-container\"><div class=\"sk-label sk-toggleable\"><input class=\"sk-toggleable__control sk-hidden--visually\" id=\"sk-estimator-id-103\" type=\"checkbox\" ><label for=\"sk-estimator-id-103\" class=\"sk-toggleable__label sk-toggleable__label-arrow\">title_bow</label><div class=\"sk-toggleable__content\"><pre>[&#x27;streamflow&#x27;, &#x27;temperature_2m_max&#x27;, &#x27;temperature_2m_min&#x27;, &#x27;precipitation_sum&#x27;, &#x27;rain_sum&#x27;, &#x27;snowfall_sum&#x27;, &#x27;precipitation_hours&#x27;, &#x27;windspeed_10m_max&#x27;, &#x27;windgusts_10m_max&#x27;, &#x27;winddirection_10m_dominant&#x27;, &#x27;et0_fao_evapotranspiration&#x27;]</pre></div></div></div><div class=\"sk-serial\"><div class=\"sk-item\"><div class=\"sk-estimator sk-toggleable\"><input class=\"sk-toggleable__control sk-hidden--visually\" id=\"sk-estimator-id-104\" type=\"checkbox\" ><label for=\"sk-estimator-id-104\" class=\"sk-toggleable__label sk-toggleable__label-arrow\">StandardScaler</label><div class=\"sk-toggleable__content\"><pre>StandardScaler()</pre></div></div></div></div></div></div></div></div><div class=\"sk-item\"><div class=\"sk-estimator sk-toggleable\"><input class=\"sk-toggleable__control sk-hidden--visually\" id=\"sk-estimator-id-105\" type=\"checkbox\" ><label for=\"sk-estimator-id-105\" class=\"sk-toggleable__label sk-toggleable__label-arrow\">GradientBoostingRegressor</label><div class=\"sk-toggleable__content\"><pre>GradientBoostingRegressor()</pre></div></div></div></div></div></div></div>"
      ],
      "text/plain": [
       "Pipeline(steps=[('transformations',\n",
       "                 ColumnTransformer(transformers=[('title_bow', StandardScaler(),\n",
       "                                                  ['streamflow',\n",
       "                                                   'temperature_2m_max',\n",
       "                                                   'temperature_2m_min',\n",
       "                                                   'precipitation_sum',\n",
       "                                                   'rain_sum', 'snowfall_sum',\n",
       "                                                   'precipitation_hours',\n",
       "                                                   'windspeed_10m_max',\n",
       "                                                   'windgusts_10m_max',\n",
       "                                                   'winddirection_10m_dominant',\n",
       "                                                   'et0_fao_evapotranspiration'])])),\n",
       "                ('gb', GradientBoostingRegressor())])"
      ]
     },
     "execution_count": 117,
     "metadata": {},
     "output_type": "execute_result"
    }
   ],
   "source": [
    "from sklearn.pipeline import Pipeline\n",
    "from sklearn.preprocessing import StandardScaler, OneHotEncoder\n",
    "from sklearn.compose import ColumnTransformer\n",
    "\n",
    "column_trans = ColumnTransformer(\n",
    "        [#('categories', OneHotEncoder(), ['place']),\n",
    "         ('title_bow', StandardScaler(), ['streamflow', 'temperature_2m_max', 'temperature_2m_min','precipitation_sum', 'rain_sum', 'snowfall_sum', 'precipitation_hours', 'windspeed_10m_max','windgusts_10m_max','winddirection_10m_dominant','et0_fao_evapotranspiration'])\n",
    "        ],\n",
    "         verbose_feature_names_out=True)\n",
    "pipe = Pipeline([('transformations', column_trans), ('gb', GradientBoostingRegressor())])\n",
    "\n",
    "pipe.fit(X, y)"
   ]
  },
  {
   "cell_type": "markdown",
   "id": "41df0b12",
   "metadata": {
    "id": "41df0b12"
   },
   "source": [
    "### <span style='color:#ff5f27'> 👨🏻‍⚖️ Model Validation"
   ]
  },
  {
   "cell_type": "code",
   "execution_count": 118,
   "id": "4900e54c",
   "metadata": {
    "colab": {
     "base_uri": "https://localhost:8080/"
    },
    "id": "4900e54c",
    "outputId": "cff366b3-d58a-4099-f6e2-572090acafd0"
   },
   "outputs": [
    {
     "data": {
      "text/plain": [
       "0.5322033898305085"
      ]
     },
     "execution_count": 118,
     "metadata": {},
     "output_type": "execute_result"
    }
   ],
   "source": [
    "f1 = f1_score(y.astype('int'),[int(pred) for pred in pipe.predict(X)],average='micro')\n",
    "f1"
   ]
  },
  {
   "cell_type": "code",
   "execution_count": 111,
   "id": "e1a41ecf",
   "metadata": {
    "colab": {
     "base_uri": "https://localhost:8080/"
    },
    "id": "e1a41ecf",
    "outputId": "4bcc8d92-65b5-457b-dd51-a32138a6ae22"
   },
   "outputs": [
    {
     "data": {
      "text/plain": [
       "array([ 5.3238,  3.0196, 32.8515,  5.1158,  2.98  , 32.9945])"
      ]
     },
     "execution_count": 111,
     "metadata": {},
     "output_type": "execute_result"
    }
   ],
   "source": [
    "y.iloc[4:10].values"
   ]
  },
  {
   "cell_type": "code",
   "execution_count": 121,
   "id": "d337d21c",
   "metadata": {
    "colab": {
     "base_uri": "https://localhost:8080/",
     "height": 237
    },
    "id": "d337d21c",
    "outputId": "49b8516a-ef3c-48cf-a3d0-8b2af0d89d98"
   },
   "outputs": [
    {
     "data": {
      "text/html": [
       "<div>\n",
       "<style scoped>\n",
       "    .dataframe tbody tr th:only-of-type {\n",
       "        vertical-align: middle;\n",
       "    }\n",
       "\n",
       "    .dataframe tbody tr th {\n",
       "        vertical-align: top;\n",
       "    }\n",
       "\n",
       "    .dataframe thead th {\n",
       "        text-align: right;\n",
       "    }\n",
       "</style>\n",
       "<table border=\"1\" class=\"dataframe\">\n",
       "  <thead>\n",
       "    <tr style=\"text-align: right;\">\n",
       "      <th></th>\n",
       "      <th>streamflow_real</th>\n",
       "      <th>streamflow_pred</th>\n",
       "    </tr>\n",
       "  </thead>\n",
       "  <tbody>\n",
       "    <tr>\n",
       "      <th>0</th>\n",
       "      <td>5.3238</td>\n",
       "      <td>4</td>\n",
       "    </tr>\n",
       "    <tr>\n",
       "      <th>1</th>\n",
       "      <td>3.0196</td>\n",
       "      <td>2</td>\n",
       "    </tr>\n",
       "    <tr>\n",
       "      <th>2</th>\n",
       "      <td>32.8515</td>\n",
       "      <td>29</td>\n",
       "    </tr>\n",
       "    <tr>\n",
       "      <th>3</th>\n",
       "      <td>5.1158</td>\n",
       "      <td>3</td>\n",
       "    </tr>\n",
       "    <tr>\n",
       "      <th>4</th>\n",
       "      <td>2.9800</td>\n",
       "      <td>3</td>\n",
       "    </tr>\n",
       "    <tr>\n",
       "      <th>5</th>\n",
       "      <td>32.9945</td>\n",
       "      <td>32</td>\n",
       "    </tr>\n",
       "  </tbody>\n",
       "</table>\n",
       "</div>"
      ],
      "text/plain": [
       "   streamflow_real  streamflow_pred\n",
       "0           5.3238                4\n",
       "1           3.0196                2\n",
       "2          32.8515               29\n",
       "3           5.1158                3\n",
       "4           2.9800                3\n",
       "5          32.9945               32"
      ]
     },
     "execution_count": 121,
     "metadata": {},
     "output_type": "execute_result"
    }
   ],
   "source": [
    "pred_df = pd.DataFrame({\n",
    "    'streamflow_real': y.iloc[4:10].values,\n",
    "    'streamflow_pred': map(int, pipe.predict(X.iloc[4:10]))\n",
    "}\n",
    ")\n",
    "pred_df"
   ]
  },
  {
   "cell_type": "markdown",
   "id": "bdd764c8",
   "metadata": {
    "id": "bdd764c8"
   },
   "source": [
    "---"
   ]
  },
  {
   "cell_type": "markdown",
   "id": "f63c2cf2",
   "metadata": {
    "id": "f63c2cf2"
   },
   "source": [
    "## <span style='color:#ff5f27'>🗄 Model Registry</span>\n",
    "\n",
    "One of the features in Hopsworks is the model registry. This is where you can store different versions of models and compare their performance. Models from the registry can then be served as API endpoints."
   ]
  },
  {
   "cell_type": "code",
   "execution_count": 122,
   "id": "c553b659",
   "metadata": {
    "colab": {
     "base_uri": "https://localhost:8080/"
    },
    "id": "c553b659",
    "outputId": "028b8189-70d1-4496-f3b1-501730d01b59"
   },
   "outputs": [
    {
     "name": "stdout",
     "output_type": "stream",
     "text": [
      "Connected. Call `.close()` to terminate connection gracefully.\n"
     ]
    }
   ],
   "source": [
    "mr = project.get_model_registry()"
   ]
  },
  {
   "cell_type": "markdown",
   "id": "96efc602",
   "metadata": {
    "id": "96efc602"
   },
   "source": [
    "### <span style=\"color:#ff5f27;\">⚙️ Model Schema</span>"
   ]
  },
  {
   "cell_type": "markdown",
   "id": "f9ddad82",
   "metadata": {
    "id": "f9ddad82"
   },
   "source": [
    "The model needs to be set up with a [Model Schema](https://docs.hopsworks.ai/machine-learning-api/latest/generated/model_schema/), which describes the inputs and outputs for a model.\n",
    "\n",
    "A Model Schema can be automatically generated from training examples, as shown below."
   ]
  },
  {
   "cell_type": "code",
   "execution_count": 123,
   "id": "cd3f3751",
   "metadata": {
    "colab": {
     "base_uri": "https://localhost:8080/"
    },
    "id": "cd3f3751",
    "outputId": "0734ff2e-ecb5-4b13-bdb3-58fe7533ce16",
    "scrolled": true
   },
   "outputs": [
    {
     "data": {
      "text/plain": [
       "{'input_schema': {'columnar_schema': [{'name': 'streamflow',\n",
       "    'type': 'float64'},\n",
       "   {'name': 'temperature_2m_max', 'type': 'float64'},\n",
       "   {'name': 'temperature_2m_min', 'type': 'float64'},\n",
       "   {'name': 'precipitation_sum', 'type': 'float64'},\n",
       "   {'name': 'rain_sum', 'type': 'float64'},\n",
       "   {'name': 'snowfall_sum', 'type': 'float64'},\n",
       "   {'name': 'precipitation_hours', 'type': 'float64'},\n",
       "   {'name': 'windspeed_10m_max', 'type': 'float64'},\n",
       "   {'name': 'windgusts_10m_max', 'type': 'float64'},\n",
       "   {'name': 'winddirection_10m_dominant', 'type': 'float64'},\n",
       "   {'name': 'et0_fao_evapotranspiration', 'type': 'float64'}]},\n",
       " 'output_schema': {'columnar_schema': [{'name': 'streamflow_next_day',\n",
       "    'type': 'float64'}]}}"
      ]
     },
     "execution_count": 123,
     "metadata": {},
     "output_type": "execute_result"
    }
   ],
   "source": [
    "from hsml.schema import Schema\n",
    "from hsml.model_schema import ModelSchema\n",
    "\n",
    "input_schema = Schema(X)\n",
    "output_schema = Schema(y)\n",
    "model_schema = ModelSchema(input_schema=input_schema, output_schema=output_schema)\n",
    "\n",
    "model_schema.to_dict()"
   ]
  },
  {
   "cell_type": "code",
   "execution_count": 125,
   "id": "d2777f5e",
   "metadata": {
    "colab": {
     "base_uri": "https://localhost:8080/"
    },
    "id": "d2777f5e",
    "outputId": "f198b89b-bf62-47d0-c55f-d1b82c94279e",
    "scrolled": true
   },
   "outputs": [
    {
     "data": {
      "text/plain": [
       "['model.pkl']"
      ]
     },
     "execution_count": 125,
     "metadata": {},
     "output_type": "execute_result"
    }
   ],
   "source": [
    "import joblib\n",
    "\n",
    "joblib.dump(pipe, 'model.pkl')"
   ]
  },
  {
   "cell_type": "code",
   "execution_count": 127,
   "id": "41f6811e",
   "metadata": {
    "colab": {
     "base_uri": "https://localhost:8080/",
     "height": 84,
     "referenced_widgets": [
      "b8f5353a52ce41039fd1e02f203491ff",
      "3446227e95cb4c5487e95df5ff1bdf68",
      "36c60cfbbd6946e287e39a8f0d71b35b",
      "ed7160cc10cc4d5798f8ce70bebbb88d",
      "75947a44381b41868f27bb8055a45598",
      "3f3b3a4e4d684085aea9c9849399f80a",
      "dbbb08e9e79b42a091612ded69476a96",
      "5cb981558ab34036a91dd95aaf0d86a5",
      "c73943804084413ea7c7688f9ab2e7ea",
      "f32a3f8a5fbf4a0bad2bd67c2da0f911",
      "55907b7a615a471bb304cbe454b748b4"
     ]
    },
    "id": "41f6811e",
    "outputId": "5cf30348-4dd7-4ff9-e56f-edb968141f6e"
   },
   "outputs": [
    {
     "data": {
      "application/vnd.jupyter.widget-view+json": {
       "model_id": "5b8f74c8882f4b03ac766a256aa692e7",
       "version_major": 2,
       "version_minor": 0
      },
      "text/plain": [
       "  0%|          | 0/6 [00:00<?, ?it/s]"
      ]
     },
     "metadata": {},
     "output_type": "display_data"
    },
    {
     "name": "stdout",
     "output_type": "stream",
     "text": [
      "Model created, explore it at https://c.app.hopsworks.ai:443/p/5318/models/gradient_boost_pipeline/1\n"
     ]
    },
    {
     "data": {
      "text/plain": [
       "Model(name: 'gradient_boost_pipeline', version: 1)"
      ]
     },
     "execution_count": 127,
     "metadata": {},
     "output_type": "execute_result"
    }
   ],
   "source": [
    "model = mr.sklearn.create_model(\n",
    "    name=\"gradient_boost_pipeline\",\n",
    "    metrics={\"f1\": f1}, \n",
    "    description=\"Tranformations and Gradient Boost Regressor.\",\n",
    "    input_example=X.sample(),\n",
    "    model_schema=model_schema\n",
    ")\n",
    "\n",
    "model.save('model.pkl')"
   ]
  }
 ],
 "metadata": {
  "colab": {
   "provenance": []
  },
  "kernelspec": {
   "display_name": "Python 3 (ipykernel)",
   "language": "python",
   "name": "python3"
  },
  "language_info": {
   "codemirror_mode": {
    "name": "ipython",
    "version": 3
   },
   "file_extension": ".py",
   "mimetype": "text/x-python",
   "name": "python",
   "nbconvert_exporter": "python",
   "pygments_lexer": "ipython3",
   "version": "3.9.15"
  },
  "widgets": {
   "application/vnd.jupyter.widget-state+json": {
    "3446227e95cb4c5487e95df5ff1bdf68": {
     "model_module": "@jupyter-widgets/controls",
     "model_module_version": "1.5.0",
     "model_name": "HTMLModel",
     "state": {
      "_dom_classes": [],
      "_model_module": "@jupyter-widgets/controls",
      "_model_module_version": "1.5.0",
      "_model_name": "HTMLModel",
      "_view_count": null,
      "_view_module": "@jupyter-widgets/controls",
      "_view_module_version": "1.5.0",
      "_view_name": "HTMLView",
      "description": "",
      "description_tooltip": null,
      "layout": "IPY_MODEL_3f3b3a4e4d684085aea9c9849399f80a",
      "placeholder": "​",
      "style": "IPY_MODEL_dbbb08e9e79b42a091612ded69476a96",
      "value": "Model export complete: 100%"
     }
    },
    "36c60cfbbd6946e287e39a8f0d71b35b": {
     "model_module": "@jupyter-widgets/controls",
     "model_module_version": "1.5.0",
     "model_name": "FloatProgressModel",
     "state": {
      "_dom_classes": [],
      "_model_module": "@jupyter-widgets/controls",
      "_model_module_version": "1.5.0",
      "_model_name": "FloatProgressModel",
      "_view_count": null,
      "_view_module": "@jupyter-widgets/controls",
      "_view_module_version": "1.5.0",
      "_view_name": "ProgressView",
      "bar_style": "success",
      "description": "",
      "description_tooltip": null,
      "layout": "IPY_MODEL_5cb981558ab34036a91dd95aaf0d86a5",
      "max": 6,
      "min": 0,
      "orientation": "horizontal",
      "style": "IPY_MODEL_c73943804084413ea7c7688f9ab2e7ea",
      "value": 6
     }
    },
    "3f3b3a4e4d684085aea9c9849399f80a": {
     "model_module": "@jupyter-widgets/base",
     "model_module_version": "1.2.0",
     "model_name": "LayoutModel",
     "state": {
      "_model_module": "@jupyter-widgets/base",
      "_model_module_version": "1.2.0",
      "_model_name": "LayoutModel",
      "_view_count": null,
      "_view_module": "@jupyter-widgets/base",
      "_view_module_version": "1.2.0",
      "_view_name": "LayoutView",
      "align_content": null,
      "align_items": null,
      "align_self": null,
      "border": null,
      "bottom": null,
      "display": null,
      "flex": null,
      "flex_flow": null,
      "grid_area": null,
      "grid_auto_columns": null,
      "grid_auto_flow": null,
      "grid_auto_rows": null,
      "grid_column": null,
      "grid_gap": null,
      "grid_row": null,
      "grid_template_areas": null,
      "grid_template_columns": null,
      "grid_template_rows": null,
      "height": null,
      "justify_content": null,
      "justify_items": null,
      "left": null,
      "margin": null,
      "max_height": null,
      "max_width": null,
      "min_height": null,
      "min_width": null,
      "object_fit": null,
      "object_position": null,
      "order": null,
      "overflow": null,
      "overflow_x": null,
      "overflow_y": null,
      "padding": null,
      "right": null,
      "top": null,
      "visibility": null,
      "width": null
     }
    },
    "55907b7a615a471bb304cbe454b748b4": {
     "model_module": "@jupyter-widgets/controls",
     "model_module_version": "1.5.0",
     "model_name": "DescriptionStyleModel",
     "state": {
      "_model_module": "@jupyter-widgets/controls",
      "_model_module_version": "1.5.0",
      "_model_name": "DescriptionStyleModel",
      "_view_count": null,
      "_view_module": "@jupyter-widgets/base",
      "_view_module_version": "1.2.0",
      "_view_name": "StyleView",
      "description_width": ""
     }
    },
    "5cb981558ab34036a91dd95aaf0d86a5": {
     "model_module": "@jupyter-widgets/base",
     "model_module_version": "1.2.0",
     "model_name": "LayoutModel",
     "state": {
      "_model_module": "@jupyter-widgets/base",
      "_model_module_version": "1.2.0",
      "_model_name": "LayoutModel",
      "_view_count": null,
      "_view_module": "@jupyter-widgets/base",
      "_view_module_version": "1.2.0",
      "_view_name": "LayoutView",
      "align_content": null,
      "align_items": null,
      "align_self": null,
      "border": null,
      "bottom": null,
      "display": null,
      "flex": null,
      "flex_flow": null,
      "grid_area": null,
      "grid_auto_columns": null,
      "grid_auto_flow": null,
      "grid_auto_rows": null,
      "grid_column": null,
      "grid_gap": null,
      "grid_row": null,
      "grid_template_areas": null,
      "grid_template_columns": null,
      "grid_template_rows": null,
      "height": null,
      "justify_content": null,
      "justify_items": null,
      "left": null,
      "margin": null,
      "max_height": null,
      "max_width": null,
      "min_height": null,
      "min_width": null,
      "object_fit": null,
      "object_position": null,
      "order": null,
      "overflow": null,
      "overflow_x": null,
      "overflow_y": null,
      "padding": null,
      "right": null,
      "top": null,
      "visibility": null,
      "width": null
     }
    },
    "75947a44381b41868f27bb8055a45598": {
     "model_module": "@jupyter-widgets/base",
     "model_module_version": "1.2.0",
     "model_name": "LayoutModel",
     "state": {
      "_model_module": "@jupyter-widgets/base",
      "_model_module_version": "1.2.0",
      "_model_name": "LayoutModel",
      "_view_count": null,
      "_view_module": "@jupyter-widgets/base",
      "_view_module_version": "1.2.0",
      "_view_name": "LayoutView",
      "align_content": null,
      "align_items": null,
      "align_self": null,
      "border": null,
      "bottom": null,
      "display": null,
      "flex": null,
      "flex_flow": null,
      "grid_area": null,
      "grid_auto_columns": null,
      "grid_auto_flow": null,
      "grid_auto_rows": null,
      "grid_column": null,
      "grid_gap": null,
      "grid_row": null,
      "grid_template_areas": null,
      "grid_template_columns": null,
      "grid_template_rows": null,
      "height": null,
      "justify_content": null,
      "justify_items": null,
      "left": null,
      "margin": null,
      "max_height": null,
      "max_width": null,
      "min_height": null,
      "min_width": null,
      "object_fit": null,
      "object_position": null,
      "order": null,
      "overflow": null,
      "overflow_x": null,
      "overflow_y": null,
      "padding": null,
      "right": null,
      "top": null,
      "visibility": null,
      "width": null
     }
    },
    "b8f5353a52ce41039fd1e02f203491ff": {
     "model_module": "@jupyter-widgets/controls",
     "model_module_version": "1.5.0",
     "model_name": "HBoxModel",
     "state": {
      "_dom_classes": [],
      "_model_module": "@jupyter-widgets/controls",
      "_model_module_version": "1.5.0",
      "_model_name": "HBoxModel",
      "_view_count": null,
      "_view_module": "@jupyter-widgets/controls",
      "_view_module_version": "1.5.0",
      "_view_name": "HBoxView",
      "box_style": "",
      "children": [
       "IPY_MODEL_3446227e95cb4c5487e95df5ff1bdf68",
       "IPY_MODEL_36c60cfbbd6946e287e39a8f0d71b35b",
       "IPY_MODEL_ed7160cc10cc4d5798f8ce70bebbb88d"
      ],
      "layout": "IPY_MODEL_75947a44381b41868f27bb8055a45598"
     }
    },
    "c73943804084413ea7c7688f9ab2e7ea": {
     "model_module": "@jupyter-widgets/controls",
     "model_module_version": "1.5.0",
     "model_name": "ProgressStyleModel",
     "state": {
      "_model_module": "@jupyter-widgets/controls",
      "_model_module_version": "1.5.0",
      "_model_name": "ProgressStyleModel",
      "_view_count": null,
      "_view_module": "@jupyter-widgets/base",
      "_view_module_version": "1.2.0",
      "_view_name": "StyleView",
      "bar_color": null,
      "description_width": ""
     }
    },
    "dbbb08e9e79b42a091612ded69476a96": {
     "model_module": "@jupyter-widgets/controls",
     "model_module_version": "1.5.0",
     "model_name": "DescriptionStyleModel",
     "state": {
      "_model_module": "@jupyter-widgets/controls",
      "_model_module_version": "1.5.0",
      "_model_name": "DescriptionStyleModel",
      "_view_count": null,
      "_view_module": "@jupyter-widgets/base",
      "_view_module_version": "1.2.0",
      "_view_name": "StyleView",
      "description_width": ""
     }
    },
    "ed7160cc10cc4d5798f8ce70bebbb88d": {
     "model_module": "@jupyter-widgets/controls",
     "model_module_version": "1.5.0",
     "model_name": "HTMLModel",
     "state": {
      "_dom_classes": [],
      "_model_module": "@jupyter-widgets/controls",
      "_model_module_version": "1.5.0",
      "_model_name": "HTMLModel",
      "_view_count": null,
      "_view_module": "@jupyter-widgets/controls",
      "_view_module_version": "1.5.0",
      "_view_name": "HTMLView",
      "description": "",
      "description_tooltip": null,
      "layout": "IPY_MODEL_f32a3f8a5fbf4a0bad2bd67c2da0f911",
      "placeholder": "​",
      "style": "IPY_MODEL_55907b7a615a471bb304cbe454b748b4",
      "value": " 6/6 [00:22&lt;00:00,  5.05s/it]"
     }
    },
    "f32a3f8a5fbf4a0bad2bd67c2da0f911": {
     "model_module": "@jupyter-widgets/base",
     "model_module_version": "1.2.0",
     "model_name": "LayoutModel",
     "state": {
      "_model_module": "@jupyter-widgets/base",
      "_model_module_version": "1.2.0",
      "_model_name": "LayoutModel",
      "_view_count": null,
      "_view_module": "@jupyter-widgets/base",
      "_view_module_version": "1.2.0",
      "_view_name": "LayoutView",
      "align_content": null,
      "align_items": null,
      "align_self": null,
      "border": null,
      "bottom": null,
      "display": null,
      "flex": null,
      "flex_flow": null,
      "grid_area": null,
      "grid_auto_columns": null,
      "grid_auto_flow": null,
      "grid_auto_rows": null,
      "grid_column": null,
      "grid_gap": null,
      "grid_row": null,
      "grid_template_areas": null,
      "grid_template_columns": null,
      "grid_template_rows": null,
      "height": null,
      "justify_content": null,
      "justify_items": null,
      "left": null,
      "margin": null,
      "max_height": null,
      "max_width": null,
      "min_height": null,
      "min_width": null,
      "object_fit": null,
      "object_position": null,
      "order": null,
      "overflow": null,
      "overflow_x": null,
      "overflow_y": null,
      "padding": null,
      "right": null,
      "top": null,
      "visibility": null,
      "width": null
     }
    }
   }
  }
 },
 "nbformat": 4,
 "nbformat_minor": 5
}
