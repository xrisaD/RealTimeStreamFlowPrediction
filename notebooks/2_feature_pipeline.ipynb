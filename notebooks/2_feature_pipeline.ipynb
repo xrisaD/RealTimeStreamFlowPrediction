{
 "cells": [
  {
   "cell_type": "markdown",
   "id": "3670dd23",
   "metadata": {
    "colab_type": "text",
    "id": "view-in-github"
   },
   "source": [
    "<a href=\"https://colab.research.google.com/github/xrisaD/ScalableMLProject/blob/main/2_feature_pipeline.ipynb\" target=\"_parent\"><img src=\"https://colab.research.google.com/assets/colab-badge.svg\" alt=\"Open In Colab\"/></a>"
   ]
  },
  {
   "cell_type": "markdown",
   "id": "dd094af7",
   "metadata": {
    "id": "dd094af7"
   },
   "source": [
    "# <span style=\"font-width:bold; font-size: 3rem; color:#1EB182;\"><img src=\"../../images/icon102.png\" width=\"38px\"></img> **Hopsworks Feature Store** </span><span style=\"font-width:bold; font-size: 3rem; color:#333;\">- Part 02: Feature Pipeline</span>\n",
    "\n",
    "\n",
    "## 🗒️ This notebook is divided into the following sections:\n",
    "1. Parse Data\n",
    "2. Feature Group Insertion"
   ]
  },
  {
   "cell_type": "markdown",
   "id": "a7dcc328",
   "metadata": {
    "id": "a7dcc328"
   },
   "source": [
    "## <span style='color:#ff5f27'> 📝 Imports"
   ]
  },
  {
   "cell_type": "code",
   "execution_count": 1,
   "id": "cd688d55",
   "metadata": {},
   "outputs": [],
   "source": [
    "import sys\n",
    "sys.path.append('../')"
   ]
  },
  {
   "cell_type": "code",
   "execution_count": 2,
   "id": "364e961e",
   "metadata": {
    "id": "364e961e"
   },
   "outputs": [],
   "source": [
    "import hopsworks\n",
    "import pandas as pd\n",
    "from datetime import datetime, timedelta\n",
    "import time \n",
    "import requests\n",
    "\n",
    "from features.feature_engineering import *"
   ]
  },
  {
   "cell_type": "markdown",
   "id": "cHTq1GdXf7wo",
   "metadata": {
    "id": "cHTq1GdXf7wo"
   },
   "source": [
    "## <span style='color:#ff5f27'> 🌎 Locations"
   ]
  },
  {
   "cell_type": "code",
   "execution_count": 3,
   "id": "CEhHFmsVf6mT",
   "metadata": {
    "id": "CEhHFmsVf6mT"
   },
   "outputs": [],
   "source": [
    "place_list = ['Abisko', 'Uppsala', 'Spånga']\n",
    "\n",
    "place_streamflow = [2357, 2609, 2212]\n",
    "\n",
    "lat_long = [[ 68.35, 18.82],[59.87, 17.60], [58.00, 12.73]]"
   ]
  },
  {
   "cell_type": "markdown",
   "id": "26a00ba0",
   "metadata": {},
   "source": [
    "## <span style='color:#ff5f27'> Dates"
   ]
  },
  {
   "cell_type": "code",
   "execution_count": 4,
   "id": "RrLRBIFMC8hF",
   "metadata": {
    "colab": {
     "base_uri": "https://localhost:8080/"
    },
    "id": "RrLRBIFMC8hF",
    "outputId": "e9a4b4a1-4ca1-44ad-bc64-ce40356f0a8d"
   },
   "outputs": [
    {
     "data": {
      "text/plain": [
       "datetime.datetime(2022, 12, 26, 0, 0)"
      ]
     },
     "execution_count": 4,
     "metadata": {},
     "output_type": "execute_result"
    }
   ],
   "source": [
    "yesterday = get_yesterday(datetime.today())\n",
    "yesterday"
   ]
  },
  {
   "cell_type": "markdown",
   "id": "0ab1d478",
   "metadata": {
    "id": "0ab1d478"
   },
   "source": [
    "---"
   ]
  },
  {
   "cell_type": "markdown",
   "id": "10c2618b",
   "metadata": {
    "id": "10c2618b"
   },
   "source": [
    "## <span style=\"color:#ff5f27;\"> 🔮 Connecting to Hopsworks Feature Store </span>"
   ]
  },
  {
   "cell_type": "code",
   "execution_count": 5,
   "id": "4530f803",
   "metadata": {
    "colab": {
     "base_uri": "https://localhost:8080/"
    },
    "id": "4530f803",
    "outputId": "c87d38b9-54b9-4676-f60b-52262696e6d3"
   },
   "outputs": [
    {
     "name": "stdout",
     "output_type": "stream",
     "text": [
      "Connected. Call `.close()` to terminate connection gracefully.\n",
      "\n",
      "Logged in to project, explore it here https://c.app.hopsworks.ai:443/p/5318\n"
     ]
    },
    {
     "name": "stderr",
     "output_type": "stream",
     "text": [
      "DeprecationWarning: the imp module is deprecated in favour of importlib; see the module's documentation for alternative uses\n"
     ]
    },
    {
     "name": "stdout",
     "output_type": "stream",
     "text": [
      "Connected. Call `.close()` to terminate connection gracefully.\n"
     ]
    }
   ],
   "source": [
    "project = hopsworks.login()\n",
    "\n",
    "fs = project.get_feature_store() "
   ]
  },
  {
   "cell_type": "code",
   "execution_count": 6,
   "id": "76d4d853",
   "metadata": {
    "id": "76d4d853"
   },
   "outputs": [],
   "source": [
    "streamflow_fg = fs.get_or_create_feature_group(\n",
    "    name = 'streamflow_fg',\n",
    "    version = 1\n",
    ")"
   ]
  },
  {
   "cell_type": "code",
   "execution_count": 7,
   "id": "997a96f8",
   "metadata": {
    "id": "997a96f8"
   },
   "outputs": [],
   "source": [
    "weather_fg = fs.get_or_create_feature_group(\n",
    "    name = 'weather_fg',\n",
    "    version = 1\n",
    ")"
   ]
  },
  {
   "cell_type": "markdown",
   "id": "5c5be1bc",
   "metadata": {
    "id": "5c5be1bc"
   },
   "source": [
    "## <span style='color:#ff5f27'>  🧙🏼‍♂️ Parsing Data"
   ]
  },
  {
   "cell_type": "code",
   "execution_count": 8,
   "id": "e71139f6",
   "metadata": {},
   "outputs": [
    {
     "data": {
      "text/plain": [
       "[['2022-12-26', '30.0488', 'Abisko'],\n",
       " ['2022-12-26', '5.0344', 'Uppsala'],\n",
       " ['2022-12-26', '5.1179', 'Spånga']]"
      ]
     },
     "execution_count": 8,
     "metadata": {},
     "output_type": "execute_result"
    }
   ],
   "source": [
    "data_streamflow = []\n",
    "for p1, p2 in zip(place_streamflow, place_list):\n",
    "    data_streamflow.extend(get_streamflow_data(p1, yesterday, p2))\n",
    "data_streamflow"
   ]
  },
  {
   "cell_type": "code",
   "execution_count": 9,
   "id": "9rgPvkbqH04a",
   "metadata": {
    "colab": {
     "base_uri": "https://localhost:8080/"
    },
    "id": "9rgPvkbqH04a",
    "outputId": "23372bbc-e077-4825-d3af-15679e7433ac"
   },
   "outputs": [
    {
     "data": {
      "text/plain": [
       "[{'time': ['2022-12-26',\n",
       "   '2022-12-27',\n",
       "   '2022-12-28',\n",
       "   '2022-12-29',\n",
       "   '2022-12-30',\n",
       "   '2022-12-31',\n",
       "   '2023-01-01',\n",
       "   '2023-01-02'],\n",
       "  'temperature_2m_max': [-6.7, -1.5, -3.2, -5.7, -7.8, -6.2, -4.1, -0.4],\n",
       "  'temperature_2m_min': [-12.7, -10.5, -10.3, -12.2, -9.0, -10.6, -5.6, -7.0],\n",
       "  'precipitation_sum': [0.0, 0.0, 0.2, 0.0, 0.7, 0.0, 0.0, 0.0],\n",
       "  'rain_sum': [0.0, 0.0, 0.0, 0.0, 0.0, 0.0, 0.0, 0.0],\n",
       "  'snowfall_sum': [0.0, 0.0, 0.14, 0.0, 0.42, 0.0, 0.0, 0.0],\n",
       "  'precipitation_hours': [0.0, 0.0, 2.0, 0.0, 7.0, 0.0, 0.0, 0.0],\n",
       "  'windspeed_10m_max': [13.0, 20.2, 18.4, 37.1, 24.6, 9.0, 33.8, 29.0],\n",
       "  'windgusts_10m_max': [41.4, 43.6, 38.2, 76.7, 49.7, 16.2, 61.2, 54.4],\n",
       "  'winddirection_10m_dominant': [81, 102, 201, 75, 107, 210, 296, 297],\n",
       "  'et0_fao_evapotranspiration': [0.03,\n",
       "   0.12,\n",
       "   0.03,\n",
       "   0.26,\n",
       "   0.16,\n",
       "   0.0,\n",
       "   0.38,\n",
       "   0.31],\n",
       "  'place': 'Abisko'},\n",
       " {'time': ['2022-12-26',\n",
       "   '2022-12-27',\n",
       "   '2022-12-28',\n",
       "   '2022-12-29',\n",
       "   '2022-12-30',\n",
       "   '2022-12-31',\n",
       "   '2023-01-01',\n",
       "   '2023-01-02'],\n",
       "  'temperature_2m_max': [2.9, 2.4, -1.5, 4.4, 3.6, 4.8, 2.9, 1.1],\n",
       "  'temperature_2m_min': [0.6, -1.5, -7.4, -2.7, 2.4, 0.4, -3.9, -5.0],\n",
       "  'precipitation_sum': [0.8, 2.8, 0.0, 3.5, 1.4, 4.1, 0.0, 1.0],\n",
       "  'rain_sum': [1.5, 0.0, 0.0, 8.6, 1.4, 2.9, 0.0, 0.3],\n",
       "  'snowfall_sum': [0.0, 0.0, 0.0, 0.0, 0.0, 0.42, 0.0, 0.0],\n",
       "  'precipitation_hours': [3.0, 6.0, 0.0, 10.0, 8.0, 17.0, 0.0, 7.0],\n",
       "  'windspeed_10m_max': [25.6, 20.5, 20.2, 27.4, 24.7, 21.0, 15.9, 8.7],\n",
       "  'windgusts_10m_max': [43.9, 35.6, 34.6, 47.2, 50.0, 45.4, 32.0, 19.8],\n",
       "  'winddirection_10m_dominant': [153, 240, 250, 153, 213, 211, 292, 184],\n",
       "  'et0_fao_evapotranspiration': [0.11,\n",
       "   0.18,\n",
       "   0.13,\n",
       "   0.07,\n",
       "   0.2,\n",
       "   0.17,\n",
       "   0.18,\n",
       "   0.07],\n",
       "  'place': 'Uppsala'},\n",
       " {'time': ['2022-12-26',\n",
       "   '2022-12-27',\n",
       "   '2022-12-28',\n",
       "   '2022-12-29',\n",
       "   '2022-12-30',\n",
       "   '2022-12-31',\n",
       "   '2023-01-01',\n",
       "   '2023-01-02'],\n",
       "  'temperature_2m_max': [4.2, 2.7, 2.3, 6.8, 4.6, 6.1, 3.7, 4.8],\n",
       "  'temperature_2m_min': [0.9, -0.2, -0.1, 2.6, 3.6, 4.1, -0.6, 0.0],\n",
       "  'precipitation_sum': [3.9, 0.0, 1.2, 5.8, 8.8, 3.8, 5.1, 0.0],\n",
       "  'rain_sum': [1.4, 0.0, 0.8, 15.1, 7.3, 3.8, 0.0, 0.0],\n",
       "  'snowfall_sum': [0.0, 0.0, 0.07, 0.0, 0.0, 0.0, 3.57, 0.0],\n",
       "  'precipitation_hours': [10.0, 0.0, 6.0, 10.0, 19.0, 11.0, 12.0, 0.0],\n",
       "  'windspeed_10m_max': [24.1, 25.2, 14.8, 28.8, 22.0, 21.6, 12.9, 13.4],\n",
       "  'windgusts_10m_max': [50.8, 51.1, 29.9, 61.9, 55.1, 57.6, 36.0, 31.7],\n",
       "  'winddirection_10m_dominant': [182, 247, 139, 201, 206, 221, 94, 189],\n",
       "  'et0_fao_evapotranspiration': [0.14,\n",
       "   0.33,\n",
       "   0.07,\n",
       "   0.21,\n",
       "   0.18,\n",
       "   0.19,\n",
       "   0.09,\n",
       "   0.06],\n",
       "  'place': 'Spånga'}]"
      ]
     },
     "execution_count": 9,
     "metadata": {},
     "output_type": "execute_result"
    }
   ],
   "source": [
    "data_weather = [get_weather_data(ll, place) for ll, place in zip(lat_long, place_list)]\n",
    "data_weather"
   ]
  },
  {
   "cell_type": "markdown",
   "id": "792dd383",
   "metadata": {
    "id": "792dd383"
   },
   "source": [
    "---"
   ]
  },
  {
   "cell_type": "markdown",
   "id": "cca6814a",
   "metadata": {
    "id": "cca6814a"
   },
   "source": [
    "## <span style='color:#ff5f27'> 🧑🏻‍🏫 Dataset Preparation"
   ]
  },
  {
   "cell_type": "markdown",
   "id": "2f172f7b",
   "metadata": {
    "id": "2f172f7b"
   },
   "source": [
    "#### <span style='color:#ff5f27'> 👩🏻‍🔬 Air Quality Data"
   ]
  },
  {
   "cell_type": "code",
   "execution_count": 10,
   "id": "7d3f552e",
   "metadata": {
    "colab": {
     "base_uri": "https://localhost:8080/",
     "height": 676
    },
    "id": "7d3f552e",
    "outputId": "13bc0233-bf4e-4208-921f-4e4ad3aeac5e"
   },
   "outputs": [
    {
     "data": {
      "text/html": [
       "<div>\n",
       "<style scoped>\n",
       "    .dataframe tbody tr th:only-of-type {\n",
       "        vertical-align: middle;\n",
       "    }\n",
       "\n",
       "    .dataframe tbody tr th {\n",
       "        vertical-align: top;\n",
       "    }\n",
       "\n",
       "    .dataframe thead th {\n",
       "        text-align: right;\n",
       "    }\n",
       "</style>\n",
       "<table border=\"1\" class=\"dataframe\">\n",
       "  <thead>\n",
       "    <tr style=\"text-align: right;\">\n",
       "      <th></th>\n",
       "      <th>date</th>\n",
       "      <th>streamflow</th>\n",
       "      <th>place</th>\n",
       "    </tr>\n",
       "  </thead>\n",
       "  <tbody>\n",
       "    <tr>\n",
       "      <th>0</th>\n",
       "      <td>1672009200000</td>\n",
       "      <td>30.0488</td>\n",
       "      <td>Abisko</td>\n",
       "    </tr>\n",
       "    <tr>\n",
       "      <th>1</th>\n",
       "      <td>1672009200000</td>\n",
       "      <td>5.0344</td>\n",
       "      <td>Uppsala</td>\n",
       "    </tr>\n",
       "    <tr>\n",
       "      <th>2</th>\n",
       "      <td>1672009200000</td>\n",
       "      <td>5.1179</td>\n",
       "      <td>Spånga</td>\n",
       "    </tr>\n",
       "  </tbody>\n",
       "</table>\n",
       "</div>"
      ],
      "text/plain": [
       "            date  streamflow    place\n",
       "0  1672009200000     30.0488   Abisko\n",
       "1  1672009200000      5.0344  Uppsala\n",
       "2  1672009200000      5.1179   Spånga"
      ]
     },
     "execution_count": 10,
     "metadata": {},
     "output_type": "execute_result"
    }
   ],
   "source": [
    "df_streamflow = get_streamflow_df(data_streamflow)\n",
    "\n",
    "df_streamflow"
   ]
  },
  {
   "cell_type": "markdown",
   "id": "5441afc6",
   "metadata": {
    "id": "5441afc6"
   },
   "source": [
    "#### <span style='color:#ff5f27'> 🌦 Weather Data"
   ]
  },
  {
   "cell_type": "code",
   "execution_count": 11,
   "id": "be60bd25",
   "metadata": {
    "colab": {
     "base_uri": "https://localhost:8080/",
     "height": 357
    },
    "id": "be60bd25",
    "outputId": "a9cc4038-4644-426a-842b-b68e5a2b7a90"
   },
   "outputs": [
    {
     "data": {
      "text/html": [
       "<div>\n",
       "<style scoped>\n",
       "    .dataframe tbody tr th:only-of-type {\n",
       "        vertical-align: middle;\n",
       "    }\n",
       "\n",
       "    .dataframe tbody tr th {\n",
       "        vertical-align: top;\n",
       "    }\n",
       "\n",
       "    .dataframe thead th {\n",
       "        text-align: right;\n",
       "    }\n",
       "</style>\n",
       "<table border=\"1\" class=\"dataframe\">\n",
       "  <thead>\n",
       "    <tr style=\"text-align: right;\">\n",
       "      <th></th>\n",
       "      <th>date</th>\n",
       "      <th>temperature_2m_max</th>\n",
       "      <th>temperature_2m_min</th>\n",
       "      <th>precipitation_sum</th>\n",
       "      <th>rain_sum</th>\n",
       "      <th>snowfall_sum</th>\n",
       "      <th>precipitation_hours</th>\n",
       "      <th>windspeed_10m_max</th>\n",
       "      <th>windgusts_10m_max</th>\n",
       "      <th>winddirection_10m_dominant</th>\n",
       "      <th>et0_fao_evapotranspiration</th>\n",
       "      <th>place</th>\n",
       "    </tr>\n",
       "  </thead>\n",
       "  <tbody>\n",
       "    <tr>\n",
       "      <th>0</th>\n",
       "      <td>1672009200000</td>\n",
       "      <td>-6.7</td>\n",
       "      <td>-12.7</td>\n",
       "      <td>0.0</td>\n",
       "      <td>0.0</td>\n",
       "      <td>0.00</td>\n",
       "      <td>0.0</td>\n",
       "      <td>13.0</td>\n",
       "      <td>41.4</td>\n",
       "      <td>81.0</td>\n",
       "      <td>0.03</td>\n",
       "      <td>Abisko</td>\n",
       "    </tr>\n",
       "    <tr>\n",
       "      <th>1</th>\n",
       "      <td>1672095600000</td>\n",
       "      <td>-1.5</td>\n",
       "      <td>-10.5</td>\n",
       "      <td>0.0</td>\n",
       "      <td>0.0</td>\n",
       "      <td>0.00</td>\n",
       "      <td>0.0</td>\n",
       "      <td>20.2</td>\n",
       "      <td>43.6</td>\n",
       "      <td>102.0</td>\n",
       "      <td>0.12</td>\n",
       "      <td>Abisko</td>\n",
       "    </tr>\n",
       "    <tr>\n",
       "      <th>2</th>\n",
       "      <td>1672182000000</td>\n",
       "      <td>-3.2</td>\n",
       "      <td>-10.3</td>\n",
       "      <td>0.2</td>\n",
       "      <td>0.0</td>\n",
       "      <td>0.14</td>\n",
       "      <td>2.0</td>\n",
       "      <td>18.4</td>\n",
       "      <td>38.2</td>\n",
       "      <td>201.0</td>\n",
       "      <td>0.03</td>\n",
       "      <td>Abisko</td>\n",
       "    </tr>\n",
       "    <tr>\n",
       "      <th>3</th>\n",
       "      <td>1672268400000</td>\n",
       "      <td>-5.7</td>\n",
       "      <td>-12.2</td>\n",
       "      <td>0.0</td>\n",
       "      <td>0.0</td>\n",
       "      <td>0.00</td>\n",
       "      <td>0.0</td>\n",
       "      <td>37.1</td>\n",
       "      <td>76.7</td>\n",
       "      <td>75.0</td>\n",
       "      <td>0.26</td>\n",
       "      <td>Abisko</td>\n",
       "    </tr>\n",
       "    <tr>\n",
       "      <th>4</th>\n",
       "      <td>1672354800000</td>\n",
       "      <td>-7.8</td>\n",
       "      <td>-9.0</td>\n",
       "      <td>0.7</td>\n",
       "      <td>0.0</td>\n",
       "      <td>0.42</td>\n",
       "      <td>7.0</td>\n",
       "      <td>24.6</td>\n",
       "      <td>49.7</td>\n",
       "      <td>107.0</td>\n",
       "      <td>0.16</td>\n",
       "      <td>Abisko</td>\n",
       "    </tr>\n",
       "  </tbody>\n",
       "</table>\n",
       "</div>"
      ],
      "text/plain": [
       "            date  temperature_2m_max  temperature_2m_min  precipitation_sum  \\\n",
       "0  1672009200000                -6.7               -12.7                0.0   \n",
       "1  1672095600000                -1.5               -10.5                0.0   \n",
       "2  1672182000000                -3.2               -10.3                0.2   \n",
       "3  1672268400000                -5.7               -12.2                0.0   \n",
       "4  1672354800000                -7.8                -9.0                0.7   \n",
       "\n",
       "   rain_sum  snowfall_sum  precipitation_hours  windspeed_10m_max  \\\n",
       "0       0.0          0.00                  0.0               13.0   \n",
       "1       0.0          0.00                  0.0               20.2   \n",
       "2       0.0          0.14                  2.0               18.4   \n",
       "3       0.0          0.00                  0.0               37.1   \n",
       "4       0.0          0.42                  7.0               24.6   \n",
       "\n",
       "   windgusts_10m_max  winddirection_10m_dominant  et0_fao_evapotranspiration  \\\n",
       "0               41.4                        81.0                        0.03   \n",
       "1               43.6                       102.0                        0.12   \n",
       "2               38.2                       201.0                        0.03   \n",
       "3               76.7                        75.0                        0.26   \n",
       "4               49.7                       107.0                        0.16   \n",
       "\n",
       "    place  \n",
       "0  Abisko  \n",
       "1  Abisko  \n",
       "2  Abisko  \n",
       "3  Abisko  \n",
       "4  Abisko  "
      ]
     },
     "execution_count": 11,
     "metadata": {},
     "output_type": "execute_result"
    }
   ],
   "source": [
    "df_weather = get_weather_df(data_weather)\n",
    "\n",
    "df_weather.head()"
   ]
  },
  {
   "cell_type": "markdown",
   "id": "f27e2dba",
   "metadata": {
    "id": "f27e2dba"
   },
   "source": [
    "---"
   ]
  },
  {
   "cell_type": "markdown",
   "id": "9812ea8c",
   "metadata": {
    "id": "9812ea8c"
   },
   "source": [
    "---"
   ]
  },
  {
   "cell_type": "markdown",
   "id": "5aef353d",
   "metadata": {
    "id": "5aef353d"
   },
   "source": [
    "## <span style=\"color:#ff5f27;\">⬆️ Uploading new data to the Feature Store</span>"
   ]
  },
  {
   "cell_type": "code",
   "execution_count": 12,
   "id": "f81bb922",
   "metadata": {
    "colab": {
     "base_uri": "https://localhost:8080/",
     "height": 118,
     "referenced_widgets": [
      "6ae210663a6e44b395f103c94b98fb98",
      "a472e798698547c4a1ba250bb481a1ca",
      "0709d88c61484f968f0f162483fabe2b",
      "c18a267f2b984d438130a7087bf85ead",
      "1a80a032205b4037ac2e48ce02b3a996",
      "bd8320063f574d4ebcf344c5e55c3cea",
      "fe630515ce204e409a02cc1b61712566",
      "21543565248343d7b61bd742babf2218",
      "9f608a0e161d48ed96ab60fb358f7648",
      "12df21da7c1141d597e3afe85386dd73",
      "202c90af4fd64cdca69a6a0346249c3e"
     ]
    },
    "id": "f81bb922",
    "outputId": "e34be5eb-ace1-45e4-d77c-143217602036"
   },
   "outputs": [
    {
     "data": {
      "application/vnd.jupyter.widget-view+json": {
       "model_id": "515a1f2127934d48ba0e6056e7874da5",
       "version_major": 2,
       "version_minor": 0
      },
      "text/plain": [
       "Uploading Dataframe: 0.00% |          | Rows 0/3 | Elapsed Time: 00:00 | Remaining Time: ?"
      ]
     },
     "metadata": {},
     "output_type": "display_data"
    },
    {
     "name": "stdout",
     "output_type": "stream",
     "text": [
      "Launching offline feature group backfill job...\n",
      "Backfill Job started successfully, you can follow the progress at \n",
      "https://c.app.hopsworks.ai/p/5318/jobs/named/streamflow_fg_1_offline_fg_backfill/executions\n"
     ]
    },
    {
     "data": {
      "text/plain": [
       "(<hsfs.core.job.Job at 0x15375793d90>, None)"
      ]
     },
     "execution_count": 12,
     "metadata": {},
     "output_type": "execute_result"
    }
   ],
   "source": [
    "streamflow_fg.insert(df_streamflow)"
   ]
  },
  {
   "cell_type": "code",
   "execution_count": 13,
   "id": "be0c498e",
   "metadata": {
    "colab": {
     "base_uri": "https://localhost:8080/",
     "height": 118,
     "referenced_widgets": [
      "9f00d33d6de94930a7b9434765424999",
      "c3bacd1a7dc2448cb8f8be4b380c3fa5",
      "8204b5f7d6ef4491b08691e40a3c69e6",
      "ab7c974cd19c4f2f878dd0166811e80e",
      "54f498e9644c4adb86400f8b1105e151",
      "f928df3a7ce94e6dbbcb51bb9b60827c",
      "4ad77dbc250640329a15a20f8b7f62a9",
      "60366343660849b59e4db295f39ff30a",
      "ed34742aab8346d38724259538be6245",
      "108db7feeb2b426c815f01759a85ceef",
      "b37dabf8ca1246ee9a781ec0bbeab18d"
     ]
    },
    "id": "be0c498e",
    "outputId": "15d1d7e9-2cc0-44bc-931e-0fa2b3b41121"
   },
   "outputs": [
    {
     "data": {
      "application/vnd.jupyter.widget-view+json": {
       "model_id": "4fa4903979364e328c8c93890d34ef3e",
       "version_major": 2,
       "version_minor": 0
      },
      "text/plain": [
       "Uploading Dataframe: 0.00% |          | Rows 0/24 | Elapsed Time: 00:00 | Remaining Time: ?"
      ]
     },
     "metadata": {},
     "output_type": "display_data"
    },
    {
     "name": "stdout",
     "output_type": "stream",
     "text": [
      "Launching offline feature group backfill job...\n",
      "Backfill Job started successfully, you can follow the progress at \n",
      "https://c.app.hopsworks.ai/p/5318/jobs/named/weather_fg_1_offline_fg_backfill/executions\n"
     ]
    },
    {
     "data": {
      "text/plain": [
       "(<hsfs.core.job.Job at 0x1537532c340>, None)"
      ]
     },
     "execution_count": 13,
     "metadata": {},
     "output_type": "execute_result"
    }
   ],
   "source": [
    "weather_fg.insert(df_weather)"
   ]
  },
  {
   "cell_type": "markdown",
   "id": "b3b7d4c4",
   "metadata": {
    "id": "b3b7d4c4"
   },
   "source": [
    "---"
   ]
  }
 ],
 "metadata": {
  "colab": {
   "include_colab_link": true,
   "provenance": []
  },
  "kernelspec": {
   "display_name": "Python 3 (ipykernel)",
   "language": "python",
   "name": "python3"
  },
  "language_info": {
   "codemirror_mode": {
    "name": "ipython",
    "version": 3
   },
   "file_extension": ".py",
   "mimetype": "text/x-python",
   "name": "python",
   "nbconvert_exporter": "python",
   "pygments_lexer": "ipython3",
   "version": "3.9.15"
  },
  "vscode": {
   "interpreter": {
    "hash": "190ea7959a836f4799545ea0f3718ade3abee093b15861ffdc25233d6ab7050e"
   }
  },
  "widgets": {
   "application/vnd.jupyter.widget-state+json": {
    "0709d88c61484f968f0f162483fabe2b": {
     "model_module": "@jupyter-widgets/controls",
     "model_module_version": "1.5.0",
     "model_name": "FloatProgressModel",
     "state": {
      "_dom_classes": [],
      "_model_module": "@jupyter-widgets/controls",
      "_model_module_version": "1.5.0",
      "_model_name": "FloatProgressModel",
      "_view_count": null,
      "_view_module": "@jupyter-widgets/controls",
      "_view_module_version": "1.5.0",
      "_view_name": "ProgressView",
      "bar_style": "success",
      "description": "",
      "description_tooltip": null,
      "layout": "IPY_MODEL_21543565248343d7b61bd742babf2218",
      "max": 20,
      "min": 0,
      "orientation": "horizontal",
      "style": "IPY_MODEL_9f608a0e161d48ed96ab60fb358f7648",
      "value": 20
     }
    },
    "108db7feeb2b426c815f01759a85ceef": {
     "model_module": "@jupyter-widgets/base",
     "model_module_version": "1.2.0",
     "model_name": "LayoutModel",
     "state": {
      "_model_module": "@jupyter-widgets/base",
      "_model_module_version": "1.2.0",
      "_model_name": "LayoutModel",
      "_view_count": null,
      "_view_module": "@jupyter-widgets/base",
      "_view_module_version": "1.2.0",
      "_view_name": "LayoutView",
      "align_content": null,
      "align_items": null,
      "align_self": null,
      "border": null,
      "bottom": null,
      "display": null,
      "flex": null,
      "flex_flow": null,
      "grid_area": null,
      "grid_auto_columns": null,
      "grid_auto_flow": null,
      "grid_auto_rows": null,
      "grid_column": null,
      "grid_gap": null,
      "grid_row": null,
      "grid_template_areas": null,
      "grid_template_columns": null,
      "grid_template_rows": null,
      "height": null,
      "justify_content": null,
      "justify_items": null,
      "left": null,
      "margin": null,
      "max_height": null,
      "max_width": null,
      "min_height": null,
      "min_width": null,
      "object_fit": null,
      "object_position": null,
      "order": null,
      "overflow": null,
      "overflow_x": null,
      "overflow_y": null,
      "padding": null,
      "right": null,
      "top": null,
      "visibility": null,
      "width": null
     }
    },
    "12df21da7c1141d597e3afe85386dd73": {
     "model_module": "@jupyter-widgets/base",
     "model_module_version": "1.2.0",
     "model_name": "LayoutModel",
     "state": {
      "_model_module": "@jupyter-widgets/base",
      "_model_module_version": "1.2.0",
      "_model_name": "LayoutModel",
      "_view_count": null,
      "_view_module": "@jupyter-widgets/base",
      "_view_module_version": "1.2.0",
      "_view_name": "LayoutView",
      "align_content": null,
      "align_items": null,
      "align_self": null,
      "border": null,
      "bottom": null,
      "display": null,
      "flex": null,
      "flex_flow": null,
      "grid_area": null,
      "grid_auto_columns": null,
      "grid_auto_flow": null,
      "grid_auto_rows": null,
      "grid_column": null,
      "grid_gap": null,
      "grid_row": null,
      "grid_template_areas": null,
      "grid_template_columns": null,
      "grid_template_rows": null,
      "height": null,
      "justify_content": null,
      "justify_items": null,
      "left": null,
      "margin": null,
      "max_height": null,
      "max_width": null,
      "min_height": null,
      "min_width": null,
      "object_fit": null,
      "object_position": null,
      "order": null,
      "overflow": null,
      "overflow_x": null,
      "overflow_y": null,
      "padding": null,
      "right": null,
      "top": null,
      "visibility": null,
      "width": null
     }
    },
    "1a80a032205b4037ac2e48ce02b3a996": {
     "model_module": "@jupyter-widgets/base",
     "model_module_version": "1.2.0",
     "model_name": "LayoutModel",
     "state": {
      "_model_module": "@jupyter-widgets/base",
      "_model_module_version": "1.2.0",
      "_model_name": "LayoutModel",
      "_view_count": null,
      "_view_module": "@jupyter-widgets/base",
      "_view_module_version": "1.2.0",
      "_view_name": "LayoutView",
      "align_content": null,
      "align_items": null,
      "align_self": null,
      "border": null,
      "bottom": null,
      "display": null,
      "flex": null,
      "flex_flow": null,
      "grid_area": null,
      "grid_auto_columns": null,
      "grid_auto_flow": null,
      "grid_auto_rows": null,
      "grid_column": null,
      "grid_gap": null,
      "grid_row": null,
      "grid_template_areas": null,
      "grid_template_columns": null,
      "grid_template_rows": null,
      "height": null,
      "justify_content": null,
      "justify_items": null,
      "left": null,
      "margin": null,
      "max_height": null,
      "max_width": null,
      "min_height": null,
      "min_width": null,
      "object_fit": null,
      "object_position": null,
      "order": null,
      "overflow": null,
      "overflow_x": null,
      "overflow_y": null,
      "padding": null,
      "right": null,
      "top": null,
      "visibility": null,
      "width": null
     }
    },
    "202c90af4fd64cdca69a6a0346249c3e": {
     "model_module": "@jupyter-widgets/controls",
     "model_module_version": "1.5.0",
     "model_name": "DescriptionStyleModel",
     "state": {
      "_model_module": "@jupyter-widgets/controls",
      "_model_module_version": "1.5.0",
      "_model_name": "DescriptionStyleModel",
      "_view_count": null,
      "_view_module": "@jupyter-widgets/base",
      "_view_module_version": "1.2.0",
      "_view_name": "StyleView",
      "description_width": ""
     }
    },
    "21543565248343d7b61bd742babf2218": {
     "model_module": "@jupyter-widgets/base",
     "model_module_version": "1.2.0",
     "model_name": "LayoutModel",
     "state": {
      "_model_module": "@jupyter-widgets/base",
      "_model_module_version": "1.2.0",
      "_model_name": "LayoutModel",
      "_view_count": null,
      "_view_module": "@jupyter-widgets/base",
      "_view_module_version": "1.2.0",
      "_view_name": "LayoutView",
      "align_content": null,
      "align_items": null,
      "align_self": null,
      "border": null,
      "bottom": null,
      "display": null,
      "flex": null,
      "flex_flow": null,
      "grid_area": null,
      "grid_auto_columns": null,
      "grid_auto_flow": null,
      "grid_auto_rows": null,
      "grid_column": null,
      "grid_gap": null,
      "grid_row": null,
      "grid_template_areas": null,
      "grid_template_columns": null,
      "grid_template_rows": null,
      "height": null,
      "justify_content": null,
      "justify_items": null,
      "left": null,
      "margin": null,
      "max_height": null,
      "max_width": null,
      "min_height": null,
      "min_width": null,
      "object_fit": null,
      "object_position": null,
      "order": null,
      "overflow": null,
      "overflow_x": null,
      "overflow_y": null,
      "padding": null,
      "right": null,
      "top": null,
      "visibility": null,
      "width": null
     }
    },
    "4ad77dbc250640329a15a20f8b7f62a9": {
     "model_module": "@jupyter-widgets/controls",
     "model_module_version": "1.5.0",
     "model_name": "DescriptionStyleModel",
     "state": {
      "_model_module": "@jupyter-widgets/controls",
      "_model_module_version": "1.5.0",
      "_model_name": "DescriptionStyleModel",
      "_view_count": null,
      "_view_module": "@jupyter-widgets/base",
      "_view_module_version": "1.2.0",
      "_view_name": "StyleView",
      "description_width": ""
     }
    },
    "54f498e9644c4adb86400f8b1105e151": {
     "model_module": "@jupyter-widgets/base",
     "model_module_version": "1.2.0",
     "model_name": "LayoutModel",
     "state": {
      "_model_module": "@jupyter-widgets/base",
      "_model_module_version": "1.2.0",
      "_model_name": "LayoutModel",
      "_view_count": null,
      "_view_module": "@jupyter-widgets/base",
      "_view_module_version": "1.2.0",
      "_view_name": "LayoutView",
      "align_content": null,
      "align_items": null,
      "align_self": null,
      "border": null,
      "bottom": null,
      "display": null,
      "flex": null,
      "flex_flow": null,
      "grid_area": null,
      "grid_auto_columns": null,
      "grid_auto_flow": null,
      "grid_auto_rows": null,
      "grid_column": null,
      "grid_gap": null,
      "grid_row": null,
      "grid_template_areas": null,
      "grid_template_columns": null,
      "grid_template_rows": null,
      "height": null,
      "justify_content": null,
      "justify_items": null,
      "left": null,
      "margin": null,
      "max_height": null,
      "max_width": null,
      "min_height": null,
      "min_width": null,
      "object_fit": null,
      "object_position": null,
      "order": null,
      "overflow": null,
      "overflow_x": null,
      "overflow_y": null,
      "padding": null,
      "right": null,
      "top": null,
      "visibility": null,
      "width": null
     }
    },
    "60366343660849b59e4db295f39ff30a": {
     "model_module": "@jupyter-widgets/base",
     "model_module_version": "1.2.0",
     "model_name": "LayoutModel",
     "state": {
      "_model_module": "@jupyter-widgets/base",
      "_model_module_version": "1.2.0",
      "_model_name": "LayoutModel",
      "_view_count": null,
      "_view_module": "@jupyter-widgets/base",
      "_view_module_version": "1.2.0",
      "_view_name": "LayoutView",
      "align_content": null,
      "align_items": null,
      "align_self": null,
      "border": null,
      "bottom": null,
      "display": null,
      "flex": null,
      "flex_flow": null,
      "grid_area": null,
      "grid_auto_columns": null,
      "grid_auto_flow": null,
      "grid_auto_rows": null,
      "grid_column": null,
      "grid_gap": null,
      "grid_row": null,
      "grid_template_areas": null,
      "grid_template_columns": null,
      "grid_template_rows": null,
      "height": null,
      "justify_content": null,
      "justify_items": null,
      "left": null,
      "margin": null,
      "max_height": null,
      "max_width": null,
      "min_height": null,
      "min_width": null,
      "object_fit": null,
      "object_position": null,
      "order": null,
      "overflow": null,
      "overflow_x": null,
      "overflow_y": null,
      "padding": null,
      "right": null,
      "top": null,
      "visibility": null,
      "width": null
     }
    },
    "6ae210663a6e44b395f103c94b98fb98": {
     "model_module": "@jupyter-widgets/controls",
     "model_module_version": "1.5.0",
     "model_name": "HBoxModel",
     "state": {
      "_dom_classes": [],
      "_model_module": "@jupyter-widgets/controls",
      "_model_module_version": "1.5.0",
      "_model_name": "HBoxModel",
      "_view_count": null,
      "_view_module": "@jupyter-widgets/controls",
      "_view_module_version": "1.5.0",
      "_view_name": "HBoxView",
      "box_style": "",
      "children": [
       "IPY_MODEL_a472e798698547c4a1ba250bb481a1ca",
       "IPY_MODEL_0709d88c61484f968f0f162483fabe2b",
       "IPY_MODEL_c18a267f2b984d438130a7087bf85ead"
      ],
      "layout": "IPY_MODEL_1a80a032205b4037ac2e48ce02b3a996"
     }
    },
    "8204b5f7d6ef4491b08691e40a3c69e6": {
     "model_module": "@jupyter-widgets/controls",
     "model_module_version": "1.5.0",
     "model_name": "FloatProgressModel",
     "state": {
      "_dom_classes": [],
      "_model_module": "@jupyter-widgets/controls",
      "_model_module_version": "1.5.0",
      "_model_name": "FloatProgressModel",
      "_view_count": null,
      "_view_module": "@jupyter-widgets/controls",
      "_view_module_version": "1.5.0",
      "_view_name": "ProgressView",
      "bar_style": "success",
      "description": "",
      "description_tooltip": null,
      "layout": "IPY_MODEL_60366343660849b59e4db295f39ff30a",
      "max": 21,
      "min": 0,
      "orientation": "horizontal",
      "style": "IPY_MODEL_ed34742aab8346d38724259538be6245",
      "value": 21
     }
    },
    "9f00d33d6de94930a7b9434765424999": {
     "model_module": "@jupyter-widgets/controls",
     "model_module_version": "1.5.0",
     "model_name": "HBoxModel",
     "state": {
      "_dom_classes": [],
      "_model_module": "@jupyter-widgets/controls",
      "_model_module_version": "1.5.0",
      "_model_name": "HBoxModel",
      "_view_count": null,
      "_view_module": "@jupyter-widgets/controls",
      "_view_module_version": "1.5.0",
      "_view_name": "HBoxView",
      "box_style": "",
      "children": [
       "IPY_MODEL_c3bacd1a7dc2448cb8f8be4b380c3fa5",
       "IPY_MODEL_8204b5f7d6ef4491b08691e40a3c69e6",
       "IPY_MODEL_ab7c974cd19c4f2f878dd0166811e80e"
      ],
      "layout": "IPY_MODEL_54f498e9644c4adb86400f8b1105e151"
     }
    },
    "9f608a0e161d48ed96ab60fb358f7648": {
     "model_module": "@jupyter-widgets/controls",
     "model_module_version": "1.5.0",
     "model_name": "ProgressStyleModel",
     "state": {
      "_model_module": "@jupyter-widgets/controls",
      "_model_module_version": "1.5.0",
      "_model_name": "ProgressStyleModel",
      "_view_count": null,
      "_view_module": "@jupyter-widgets/base",
      "_view_module_version": "1.2.0",
      "_view_name": "StyleView",
      "bar_color": null,
      "description_width": ""
     }
    },
    "a472e798698547c4a1ba250bb481a1ca": {
     "model_module": "@jupyter-widgets/controls",
     "model_module_version": "1.5.0",
     "model_name": "HTMLModel",
     "state": {
      "_dom_classes": [],
      "_model_module": "@jupyter-widgets/controls",
      "_model_module_version": "1.5.0",
      "_model_name": "HTMLModel",
      "_view_count": null,
      "_view_module": "@jupyter-widgets/controls",
      "_view_module_version": "1.5.0",
      "_view_name": "HTMLView",
      "description": "",
      "description_tooltip": null,
      "layout": "IPY_MODEL_bd8320063f574d4ebcf344c5e55c3cea",
      "placeholder": "​",
      "style": "IPY_MODEL_fe630515ce204e409a02cc1b61712566",
      "value": "Uploading Dataframe: 100.00% "
     }
    },
    "ab7c974cd19c4f2f878dd0166811e80e": {
     "model_module": "@jupyter-widgets/controls",
     "model_module_version": "1.5.0",
     "model_name": "HTMLModel",
     "state": {
      "_dom_classes": [],
      "_model_module": "@jupyter-widgets/controls",
      "_model_module_version": "1.5.0",
      "_model_name": "HTMLModel",
      "_view_count": null,
      "_view_module": "@jupyter-widgets/controls",
      "_view_module_version": "1.5.0",
      "_view_name": "HTMLView",
      "description": "",
      "description_tooltip": null,
      "layout": "IPY_MODEL_108db7feeb2b426c815f01759a85ceef",
      "placeholder": "​",
      "style": "IPY_MODEL_b37dabf8ca1246ee9a781ec0bbeab18d",
      "value": " Rows 21/21 | Elapsed Time: 00:00 | Remaining Time: 00:00"
     }
    },
    "b37dabf8ca1246ee9a781ec0bbeab18d": {
     "model_module": "@jupyter-widgets/controls",
     "model_module_version": "1.5.0",
     "model_name": "DescriptionStyleModel",
     "state": {
      "_model_module": "@jupyter-widgets/controls",
      "_model_module_version": "1.5.0",
      "_model_name": "DescriptionStyleModel",
      "_view_count": null,
      "_view_module": "@jupyter-widgets/base",
      "_view_module_version": "1.2.0",
      "_view_name": "StyleView",
      "description_width": ""
     }
    },
    "bd8320063f574d4ebcf344c5e55c3cea": {
     "model_module": "@jupyter-widgets/base",
     "model_module_version": "1.2.0",
     "model_name": "LayoutModel",
     "state": {
      "_model_module": "@jupyter-widgets/base",
      "_model_module_version": "1.2.0",
      "_model_name": "LayoutModel",
      "_view_count": null,
      "_view_module": "@jupyter-widgets/base",
      "_view_module_version": "1.2.0",
      "_view_name": "LayoutView",
      "align_content": null,
      "align_items": null,
      "align_self": null,
      "border": null,
      "bottom": null,
      "display": null,
      "flex": null,
      "flex_flow": null,
      "grid_area": null,
      "grid_auto_columns": null,
      "grid_auto_flow": null,
      "grid_auto_rows": null,
      "grid_column": null,
      "grid_gap": null,
      "grid_row": null,
      "grid_template_areas": null,
      "grid_template_columns": null,
      "grid_template_rows": null,
      "height": null,
      "justify_content": null,
      "justify_items": null,
      "left": null,
      "margin": null,
      "max_height": null,
      "max_width": null,
      "min_height": null,
      "min_width": null,
      "object_fit": null,
      "object_position": null,
      "order": null,
      "overflow": null,
      "overflow_x": null,
      "overflow_y": null,
      "padding": null,
      "right": null,
      "top": null,
      "visibility": null,
      "width": null
     }
    },
    "c18a267f2b984d438130a7087bf85ead": {
     "model_module": "@jupyter-widgets/controls",
     "model_module_version": "1.5.0",
     "model_name": "HTMLModel",
     "state": {
      "_dom_classes": [],
      "_model_module": "@jupyter-widgets/controls",
      "_model_module_version": "1.5.0",
      "_model_name": "HTMLModel",
      "_view_count": null,
      "_view_module": "@jupyter-widgets/controls",
      "_view_module_version": "1.5.0",
      "_view_name": "HTMLView",
      "description": "",
      "description_tooltip": null,
      "layout": "IPY_MODEL_12df21da7c1141d597e3afe85386dd73",
      "placeholder": "​",
      "style": "IPY_MODEL_202c90af4fd64cdca69a6a0346249c3e",
      "value": " Rows 20/20 | Elapsed Time: 00:00 | Remaining Time: 00:00"
     }
    },
    "c3bacd1a7dc2448cb8f8be4b380c3fa5": {
     "model_module": "@jupyter-widgets/controls",
     "model_module_version": "1.5.0",
     "model_name": "HTMLModel",
     "state": {
      "_dom_classes": [],
      "_model_module": "@jupyter-widgets/controls",
      "_model_module_version": "1.5.0",
      "_model_name": "HTMLModel",
      "_view_count": null,
      "_view_module": "@jupyter-widgets/controls",
      "_view_module_version": "1.5.0",
      "_view_name": "HTMLView",
      "description": "",
      "description_tooltip": null,
      "layout": "IPY_MODEL_f928df3a7ce94e6dbbcb51bb9b60827c",
      "placeholder": "​",
      "style": "IPY_MODEL_4ad77dbc250640329a15a20f8b7f62a9",
      "value": "Uploading Dataframe: 100.00% "
     }
    },
    "ed34742aab8346d38724259538be6245": {
     "model_module": "@jupyter-widgets/controls",
     "model_module_version": "1.5.0",
     "model_name": "ProgressStyleModel",
     "state": {
      "_model_module": "@jupyter-widgets/controls",
      "_model_module_version": "1.5.0",
      "_model_name": "ProgressStyleModel",
      "_view_count": null,
      "_view_module": "@jupyter-widgets/base",
      "_view_module_version": "1.2.0",
      "_view_name": "StyleView",
      "bar_color": null,
      "description_width": ""
     }
    },
    "f928df3a7ce94e6dbbcb51bb9b60827c": {
     "model_module": "@jupyter-widgets/base",
     "model_module_version": "1.2.0",
     "model_name": "LayoutModel",
     "state": {
      "_model_module": "@jupyter-widgets/base",
      "_model_module_version": "1.2.0",
      "_model_name": "LayoutModel",
      "_view_count": null,
      "_view_module": "@jupyter-widgets/base",
      "_view_module_version": "1.2.0",
      "_view_name": "LayoutView",
      "align_content": null,
      "align_items": null,
      "align_self": null,
      "border": null,
      "bottom": null,
      "display": null,
      "flex": null,
      "flex_flow": null,
      "grid_area": null,
      "grid_auto_columns": null,
      "grid_auto_flow": null,
      "grid_auto_rows": null,
      "grid_column": null,
      "grid_gap": null,
      "grid_row": null,
      "grid_template_areas": null,
      "grid_template_columns": null,
      "grid_template_rows": null,
      "height": null,
      "justify_content": null,
      "justify_items": null,
      "left": null,
      "margin": null,
      "max_height": null,
      "max_width": null,
      "min_height": null,
      "min_width": null,
      "object_fit": null,
      "object_position": null,
      "order": null,
      "overflow": null,
      "overflow_x": null,
      "overflow_y": null,
      "padding": null,
      "right": null,
      "top": null,
      "visibility": null,
      "width": null
     }
    },
    "fe630515ce204e409a02cc1b61712566": {
     "model_module": "@jupyter-widgets/controls",
     "model_module_version": "1.5.0",
     "model_name": "DescriptionStyleModel",
     "state": {
      "_model_module": "@jupyter-widgets/controls",
      "_model_module_version": "1.5.0",
      "_model_name": "DescriptionStyleModel",
      "_view_count": null,
      "_view_module": "@jupyter-widgets/base",
      "_view_module_version": "1.2.0",
      "_view_name": "StyleView",
      "description_width": ""
     }
    }
   }
  }
 },
 "nbformat": 4,
 "nbformat_minor": 5
}
