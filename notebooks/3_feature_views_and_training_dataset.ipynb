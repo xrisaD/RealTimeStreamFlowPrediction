{
 "cells": [
  {
   "cell_type": "markdown",
   "id": "7eb83ff8",
   "metadata": {
    "id": "7eb83ff8"
   },
   "source": [
    "# <span style=\"font-width:bold; font-size: 3rem; color:#1EB182;\"> **Hopsworks Feature Store** </span><span style=\"font-width:bold; font-size: 3rem; color:#333;\">- Part 03: Training Data & Feature views</span>\n",
    "\n",
    "\n",
    "<span style=\"font-width:bold; font-size: 1.4rem;\">This notebook explains how to read from a feature group and create training dataset within the feature store</span>\n",
    "\n",
    "## 🗒️ This notebook is divided into the following sections:\n",
    "\n",
    "1. Fetch Feature Groups\n",
    "2. Create Feature Views\n",
    "3. Create Training Dataset with training and test splits\n",
    " "
   ]
  },
  {
   "cell_type": "markdown",
   "id": "a0b3bcd1",
   "metadata": {
    "id": "a0b3bcd1"
   },
   "source": [
    "## <span style=\"color:#ff5f27;\"> 📡 Connecting to Hopsworks Feature Store </span>"
   ]
  },
  {
   "cell_type": "code",
   "execution_count": 1,
   "id": "89ad779f",
   "metadata": {
    "colab": {
     "base_uri": "https://localhost:8080/"
    },
    "id": "89ad779f",
    "outputId": "bf6d7b59-d824-4c6a-e0b8-5ae65a2b5a71"
   },
   "outputs": [
    {
     "name": "stdout",
     "output_type": "stream",
     "text": [
      "Connected. Call `.close()` to terminate connection gracefully.\n",
      "\n",
      "Logged in to project, explore it here https://c.app.hopsworks.ai:443/p/5318\n"
     ]
    },
    {
     "name": "stderr",
     "output_type": "stream",
     "text": [
      "DeprecationWarning: the imp module is deprecated in favour of importlib; see the module's documentation for alternative uses\n"
     ]
    },
    {
     "name": "stdout",
     "output_type": "stream",
     "text": [
      "Connected. Call `.close()` to terminate connection gracefully.\n"
     ]
    }
   ],
   "source": [
    "import hopsworks\n",
    "\n",
    "project = hopsworks.login()\n",
    "\n",
    "fs = project.get_feature_store() "
   ]
  },
  {
   "cell_type": "code",
   "execution_count": 2,
   "id": "735a083e",
   "metadata": {
    "id": "735a083e"
   },
   "outputs": [],
   "source": [
    "streamflow_fg = fs.get_or_create_feature_group(\n",
    "    name = 'streamflow_fg',\n",
    "    version = 1\n",
    ")\n",
    "weather_fg = fs.get_or_create_feature_group(\n",
    "    name = 'weather_fg',\n",
    "    version = 1\n",
    ")"
   ]
  },
  {
   "cell_type": "code",
   "execution_count": 3,
   "id": "c1c1f115",
   "metadata": {
    "id": "c1c1f115"
   },
   "outputs": [],
   "source": [
    "query = streamflow_fg.select_all().join(weather_fg.select_all())"
   ]
  },
  {
   "cell_type": "code",
   "execution_count": 4,
   "id": "8946c204",
   "metadata": {
    "colab": {
     "base_uri": "https://localhost:8080/",
     "height": 432
    },
    "id": "8946c204",
    "outputId": "71c70ba0-abcb-4e2d-9471-4cae117b4bcc",
    "scrolled": true
   },
   "outputs": [
    {
     "name": "stdout",
     "output_type": "stream",
     "text": [
      "2022-12-23 12:35:46,898 INFO: USE `irisflowers_featurestore`\n",
      "2022-12-23 12:35:47,511 INFO: WITH right_fg0 AS (SELECT *\n",
      "FROM (SELECT `fg1`.`date` `date`, `fg1`.`streamflow` `streamflow`, `fg1`.`place` `place`, `fg1`.`date` `join_pk_date`, `fg1`.`place` `join_pk_place`, `fg1`.`date` `join_evt_date`, `fg0`.`temperature_2m_max` `temperature_2m_max`, `fg0`.`temperature_2m_min` `temperature_2m_min`, `fg0`.`precipitation_sum` `precipitation_sum`, `fg0`.`rain_sum` `rain_sum`, `fg0`.`snowfall_sum` `snowfall_sum`, `fg0`.`precipitation_hours` `precipitation_hours`, `fg0`.`windspeed_10m_max` `windspeed_10m_max`, `fg0`.`windgusts_10m_max` `windgusts_10m_max`, `fg0`.`winddirection_10m_dominant` `winddirection_10m_dominant`, `fg0`.`et0_fao_evapotranspiration` `et0_fao_evapotranspiration`, RANK() OVER (PARTITION BY `fg0`.`date`, `fg0`.`place`, `fg1`.`date` ORDER BY `fg0`.`date` DESC) pit_rank_hopsworks\n",
      "FROM `irisflowers_featurestore`.`streamflow_fg_1` `fg1`\n",
      "INNER JOIN `irisflowers_featurestore`.`weather_fg_1` `fg0` ON `fg1`.`date` = `fg0`.`date` AND `fg1`.`place` = `fg0`.`place` AND `fg1`.`date` >= `fg0`.`date`) NA\n",
      "WHERE `pit_rank_hopsworks` = 1) (SELECT `right_fg0`.`date` `date`, `right_fg0`.`streamflow` `streamflow`, `right_fg0`.`place` `place`, `right_fg0`.`temperature_2m_max` `temperature_2m_max`, `right_fg0`.`temperature_2m_min` `temperature_2m_min`, `right_fg0`.`precipitation_sum` `precipitation_sum`, `right_fg0`.`rain_sum` `rain_sum`, `right_fg0`.`snowfall_sum` `snowfall_sum`, `right_fg0`.`precipitation_hours` `precipitation_hours`, `right_fg0`.`windspeed_10m_max` `windspeed_10m_max`, `right_fg0`.`windgusts_10m_max` `windgusts_10m_max`, `right_fg0`.`winddirection_10m_dominant` `winddirection_10m_dominant`, `right_fg0`.`et0_fao_evapotranspiration` `et0_fao_evapotranspiration`\n",
      "FROM right_fg0)\n"
     ]
    },
    {
     "name": "stderr",
     "output_type": "stream",
     "text": [
      "UserWarning: pandas only supports SQLAlchemy connectable (engine/connection) or database string URI or sqlite3 DBAPI2 connection. Other DBAPI2 objects are not tested. Please consider using SQLAlchemy.\n"
     ]
    },
    {
     "data": {
      "text/html": [
       "<div>\n",
       "<style scoped>\n",
       "    .dataframe tbody tr th:only-of-type {\n",
       "        vertical-align: middle;\n",
       "    }\n",
       "\n",
       "    .dataframe tbody tr th {\n",
       "        vertical-align: top;\n",
       "    }\n",
       "\n",
       "    .dataframe thead th {\n",
       "        text-align: right;\n",
       "    }\n",
       "</style>\n",
       "<table border=\"1\" class=\"dataframe\">\n",
       "  <thead>\n",
       "    <tr style=\"text-align: right;\">\n",
       "      <th></th>\n",
       "      <th>date</th>\n",
       "      <th>streamflow</th>\n",
       "      <th>place</th>\n",
       "      <th>temperature_2m_max</th>\n",
       "      <th>temperature_2m_min</th>\n",
       "      <th>precipitation_sum</th>\n",
       "      <th>rain_sum</th>\n",
       "      <th>snowfall_sum</th>\n",
       "      <th>precipitation_hours</th>\n",
       "      <th>windspeed_10m_max</th>\n",
       "      <th>windgusts_10m_max</th>\n",
       "      <th>winddirection_10m_dominant</th>\n",
       "      <th>et0_fao_evapotranspiration</th>\n",
       "    </tr>\n",
       "  </thead>\n",
       "  <tbody>\n",
       "    <tr>\n",
       "      <th>0</th>\n",
       "      <td>1671663600000</td>\n",
       "      <td>30.4489</td>\n",
       "      <td>Abisko</td>\n",
       "      <td>-6.4</td>\n",
       "      <td>-11.2</td>\n",
       "      <td>0.6</td>\n",
       "      <td>0.0</td>\n",
       "      <td>0.42</td>\n",
       "      <td>6.0</td>\n",
       "      <td>16.6</td>\n",
       "      <td>36.0</td>\n",
       "      <td>224.0</td>\n",
       "      <td>0.04</td>\n",
       "    </tr>\n",
       "    <tr>\n",
       "      <th>1</th>\n",
       "      <td>1671663600000</td>\n",
       "      <td>5.8187</td>\n",
       "      <td>Spånga</td>\n",
       "      <td>5.2</td>\n",
       "      <td>3.6</td>\n",
       "      <td>3.0</td>\n",
       "      <td>1.7</td>\n",
       "      <td>0.00</td>\n",
       "      <td>12.0</td>\n",
       "      <td>18.0</td>\n",
       "      <td>37.8</td>\n",
       "      <td>215.0</td>\n",
       "      <td>0.08</td>\n",
       "    </tr>\n",
       "    <tr>\n",
       "      <th>2</th>\n",
       "      <td>1671663600000</td>\n",
       "      <td>5.0213</td>\n",
       "      <td>Uppsala</td>\n",
       "      <td>4.3</td>\n",
       "      <td>3.1</td>\n",
       "      <td>1.0</td>\n",
       "      <td>0.2</td>\n",
       "      <td>0.00</td>\n",
       "      <td>5.0</td>\n",
       "      <td>18.0</td>\n",
       "      <td>32.0</td>\n",
       "      <td>208.0</td>\n",
       "      <td>0.06</td>\n",
       "    </tr>\n",
       "    <tr>\n",
       "      <th>3</th>\n",
       "      <td>1671231600000</td>\n",
       "      <td>33.2854</td>\n",
       "      <td>Abisko</td>\n",
       "      <td>-7.2</td>\n",
       "      <td>-9.9</td>\n",
       "      <td>0.3</td>\n",
       "      <td>0.0</td>\n",
       "      <td>0.21</td>\n",
       "      <td>3.0</td>\n",
       "      <td>6.9</td>\n",
       "      <td>26.6</td>\n",
       "      <td>293.0</td>\n",
       "      <td>0.00</td>\n",
       "    </tr>\n",
       "    <tr>\n",
       "      <th>4</th>\n",
       "      <td>1671231600000</td>\n",
       "      <td>5.3238</td>\n",
       "      <td>Spånga</td>\n",
       "      <td>0.7</td>\n",
       "      <td>-7.9</td>\n",
       "      <td>1.7</td>\n",
       "      <td>0.1</td>\n",
       "      <td>1.12</td>\n",
       "      <td>8.0</td>\n",
       "      <td>21.3</td>\n",
       "      <td>48.6</td>\n",
       "      <td>257.0</td>\n",
       "      <td>0.08</td>\n",
       "    </tr>\n",
       "    <tr>\n",
       "      <th>...</th>\n",
       "      <td>...</td>\n",
       "      <td>...</td>\n",
       "      <td>...</td>\n",
       "      <td>...</td>\n",
       "      <td>...</td>\n",
       "      <td>...</td>\n",
       "      <td>...</td>\n",
       "      <td>...</td>\n",
       "      <td>...</td>\n",
       "      <td>...</td>\n",
       "      <td>...</td>\n",
       "      <td>...</td>\n",
       "      <td>...</td>\n",
       "    </tr>\n",
       "    <tr>\n",
       "      <th>2063</th>\n",
       "      <td>1609542000000</td>\n",
       "      <td>15.5454</td>\n",
       "      <td>Spånga</td>\n",
       "      <td>1.0</td>\n",
       "      <td>0.2</td>\n",
       "      <td>0.0</td>\n",
       "      <td>0.0</td>\n",
       "      <td>0.00</td>\n",
       "      <td>0.0</td>\n",
       "      <td>8.5</td>\n",
       "      <td>18.0</td>\n",
       "      <td>27.0</td>\n",
       "      <td>0.08</td>\n",
       "    </tr>\n",
       "    <tr>\n",
       "      <th>2064</th>\n",
       "      <td>1609542000000</td>\n",
       "      <td>20.4436</td>\n",
       "      <td>Uppsala</td>\n",
       "      <td>1.1</td>\n",
       "      <td>0.2</td>\n",
       "      <td>0.6</td>\n",
       "      <td>0.2</td>\n",
       "      <td>0.42</td>\n",
       "      <td>4.0</td>\n",
       "      <td>10.9</td>\n",
       "      <td>22.7</td>\n",
       "      <td>49.0</td>\n",
       "      <td>0.04</td>\n",
       "    </tr>\n",
       "    <tr>\n",
       "      <th>2065</th>\n",
       "      <td>1609455600000</td>\n",
       "      <td>28.7626</td>\n",
       "      <td>Abisko</td>\n",
       "      <td>-3.3</td>\n",
       "      <td>-10.9</td>\n",
       "      <td>0.0</td>\n",
       "      <td>0.0</td>\n",
       "      <td>0.00</td>\n",
       "      <td>0.0</td>\n",
       "      <td>11.3</td>\n",
       "      <td>38.9</td>\n",
       "      <td>123.0</td>\n",
       "      <td>0.00</td>\n",
       "    </tr>\n",
       "    <tr>\n",
       "      <th>2066</th>\n",
       "      <td>1609455600000</td>\n",
       "      <td>16.2807</td>\n",
       "      <td>Spånga</td>\n",
       "      <td>1.9</td>\n",
       "      <td>-0.3</td>\n",
       "      <td>0.8</td>\n",
       "      <td>0.3</td>\n",
       "      <td>0.35</td>\n",
       "      <td>7.0</td>\n",
       "      <td>11.5</td>\n",
       "      <td>24.5</td>\n",
       "      <td>122.0</td>\n",
       "      <td>0.08</td>\n",
       "    </tr>\n",
       "    <tr>\n",
       "      <th>2067</th>\n",
       "      <td>1609455600000</td>\n",
       "      <td>21.3916</td>\n",
       "      <td>Uppsala</td>\n",
       "      <td>2.5</td>\n",
       "      <td>0.7</td>\n",
       "      <td>1.0</td>\n",
       "      <td>0.8</td>\n",
       "      <td>0.14</td>\n",
       "      <td>4.0</td>\n",
       "      <td>9.4</td>\n",
       "      <td>17.3</td>\n",
       "      <td>108.0</td>\n",
       "      <td>0.04</td>\n",
       "    </tr>\n",
       "  </tbody>\n",
       "</table>\n",
       "<p>2068 rows × 13 columns</p>\n",
       "</div>"
      ],
      "text/plain": [
       "               date  streamflow    place  temperature_2m_max  \\\n",
       "0     1671663600000     30.4489   Abisko                -6.4   \n",
       "1     1671663600000      5.8187   Spånga                 5.2   \n",
       "2     1671663600000      5.0213  Uppsala                 4.3   \n",
       "3     1671231600000     33.2854   Abisko                -7.2   \n",
       "4     1671231600000      5.3238   Spånga                 0.7   \n",
       "...             ...         ...      ...                 ...   \n",
       "2063  1609542000000     15.5454   Spånga                 1.0   \n",
       "2064  1609542000000     20.4436  Uppsala                 1.1   \n",
       "2065  1609455600000     28.7626   Abisko                -3.3   \n",
       "2066  1609455600000     16.2807   Spånga                 1.9   \n",
       "2067  1609455600000     21.3916  Uppsala                 2.5   \n",
       "\n",
       "      temperature_2m_min  precipitation_sum  rain_sum  snowfall_sum  \\\n",
       "0                  -11.2                0.6       0.0          0.42   \n",
       "1                    3.6                3.0       1.7          0.00   \n",
       "2                    3.1                1.0       0.2          0.00   \n",
       "3                   -9.9                0.3       0.0          0.21   \n",
       "4                   -7.9                1.7       0.1          1.12   \n",
       "...                  ...                ...       ...           ...   \n",
       "2063                 0.2                0.0       0.0          0.00   \n",
       "2064                 0.2                0.6       0.2          0.42   \n",
       "2065               -10.9                0.0       0.0          0.00   \n",
       "2066                -0.3                0.8       0.3          0.35   \n",
       "2067                 0.7                1.0       0.8          0.14   \n",
       "\n",
       "      precipitation_hours  windspeed_10m_max  windgusts_10m_max  \\\n",
       "0                     6.0               16.6               36.0   \n",
       "1                    12.0               18.0               37.8   \n",
       "2                     5.0               18.0               32.0   \n",
       "3                     3.0                6.9               26.6   \n",
       "4                     8.0               21.3               48.6   \n",
       "...                   ...                ...                ...   \n",
       "2063                  0.0                8.5               18.0   \n",
       "2064                  4.0               10.9               22.7   \n",
       "2065                  0.0               11.3               38.9   \n",
       "2066                  7.0               11.5               24.5   \n",
       "2067                  4.0                9.4               17.3   \n",
       "\n",
       "      winddirection_10m_dominant  et0_fao_evapotranspiration  \n",
       "0                          224.0                        0.04  \n",
       "1                          215.0                        0.08  \n",
       "2                          208.0                        0.06  \n",
       "3                          293.0                        0.00  \n",
       "4                          257.0                        0.08  \n",
       "...                          ...                         ...  \n",
       "2063                        27.0                        0.08  \n",
       "2064                        49.0                        0.04  \n",
       "2065                       123.0                        0.00  \n",
       "2066                       122.0                        0.08  \n",
       "2067                       108.0                        0.04  \n",
       "\n",
       "[2068 rows x 13 columns]"
      ]
     },
     "execution_count": 4,
     "metadata": {},
     "output_type": "execute_result"
    }
   ],
   "source": [
    "query.read()"
   ]
  },
  {
   "cell_type": "markdown",
   "id": "be427dca",
   "metadata": {
    "id": "be427dca"
   },
   "source": [
    "--- \n",
    "\n",
    "## <span style=\"color:#ff5f27;\"> 🖍 Feature View Creation and Retrieving </span>"
   ]
  },
  {
   "cell_type": "code",
   "execution_count": 5,
   "id": "7aad7489",
   "metadata": {
    "id": "7aad7489"
   },
   "outputs": [],
   "source": [
    "# category_cols = ['city','date','conditions','aqi']\n",
    "\n",
    "# mapping_transformers = {col_name:fs.get_transformation_function(name='standard_scaler') for col_name in col_names if col_name not in category_cols}\n",
    "# category_cols = {col_name:fs.get_transformation_function(name='label_encoder') for col_name in category_cols if col_name not in ['date','aqi']}\n",
    "\n",
    "# mapping_transformers.update(category_cols)"
   ]
  },
  {
   "cell_type": "markdown",
   "id": "ef390e39",
   "metadata": {},
   "source": [
    "Create the `Feature View`:"
   ]
  },
  {
   "cell_type": "code",
   "execution_count": 7,
   "id": "403df0b4",
   "metadata": {
    "colab": {
     "base_uri": "https://localhost:8080/"
    },
    "id": "403df0b4",
    "outputId": "24365418-80ef-45bf-828d-752c409f8006"
   },
   "outputs": [
    {
     "name": "stdout",
     "output_type": "stream",
     "text": [
      "Feature view created successfully, explore it at \n",
      "https://c.app.hopsworks.ai:443/p/5318/fs/5238/fv/streamflow_fv/version/1\n"
     ]
    }
   ],
   "source": [
    "feature_view = fs.create_feature_view(\n",
    "    name = 'streamflow_fv',\n",
    "    version = 1,\n",
    "    #transformation_functions = mapping_transformers,\n",
    "    query = query\n",
    ")"
   ]
  },
  {
   "cell_type": "markdown",
   "id": "0c723c54",
   "metadata": {
    "id": "0c723c54"
   },
   "source": [
    "For now `Feature View` is saved in Hopsworks and you can retrieve it using `FeatureStore.get_feature_view()`."
   ]
  },
  {
   "cell_type": "code",
   "execution_count": 8,
   "id": "721c4bcf",
   "metadata": {
    "id": "721c4bcf"
   },
   "outputs": [],
   "source": [
    "feature_view = fs.get_feature_view(\n",
    "    name = 'streamflow_fv',\n",
    "    version = 1\n",
    ")"
   ]
  },
  {
   "cell_type": "code",
   "execution_count": 12,
   "id": "86a6e0ba",
   "metadata": {},
   "outputs": [
    {
     "name": "stderr",
     "output_type": "stream",
     "text": [
      "VersionWarning: No training dataset version was provided to initialise batch scoring . Defaulting to version 1.\n"
     ]
    },
    {
     "name": "stdout",
     "output_type": "stream",
     "text": [
      "2022-12-23 12:56:33,480 INFO: USE `irisflowers_featurestore`\n",
      "2022-12-23 12:56:34,067 INFO: WITH right_fg0 AS (SELECT *\n",
      "FROM (SELECT `fg1`.`date` `date`, `fg1`.`streamflow` `streamflow`, `fg1`.`place` `place`, `fg1`.`date` `join_pk_date`, `fg1`.`place` `join_pk_place`, `fg1`.`date` `join_evt_date`, `fg0`.`temperature_2m_max` `temperature_2m_max`, `fg0`.`temperature_2m_min` `temperature_2m_min`, `fg0`.`precipitation_sum` `precipitation_sum`, `fg0`.`rain_sum` `rain_sum`, `fg0`.`snowfall_sum` `snowfall_sum`, `fg0`.`precipitation_hours` `precipitation_hours`, `fg0`.`windspeed_10m_max` `windspeed_10m_max`, `fg0`.`windgusts_10m_max` `windgusts_10m_max`, `fg0`.`winddirection_10m_dominant` `winddirection_10m_dominant`, `fg0`.`et0_fao_evapotranspiration` `et0_fao_evapotranspiration`, RANK() OVER (PARTITION BY `fg1`.`date`, `fg1`.`place`, `fg1`.`date` ORDER BY `fg0`.`date` DESC) pit_rank_hopsworks\n",
      "FROM `irisflowers_featurestore`.`streamflow_fg_1` `fg1`\n",
      "INNER JOIN `irisflowers_featurestore`.`weather_fg_1` `fg0` ON `fg1`.`date` = `fg0`.`date` AND `fg1`.`place` = `fg0`.`place` AND `fg1`.`date` >= `fg0`.`date`\n",
      "WHERE `fg1`.`date` >= 1671494400000) NA\n",
      "WHERE `pit_rank_hopsworks` = 1) (SELECT `right_fg0`.`date` `date`, `right_fg0`.`streamflow` `streamflow`, `right_fg0`.`place` `place`, `right_fg0`.`temperature_2m_max` `temperature_2m_max`, `right_fg0`.`temperature_2m_min` `temperature_2m_min`, `right_fg0`.`precipitation_sum` `precipitation_sum`, `right_fg0`.`rain_sum` `rain_sum`, `right_fg0`.`snowfall_sum` `snowfall_sum`, `right_fg0`.`precipitation_hours` `precipitation_hours`, `right_fg0`.`windspeed_10m_max` `windspeed_10m_max`, `right_fg0`.`windgusts_10m_max` `windgusts_10m_max`, `right_fg0`.`winddirection_10m_dominant` `winddirection_10m_dominant`, `right_fg0`.`et0_fao_evapotranspiration` `et0_fao_evapotranspiration`\n",
      "FROM right_fg0)\n"
     ]
    },
    {
     "name": "stderr",
     "output_type": "stream",
     "text": [
      "UserWarning: pandas only supports SQLAlchemy connectable (engine/connection) or database string URI or sqlite3 DBAPI2 connection. Other DBAPI2 objects are not tested. Please consider using SQLAlchemy.\n"
     ]
    }
   ],
   "source": [
    "from datetime import datetime, timedelta\n",
    "\n",
    "def get_yesterday(the_date, days_to_subtract=1):\n",
    "    the_date = (the_date - timedelta(days=days_to_subtract)).strftime(\"%Y-%m-%d\")\n",
    "    the_date = datetime.strptime(the_date, '%Y-%m-%d')\n",
    "    return the_date\n",
    "\n",
    "start_date = get_yesterday(datetime.today(), 1)\n",
    "X = feature_view.get_batch_data(start_time=start_date)"
   ]
  },
  {
   "cell_type": "code",
   "execution_count": 15,
   "id": "75ec6346",
   "metadata": {},
   "outputs": [
    {
     "name": "stdout",
     "output_type": "stream",
     "text": [
      "2022-12-23 12:57:44,828 INFO: USE `irisflowers_featurestore`\n",
      "2022-12-23 12:57:45,366 INFO: WITH right_fg0 AS (SELECT *\n",
      "FROM (SELECT `fg1`.`date` `date`, `fg1`.`streamflow` `streamflow`, `fg1`.`place` `place`, `fg1`.`date` `join_pk_date`, `fg1`.`place` `join_pk_place`, `fg1`.`date` `join_evt_date`, `fg0`.`temperature_2m_max` `temperature_2m_max`, `fg0`.`temperature_2m_min` `temperature_2m_min`, `fg0`.`precipitation_sum` `precipitation_sum`, `fg0`.`rain_sum` `rain_sum`, `fg0`.`snowfall_sum` `snowfall_sum`, `fg0`.`precipitation_hours` `precipitation_hours`, `fg0`.`windspeed_10m_max` `windspeed_10m_max`, `fg0`.`windgusts_10m_max` `windgusts_10m_max`, `fg0`.`winddirection_10m_dominant` `winddirection_10m_dominant`, `fg0`.`et0_fao_evapotranspiration` `et0_fao_evapotranspiration`, RANK() OVER (PARTITION BY `fg1`.`date`, `fg1`.`place`, `fg1`.`date` ORDER BY `fg0`.`date` DESC) pit_rank_hopsworks\n",
      "FROM `irisflowers_featurestore`.`streamflow_fg_1` `fg1`\n",
      "INNER JOIN `irisflowers_featurestore`.`weather_fg_1` `fg0` ON `fg1`.`date` = `fg0`.`date` AND `fg1`.`place` = `fg0`.`place` AND `fg1`.`date` >= `fg0`.`date`\n",
      "WHERE `fg1`.`date` >= 1671580800000) NA\n",
      "WHERE `pit_rank_hopsworks` = 1) (SELECT `right_fg0`.`date` `date`, `right_fg0`.`streamflow` `streamflow`, `right_fg0`.`place` `place`, `right_fg0`.`temperature_2m_max` `temperature_2m_max`, `right_fg0`.`temperature_2m_min` `temperature_2m_min`, `right_fg0`.`precipitation_sum` `precipitation_sum`, `right_fg0`.`rain_sum` `rain_sum`, `right_fg0`.`snowfall_sum` `snowfall_sum`, `right_fg0`.`precipitation_hours` `precipitation_hours`, `right_fg0`.`windspeed_10m_max` `windspeed_10m_max`, `right_fg0`.`windgusts_10m_max` `windgusts_10m_max`, `right_fg0`.`winddirection_10m_dominant` `winddirection_10m_dominant`, `right_fg0`.`et0_fao_evapotranspiration` `et0_fao_evapotranspiration`\n",
      "FROM right_fg0)\n"
     ]
    },
    {
     "name": "stderr",
     "output_type": "stream",
     "text": [
      "UserWarning: pandas only supports SQLAlchemy connectable (engine/connection) or database string URI or sqlite3 DBAPI2 connection. Other DBAPI2 objects are not tested. Please consider using SQLAlchemy.\n"
     ]
    },
    {
     "data": {
      "text/html": [
       "<div>\n",
       "<style scoped>\n",
       "    .dataframe tbody tr th:only-of-type {\n",
       "        vertical-align: middle;\n",
       "    }\n",
       "\n",
       "    .dataframe tbody tr th {\n",
       "        vertical-align: top;\n",
       "    }\n",
       "\n",
       "    .dataframe thead th {\n",
       "        text-align: right;\n",
       "    }\n",
       "</style>\n",
       "<table border=\"1\" class=\"dataframe\">\n",
       "  <thead>\n",
       "    <tr style=\"text-align: right;\">\n",
       "      <th></th>\n",
       "      <th>date</th>\n",
       "      <th>streamflow</th>\n",
       "      <th>place</th>\n",
       "      <th>temperature_2m_max</th>\n",
       "      <th>temperature_2m_min</th>\n",
       "      <th>precipitation_sum</th>\n",
       "      <th>rain_sum</th>\n",
       "      <th>snowfall_sum</th>\n",
       "      <th>precipitation_hours</th>\n",
       "      <th>windspeed_10m_max</th>\n",
       "      <th>windgusts_10m_max</th>\n",
       "      <th>winddirection_10m_dominant</th>\n",
       "      <th>et0_fao_evapotranspiration</th>\n",
       "    </tr>\n",
       "  </thead>\n",
       "  <tbody>\n",
       "    <tr>\n",
       "      <th>0</th>\n",
       "      <td>1671663600000</td>\n",
       "      <td>30.4489</td>\n",
       "      <td>Abisko</td>\n",
       "      <td>-6.4</td>\n",
       "      <td>-11.2</td>\n",
       "      <td>0.6</td>\n",
       "      <td>0.0</td>\n",
       "      <td>0.42</td>\n",
       "      <td>6.0</td>\n",
       "      <td>16.6</td>\n",
       "      <td>36.0</td>\n",
       "      <td>224.0</td>\n",
       "      <td>0.04</td>\n",
       "    </tr>\n",
       "    <tr>\n",
       "      <th>1</th>\n",
       "      <td>1671663600000</td>\n",
       "      <td>5.8187</td>\n",
       "      <td>Spånga</td>\n",
       "      <td>5.2</td>\n",
       "      <td>3.6</td>\n",
       "      <td>3.0</td>\n",
       "      <td>1.7</td>\n",
       "      <td>0.00</td>\n",
       "      <td>12.0</td>\n",
       "      <td>18.0</td>\n",
       "      <td>37.8</td>\n",
       "      <td>215.0</td>\n",
       "      <td>0.08</td>\n",
       "    </tr>\n",
       "    <tr>\n",
       "      <th>2</th>\n",
       "      <td>1671663600000</td>\n",
       "      <td>5.0213</td>\n",
       "      <td>Uppsala</td>\n",
       "      <td>4.3</td>\n",
       "      <td>3.1</td>\n",
       "      <td>1.0</td>\n",
       "      <td>0.2</td>\n",
       "      <td>0.00</td>\n",
       "      <td>5.0</td>\n",
       "      <td>18.0</td>\n",
       "      <td>32.0</td>\n",
       "      <td>208.0</td>\n",
       "      <td>0.06</td>\n",
       "    </tr>\n",
       "  </tbody>\n",
       "</table>\n",
       "</div>"
      ],
      "text/plain": [
       "            date  streamflow    place  temperature_2m_max  temperature_2m_min  \\\n",
       "0  1671663600000     30.4489   Abisko                -6.4               -11.2   \n",
       "1  1671663600000      5.8187   Spånga                 5.2                 3.6   \n",
       "2  1671663600000      5.0213  Uppsala                 4.3                 3.1   \n",
       "\n",
       "   precipitation_sum  rain_sum  snowfall_sum  precipitation_hours  \\\n",
       "0                0.6       0.0          0.42                  6.0   \n",
       "1                3.0       1.7          0.00                 12.0   \n",
       "2                1.0       0.2          0.00                  5.0   \n",
       "\n",
       "   windspeed_10m_max  windgusts_10m_max  winddirection_10m_dominant  \\\n",
       "0               16.6               36.0                       224.0   \n",
       "1               18.0               37.8                       215.0   \n",
       "2               18.0               32.0                       208.0   \n",
       "\n",
       "   et0_fao_evapotranspiration  \n",
       "0                        0.04  \n",
       "1                        0.08  \n",
       "2                        0.06  "
      ]
     },
     "execution_count": 15,
     "metadata": {},
     "output_type": "execute_result"
    }
   ],
   "source": [
    "start_date = get_yesterday(datetime.today(), 2)\n",
    "X = feature_view.get_batch_data(start_time=start_date)\n",
    "X"
   ]
  },
  {
   "cell_type": "markdown",
   "id": "6e1187a2",
   "metadata": {
    "id": "6e1187a2"
   },
   "source": [
    "---\n",
    "\n",
    "## <span style=\"color:#ff5f27;\"> 🏋️ Training Dataset Creation</span>\n",
    "\n",
    "In Hopsworks training data is a query where the projection (set of features) is determined by the parent FeatureView with an optional snapshot on disk of the data returned by the query.\n",
    "\n",
    "**Training Dataset  may contain splits such as:** \n",
    "* Training set - the subset of training data used to train a model.\n",
    "* Validation set - the subset of training data used to evaluate hparams when training a model\n",
    "* Test set - the holdout subset of training data used to evaluate a mode\n",
    "\n",
    "To create training dataset you use `FeatureView.create_training_data()` method.\n",
    "\n",
    "Here are some importand things:\n",
    "\n",
    "- It will inherit the name of FeatureView.\n",
    "\n",
    "- The feature store currently supports the following data formats for\n",
    "training datasets: **tfrecord, csv, tsv, parquet, avro, orc**.\n",
    "\n",
    "- You can choose necessary format using **data_format** parameter.\n",
    "\n",
    "- **start_time** and **end_time** in order to filter dataset in specific time range."
   ]
  },
  {
   "cell_type": "code",
   "execution_count": 9,
   "id": "d48ea9da",
   "metadata": {},
   "outputs": [
    {
     "name": "stdout",
     "output_type": "stream",
     "text": [
      "Training dataset job started successfully, you can follow the progress at \n",
      "https://c.app.hopsworks.ai/p/5318/jobs/named/streamflow_fv_1_1_create_fv_td_23122022113710/executions\n"
     ]
    },
    {
     "name": "stderr",
     "output_type": "stream",
     "text": [
      "VersionWarning: Incremented version to `1`.\n"
     ]
    },
    {
     "data": {
      "text/plain": [
       "(1, <hsfs.core.job.Job at 0x1b418a784f0>)"
      ]
     },
     "execution_count": 9,
     "metadata": {},
     "output_type": "execute_result"
    }
   ],
   "source": [
    "feature_view.create_training_data()"
   ]
  },
  {
   "cell_type": "markdown",
   "id": "d51507c0",
   "metadata": {
    "id": "d51507c0"
   },
   "source": [
    "## <span style=\"color:#ff5f27;\">⏭️ **Next:** Part 04 </span>\n",
    "\n",
    "In the next notebook you will train a model on the dataset, that was created in this notebook."
   ]
  }
 ],
 "metadata": {
  "colab": {
   "provenance": []
  },
  "kernelspec": {
   "display_name": "Python 3 (ipykernel)",
   "language": "python",
   "name": "python3"
  },
  "language_info": {
   "codemirror_mode": {
    "name": "ipython",
    "version": 3
   },
   "file_extension": ".py",
   "mimetype": "text/x-python",
   "name": "python",
   "nbconvert_exporter": "python",
   "pygments_lexer": "ipython3",
   "version": "3.9.15"
  }
 },
 "nbformat": 4,
 "nbformat_minor": 5
}
